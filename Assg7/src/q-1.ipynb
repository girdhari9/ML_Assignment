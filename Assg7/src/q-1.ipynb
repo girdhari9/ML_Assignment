{
 "cells": [
  {
   "cell_type": "markdown",
   "metadata": {},
   "source": [
    "### Import-Libraries"
   ]
  },
  {
   "cell_type": "code",
   "execution_count": 135,
   "metadata": {},
   "outputs": [],
   "source": [
    "import pandas as pd\n",
    "import matplotlib.pyplot as plt\n",
    "import numpy as np\n",
    "import random\n",
    "import os, sys\n",
    "from random import randint\n",
    "from math import exp, pi\n",
    "from sklearn.model_selection import KFold\n",
    "eps = np.finfo(float).eps"
   ]
  },
  {
   "cell_type": "markdown",
   "metadata": {},
   "source": [
    "#### Data reading and preprocessing"
   ]
  },
  {
   "cell_type": "code",
   "execution_count": 120,
   "metadata": {},
   "outputs": [],
   "source": [
    "def train_test_split(df, test_size):\n",
    "    if isinstance(test_size, float):\n",
    "        test_size = round(test_size * len(df))\n",
    "    indices = df.index.tolist()\n",
    "    test_indices = random.sample(population=indices, k=test_size)\n",
    "    \n",
    "    test_df = df.loc[test_indices]\n",
    "    train_df = df.drop(test_indices)\n",
    "    return train_df, test_df"
   ]
  },
  {
   "cell_type": "code",
   "execution_count": 121,
   "metadata": {},
   "outputs": [],
   "source": [
    "def dataNormalization(train, test, target):\n",
    "    testFeatures = test.drop([target], axis = 1)\n",
    "    trainFeatures = train.drop([target], axis = 1)\n",
    "\n",
    "    trainStd = trainFeatures.std()\n",
    "    trainMean = trainFeatures.mean()\n",
    "    \n",
    "    '''\n",
    "    Normalising Train Data & Test Data\n",
    "    '''\n",
    "    trainFeatures = (trainFeatures - trainMean) / trainStd\n",
    "    testFeatures = (testFeatures - trainMean) / trainStd\n",
    "    \n",
    "    return trainFeatures, testFeatures"
   ]
  },
  {
   "cell_type": "code",
   "execution_count": 122,
   "metadata": {},
   "outputs": [],
   "source": [
    "if __name__ == \"__main__\":\n",
    "    '''\n",
    "    Reading data and Seperating features and label (X,Y)\n",
    "    '''\n",
    "    df = pd.read_csv(\"../input_data/AdmissionDataset/data.csv\")\n",
    "    df = df.drop(['Serial No.'], axis = 1)\n",
    "    target = 'Chance of Admit '\n",
    "    \n",
    "    '''\n",
    "    Splitting Data into training and test set\n",
    "    '''\n",
    "    train, test = train_test_split(df, test_size = 0.2)\n",
    "    trainData, testData = dataNormalization(train, test, target)\n",
    "    trainData = np.concatenate((np.ones([trainData.shape[0], 1]), trainData),axis=1)"
   ]
  },
  {
   "cell_type": "markdown",
   "metadata": {},
   "source": [
    "#### Gradient Descent"
   ]
  },
  {
   "cell_type": "code",
   "execution_count": 123,
   "metadata": {},
   "outputs": [],
   "source": [
    "def sign(val):\n",
    "    if val >= 0:\n",
    "        return 1;\n",
    "    else: \n",
    "        return -1;"
   ]
  },
  {
   "cell_type": "code",
   "execution_count": 124,
   "metadata": {},
   "outputs": [],
   "source": [
    "def gradient_descent_L1(x, y, lembda):\n",
    "    '''\n",
    "    Initialising the coeficients with 0's\n",
    "    '''\n",
    "    m_curr = [0 for i in range(8)]\n",
    "    learning_rate, n, iterations = 0.1, len(x), 500\n",
    "    for i in range(0, iterations, 1):\n",
    "        '''\n",
    "        Predicting the training data so to compute cost\n",
    "        '''\n",
    "        y_predicted = 0\n",
    "        for i in range(8):\n",
    "            y_predicted += m_curr[i] * x[:,i]\n",
    "        \n",
    "        '''\n",
    "        Gradient of Loss Function With L1 Factor\n",
    "        '''\n",
    "        md = [None for i in range(8)]\n",
    "        md[0] = (1/n)*sum(x[:,0]*(y_predicted-y))\n",
    "        for i in range(1, 8, 1):\n",
    "            md[i] = (1/n)*sum(x[:,i]*(y_predicted-y))+ (1/n)*lembda*sign(m_curr[i])\n",
    "                \n",
    "        '''\n",
    "        Changing Coefficients\n",
    "        '''    \n",
    "        for i in range(8):\n",
    "            m_curr[i] = m_curr[i] - learning_rate * md[i]\n",
    "        \n",
    "    '''\n",
    "    Predicting the training data at the end so as to compute final training data error\n",
    "    '''\n",
    "    for i in range(8):\n",
    "        y_predicted += m_curr[i] * x[:,i]\n",
    "    err = y-y_predicted\n",
    "    error = (1/(2*n)) * sum([val**2 for val in (err)])\n",
    "    \n",
    "    '''\n",
    "    Returning Model i.e., coeficients with training data error\n",
    "    '''\n",
    "    return m_curr, error"
   ]
  },
  {
   "cell_type": "code",
   "execution_count": 125,
   "metadata": {},
   "outputs": [],
   "source": [
    "def gradient_descent_L2(x,y,lembda):\n",
    "    '''\n",
    "    Initialising the coeficients with 0's\n",
    "    '''\n",
    "    m_curr = [0 for i in range(8)]\n",
    "    learning_rate, n, iterations = 0.1, len(x), 500\n",
    "    for i in range(0, iterations, 1):\n",
    "        '''\n",
    "        Predicting the training data so to compute cost\n",
    "        '''\n",
    "        y_predicted = 0\n",
    "        for i in range(8):\n",
    "            y_predicted += m_curr[i] * x[:,i]\n",
    "        \n",
    "        '''\n",
    "        Gradient of Loss Function With L1 Factor\n",
    "        '''\n",
    "        md = [None for i in range(8)]\n",
    "        md[0] = (1/n)*sum(x[:,0]*(y_predicted-y))\n",
    "        for i in range(1, 8, 1):\n",
    "            md[i] = (1/n)*sum(x[:,i]*(y_predicted-y))+ (1/n)*lembda * m_curr[i]\n",
    "                \n",
    "        '''\n",
    "        Changing Coefficients\n",
    "        '''    \n",
    "        for i in range(8):\n",
    "            m_curr[i] = m_curr[i] - learning_rate * md[i]\n",
    "        \n",
    "    '''\n",
    "    Predicting the training data at the end so as to compute final training data error\n",
    "    '''\n",
    "    for i in range(8):\n",
    "        y_predicted += m_curr[i] * x[:,i]\n",
    "    err = y-y_predicted\n",
    "    error = (1/(2*n)) * sum([val**2 for val in (err)])\n",
    "    \n",
    "    '''\n",
    "    Returning Model i.e., coeficients with training data error\n",
    "    '''\n",
    "    return m_curr, error"
   ]
  },
  {
   "cell_type": "markdown",
   "metadata": {},
   "source": [
    "#### Prediction Function "
   ]
  },
  {
   "cell_type": "markdown",
   "metadata": {},
   "source": [
    "#### Predict Function takes data and predicts on every example and stores into result"
   ]
  },
  {
   "cell_type": "code",
   "execution_count": 126,
   "metadata": {},
   "outputs": [],
   "source": [
    "def predict(model, testData):\n",
    "    '''\n",
    "    Converting dataframe to np array\n",
    "    '''\n",
    "    result = []\n",
    "    for i in range(len(testData)):\n",
    "        pred = predict_one(model,testData.iloc[[i]])\n",
    "        result.append(pred)\n",
    "    return result"
   ]
  },
  {
   "cell_type": "markdown",
   "metadata": {},
   "source": [
    "#### Takes a single example and return prediction"
   ]
  },
  {
   "cell_type": "code",
   "execution_count": 127,
   "metadata": {},
   "outputs": [],
   "source": [
    "def predict_one(model,testRow):\n",
    "    normalised = model[0]\n",
    "    for i in range(1, 8, 1):\n",
    "        val = model[i] * testRow.values[0][i-1]\n",
    "        normalised += val\n",
    "    return normalised"
   ]
  },
  {
   "cell_type": "markdown",
   "metadata": {},
   "source": [
    "###  L1 Regularization"
   ]
  },
  {
   "cell_type": "code",
   "execution_count": 128,
   "metadata": {},
   "outputs": [],
   "source": [
    "e, l, e_t = [], [i for i in range(45)], []\n",
    "for i in range(45):\n",
    "    model, e_ = gradient_descent_L1(trainData, train[target], i)\n",
    "    e_t.append(e_)\n",
    "    n, result = len(testData), predict(model, testData)\n",
    "    total = sum([val**2 for val in (test[target] - result)]\n",
    "    e.append((1/(2*n)) * total)\n",
    "                \n",
    "'''\n",
    "l = lambda values\n",
    "e = test error --> different lambda\n",
    "e_t = train error wrt different lambda\n",
    "'''"
   ]
  },
  {
   "cell_type": "markdown",
   "metadata": {},
   "source": [
    "#### Plotting Graph"
   ]
  },
  {
   "cell_type": "markdown",
   "metadata": {},
   "source": [
    "##### Lambda VS Training Error"
   ]
  },
  {
   "cell_type": "code",
   "execution_count": 145,
   "metadata": {},
   "outputs": [],
   "source": [
    "def plotGraph(xdata, ydata, color):\n",
    "    plt.plot(xdata, ydata, color)\n",
    "    plt.xlabel(\"lambda λ\")\n",
    "    plt.ylabel(\"Error\")\n",
    "    plt.show()"
   ]
  },
  {
   "cell_type": "code",
   "execution_count": 146,
   "metadata": {},
   "outputs": [
    {
     "data": {
      "image/png": "[encoded data removed]",
      "text/plain": [
       "<Figure size 432x288 with 1 Axes>"
      ]
     },
     "metadata": {
      "needs_background": "light"
     },
     "output_type": "display_data"
    }
   ],
   "source": [
    "'''\n",
    "Plotting graph beween lambda values and Training Error\n",
    "'''\n",
    "plotGraph(l, e_t, 'r')"
   ]
  },
  {
   "cell_type": "markdown",
   "metadata": {},
   "source": [
    "##### Lambda VS Testing Error"
   ]
  },
  {
   "cell_type": "code",
   "execution_count": 147,
   "metadata": {},
   "outputs": [
    {
     "data": {
      "image/png": "[encoded data removed]",
      "text/plain": [
       "<Figure size 432x288 with 1 Axes>"
      ]
     },
     "metadata": {
      "needs_background": "light"
     },
     "output_type": "display_data"
    }
   ],
   "source": [
    "'''\n",
    "Plotting graph beween lambda values and Test Error\n",
    "'''\n",
    "plotGraph(l, e, 'b')"
   ]
  },
  {
   "cell_type": "markdown",
   "metadata": {},
   "source": [
    "##### Training and Testing Error in One GRAPH"
   ]
  },
  {
   "cell_type": "markdown",
   "metadata": {},
   "source": [
    "Lasso Regression (Least Absolute Shrinkage and Selection Operator) adds “absolute value of magnitude” of coefficient as penalty term to the loss function.\n",
    "\n",
    "\n",
    "if lambda is zero then we will get back same model i.e., without Regularization whereas very large value will make coefficients zero hence it will under-fit."
   ]
  },
  {
   "cell_type": "markdown",
   "metadata": {},
   "source": [
    "### L2 Regularizatoin"
   ]
  },
  {
   "cell_type": "code",
   "execution_count": 131,
   "metadata": {},
   "outputs": [],
   "source": [
    "l, e, e_t = [i for i in range(45)], [], []\n",
    "for i in range(45):\n",
    "    model, e_ = gradient_descent_L2(trainData, train[target], i)\n",
    "    e_t.append(e_)\n",
    "    n, result = len(testData), predict(model,testData)\n",
    "    total = sum([val**2 for val in (test[target] - result)])\n",
    "    e.append((1/(2*n)) * total)\n",
    "\n",
    "'''\n",
    "l = lambda values\n",
    "e = test error --> different lambda\n",
    "e_t = train error wrt different lambda\n",
    "'''"
   ]
  },
  {
   "cell_type": "code",
   "execution_count": 148,
   "metadata": {},
   "outputs": [
    {
     "data": {
      "image/png": "[encoded data removed]",
      "text/plain": [
       "<Figure size 432x288 with 1 Axes>"
      ]
     },
     "metadata": {
      "needs_background": "light"
     },
     "output_type": "display_data"
    }
   ],
   "source": [
    "'''\n",
    "Plotting graph beween lambda λ values and Training Error\n",
    "'''\n",
    "plotGraph(l, e_t, 'r')"
   ]
  },
  {
   "cell_type": "code",
   "execution_count": 149,
   "metadata": {},
   "outputs": [
    {
     "data": {
      "image/png": "[encoded data removed]",
      "text/plain": [
       "<Figure size 432x288 with 1 Axes>"
      ]
     },
     "metadata": {
      "needs_background": "light"
     },
     "output_type": "display_data"
    }
   ],
   "source": [
    "'''\n",
    "Plotting graph beween lambda values and Training Error\n",
    "'''\n",
    "plotGraph(l, e, 'b')"
   ]
  },
  {
   "cell_type": "markdown",
   "metadata": {},
   "source": [
    "Ridge regression adds “squared magnitude” of coefficient as penalty term to the loss function."
   ]
  },
  {
   "cell_type": "markdown",
   "metadata": {},
   "source": [
    "### 3. Hyper-parameter λ plays a role in deciding between bias and variance\n",
    "Increasing λ decreases the complexness of the model, hence the bias will increase, and also the take a look at accuracy will increase. however when a precise purpose, each errros increase because the weights become negligible"
   ]
  },
  {
   "cell_type": "markdown",
   "metadata": {},
   "source": [
    "### 4. Regularisation techniques affecting regression weight"
   ]
  },
  {
   "cell_type": "code",
   "execution_count": 134,
   "metadata": {},
   "outputs": [
    {
     "name": "stdout",
     "output_type": "stream",
     "text": [
      "For L1 Regularization\n",
      " [0.7216388888888885, 0.00846766751751938, 0.010983230670059092, 0.0017244538861330505, -0.0011218812704397053, 0.01212033783243131, 0.0004209685292772833, 0.005272126991399244] \n",
      "\n",
      "For L2 Regularization\n",
      " [0.7216388888888884, 0.02502281404928044, 0.019241547855442766, 0.008076276493231577, 0.007099938558059715, 0.016076334769657162, 0.049891084183431335, 0.015579398681420956]\n"
     ]
    }
   ],
   "source": [
    "''' \n",
    "Taking Lambda  = 13 As in Graph Error is lesser\n",
    "'''\n",
    "Weights2,_ = gradient_descent_L2(trainData, train[target],i)\n",
    "Weights1,_ = gradient_descent_L1(trainData, train[target],i)\n",
    "print(\"For L1 Regularization\\n\",Weights1,\"\\n\\nFor L2 Regularization\\n\",Weights2)"
   ]
  },
  {
   "cell_type": "markdown",
   "metadata": {},
   "source": [
    "As it can be clearly seen the weights for L1 and approaching more towards 0 and hence reducing the effect of features more adversly as compared to L2 where the weights are more than weights from L1"
   ]
  },
  {
   "cell_type": "markdown",
   "metadata": {},
   "source": [
    "### 5(a)  k-fold cross validation."
   ]
  },
  {
   "cell_type": "code",
   "execution_count": 137,
   "metadata": {},
   "outputs": [],
   "source": [
    "def dataNormalization1(dataFeatures, target):\n",
    "    '''\n",
    "    Storing the mean and standard deviation of training data so as to apply on test data\n",
    "    '''\n",
    "    dataMean = dataFeatures.mean()\n",
    "    dataStd = dataFeatures.std()\n",
    "    \n",
    "    '''\n",
    "    Normalising Train Data\n",
    "    '''\n",
    "    dataFeatures = (dataFeatures - dataMean) / dataStd\n",
    "    \n",
    "    '''\n",
    "    Normalising Test Data\n",
    "    '''\n",
    "    return dataFeatures"
   ]
  },
  {
   "cell_type": "code",
   "execution_count": 138,
   "metadata": {},
   "outputs": [],
   "source": [
    "Features = df.drop([target], axis = 1)\n",
    "data = dataNormalization1(Features, target)\n",
    "Y_full, errors = df[target].values, []\n",
    "X_full = np.concatenate((np.ones([data.shape[0],1]), data), axis = 1)\n",
    "\n",
    "'''\n",
    "Storing Average for k = 2 to 50 number of folds\n",
    "'''\n",
    "for folds in range(2, 50):\n",
    "    kfold, error = KFold(n_splits = folds), 0\n",
    "    for tr_i, ts_i in kfold.split(X_full):\n",
    "        Y_train,Y_test = Y_full[tr_i],Y_full[ts_i]\n",
    "        X_train,X_test = X_full[tr_i],X_full[ts_i]\n",
    "        model,_ = gradient_descent_L2(X_train,Y_train,0)\n",
    "        n, result = len(X_test), predict(model,pd.DataFrame(X_test))\n",
    "        total = sum([val**2 for val in (Y_test-result)])\n",
    "        error += (1/(n)) * total\n",
    "    temp = error/folds\n",
    "    errors.append(temp)"
   ]
  },
  {
   "cell_type": "code",
   "execution_count": 142,
   "metadata": {},
   "outputs": [
    {
     "data": {
      "image/png": "[encoded data removed]",
      "text/plain": [
       "<Figure size 432x288 with 1 Axes>"
      ]
     },
     "metadata": {
      "needs_background": "light"
     },
     "output_type": "display_data"
    }
   ],
   "source": [
    "plt.xlabel(\"K\")\n",
    "plt.ylabel(\"Error\")\n",
    "k = [i  for i in range(2,50)]\n",
    "plt.plot(k, errors, 'r')\n",
    "val =[0.00735,0.00750]\n",
    "plt.gca().set_ylim(val)\n",
    "plt.show()"
   ]
  },
  {
   "cell_type": "markdown",
   "metadata": {},
   "source": [
    "### 5(b)  Leave One out cross validation."
   ]
  },
  {
   "cell_type": "code",
   "execution_count": 101,
   "metadata": {},
   "outputs": [
    {
     "name": "stdout",
     "output_type": "stream",
     "text": [
      "Average Error \n",
      "0.0037082061903709385\n"
     ]
    }
   ],
   "source": [
    "Features = df.drop([target], axis = 1)\n",
    "data = dataNormalization(Features, target)\n",
    "X_full = np.concatenate((np.ones([data.shape[0],1]), data), axis = 1)\n",
    "Y_full, errors = df[target].values, []\n",
    "\n",
    "kfold = KFold(n_splits=len(X_full))\n",
    "error = 0\n",
    "for tr_i, ts_i in kfold.split(X_full):\n",
    "    Y_train, Y_test = Y_full[tr_i],Y_full[ts_i]\n",
    "    X_train, X_test = X_full[tr_i],X_full[ts_i]\n",
    "    model,_ = gradient_descent_L2(X_train,Y_train,0)\n",
    "    n, result = len(X_test), predict(model, pd.DataFrame(X_test))\n",
    "    total = sum([val**2 for val in (Y_test-result)])\n",
    "    error += (1/(2*n)) * total\n",
    "print(\"Average Error \")\n",
    "print(error/len(X_full))"
   ]
  },
  {
   "cell_type": "markdown",
   "metadata": {},
   "source": [
    "Leave One out cross validation is K-fold cross validation taken to its logical extreme, with K equal to N, the number of data points in the set. That means that N separate times, the function approximator is trained on all the data except for one point and a prediction is made for that point. "
   ]
  }
 ],
 "metadata": {
  "kernelspec": {
   "display_name": "Python 3",
   "language": "python",
   "name": "python3"
  },
  "language_info": {
   "codemirror_mode": {
    "name": "ipython",
    "version": 3
   },
   "file_extension": ".py",
   "mimetype": "text/x-python",
   "name": "python",
   "nbconvert_exporter": "python",
   "pygments_lexer": "ipython3",
   "version": "3.6.7"
  }
 },
 "nbformat": 4,
 "nbformat_minor": 2
}
