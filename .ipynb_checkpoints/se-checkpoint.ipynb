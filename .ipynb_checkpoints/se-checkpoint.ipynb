{
 "cells": [
  {
   "cell_type": "markdown",
   "metadata": {},
   "source": [
    "## Import Statements and fetching data from gitlab\n",
    "coding was done google colab"
   ]
  },
  {
   "cell_type": "code",
   "execution_count": 4,
   "metadata": {
    "colab": {},
    "colab_type": "code",
    "id": "7gZGK2vhNdbR"
   },
   "outputs": [],
   "source": [
    "import requests,io\n",
    "import pandas as pd\n",
    "url=\"https://gitlab.com/danishmukhtar/data/raw/74cc75fa25b899c26b889c2a403620eaa9c6d4be/training.csv\"\n",
    "s=requests.get(url).content\n",
    "df=pd.read_csv(io.StringIO(s.decode('utf-8')))"
   ]
  },
  {
   "cell_type": "code",
   "execution_count": 5,
   "metadata": {
    "colab": {},
    "colab_type": "code",
    "id": "gEq7gbDtLiDV"
   },
   "outputs": [],
   "source": [
    "import numpy as np\n",
    "import pandas as pd\n",
    "import matplotlib.pyplot as plt\n",
    "import random\n",
    "from pprint import pprint\n",
    "import math\n",
    "from sklearn.metrics import accuracy_score\n",
    "\n",
    "from sklearn.model_selection import train_test_split\n",
    "eps = np.finfo(float).eps\n",
    "train_data = df\n",
    "Y = train_data.iloc[:,0:1]\n",
    "X = train_data.iloc[:, 1:]\n",
    "X = (X - X.mean())/X.std()\n",
    "X_train, X_test, Y_train, Y_test = train_test_split(X, Y, test_size = 0.2)\n",
    "Tr = X_train.values.tolist()\n",
    "Tr_test = X_test.values.tolist()\n",
    "y_train = Y_train\n",
    "y_train_test = Y_test\n",
    "y_train=pd.concat([y_train,pd.get_dummies(y_train['label'],prefix='label')],axis=1).drop(['label'],axis=1)\n",
    "y_train_test = pd.concat([y_train_test,pd.get_dummies(y_train_test['label'],prefix='label')],axis=1).drop(['label'],axis=1)\n",
    "Tst_tst = y_train_test.values.tolist()\n",
    "Tst = y_train.values.tolist()"
   ]
  },
  {
   "cell_type": "code",
   "execution_count": null,
   "metadata": {},
   "outputs": [],
   "source": []
  },
  {
   "cell_type": "code",
   "execution_count": 7,
   "metadata": {
    "colab": {},
    "colab_type": "code",
    "id": "ZBcOQZxNLiCk"
   },
   "outputs": [],
   "source": [
    "def sigmoid(gamma):\n",
    "    if gamma < 0:\n",
    "        return 1 - 1/(1 + math.exp(gamma))\n",
    "    else:\n",
    "        return 1/(1 + math.exp(-gamma))"
   ]
  },
  {
   "cell_type": "code",
   "execution_count": 8,
   "metadata": {
    "colab": {},
    "colab_type": "code",
    "id": "UBnKaQDyLiCt"
   },
   "outputs": [],
   "source": [
    "def sigmoid_prime(x):\n",
    "    return x*(1- x)"
   ]
  },
  {
   "cell_type": "code",
   "execution_count": 9,
   "metadata": {
    "colab": {},
    "colab_type": "code",
    "id": "R7PGSwuELiC2"
   },
   "outputs": [],
   "source": [
    "def ReLU(x):\n",
    "    return np.maximum(0.0, x)\n",
    "\n",
    "def ReLU_derivation(x):\n",
    "    x=x<0\n",
    "    return x"
   ]
  },
  {
   "cell_type": "code",
   "execution_count": 10,
   "metadata": {
    "colab": {},
    "colab_type": "code",
    "id": "f-FXsstQkrBn"
   },
   "outputs": [],
   "source": [
    "def softmax(self, z):\n",
    "        z = z - z.max(axis=0, keepdims=True)\n",
    "        y = np.exp(z)\n",
    "        y = np.nan_to_num(y)\n",
    "        y = y / y.sum(axis=0, keepdims=True)\n",
    "        return y"
   ]
  },
  {
   "cell_type": "code",
   "execution_count": 11,
   "metadata": {
    "colab": {},
    "colab_type": "code",
    "id": "KUKeuspNLiC8"
   },
   "outputs": [],
   "source": [
    "def tanh(x):\n",
    "    return np.tanh(x)"
   ]
  },
  {
   "cell_type": "code",
   "execution_count": 12,
   "metadata": {
    "colab": {},
    "colab_type": "code",
    "id": "zI_w6ehvLiDD"
   },
   "outputs": [],
   "source": [
    "def tanh_derivation(x):\n",
    "    return 1-x*x"
   ]
  },
  {
   "cell_type": "code",
   "execution_count": 13,
   "metadata": {
    "colab": {},
    "colab_type": "code",
    "id": "afdK-0S2LiDM"
   },
   "outputs": [],
   "source": [
    "class NeuralNetwork:\n",
    "    \n",
    "    def __init__(self,nodes_list,learnign_rate,activation_function,activation_prime):\n",
    "        self.nodes=nodes_list\n",
    "        self.layers=len(nodes_list)\n",
    "        self.weights=[]\n",
    "        self.biases=[]\n",
    "        self.debug=False\n",
    "        self.learning_rate=learnign_rate\n",
    "        self.act_func=activation_function\n",
    "        self.act_func_prime = activation_prime\n",
    "        self.epsilon = 1e-15\n",
    "        for i in range(len(nodes_list)-1):\n",
    "            weight_matrix = np.random.randn(nodes_list[i+1],nodes_list[i])*np.sqrt(2/nodes_list[i])\n",
    "            bias_matrix = np.zeros((nodes_list[i+1],1))\n",
    "            self.weights.append(weight_matrix)\n",
    "            self.biases.append(bias_matrix)\n",
    "            \n",
    "    def compute_cost(self, prediction, target):\n",
    "        m = prediction.shape[1]\n",
    "        clipped = np.clip(prediction, self.epsilon, 1 - self.epsilon)\n",
    "        cost = target * np.log(clipped) + (1 - target) * np.log(1 - clipped)\n",
    "        return -np.sum(cost)/m\n",
    "      \n",
    "    def softmax(self, z):\n",
    "        z = z - z.max(axis=0, keepdims=True)\n",
    "        y = np.exp(z)\n",
    "        y = np.nan_to_num(y)\n",
    "        y = y / y.sum(axis=0, keepdims=True)\n",
    "        return y\n",
    "    def show(self):\n",
    "        print(\"Weights\")\n",
    "        print()\n",
    "        for i in range(len(self.weights)):\n",
    "            print(\"Between \",i,\" and \",i+1)\n",
    "            print(self.weights[i].shape)\n",
    "            print(\"\")\n",
    "        print()\n",
    "        print()\n",
    "        print(\"Biases \")\n",
    "        print()\n",
    "        for i in range(len(self.weights)):\n",
    "            print(\"Between \",i,\" and \",i+1)\n",
    "            print(self.biases[i].shape)\n",
    "            print(\"\")\n",
    "        print()\n",
    "        print()\n",
    "        print(\"Number of Layers : \",self.layers)\n",
    "        print(\"Nodes Per Layer : \",self.nodes)\n",
    "        print(\"Learning Rate : \",self.learning_rate)\n",
    "        print(\"Activation Function: \",self.act_func)\n",
    "        print(\"Activation derivative : \",self.act_func_prime)\n",
    "        \n",
    "    def feed_forward(self,input_array):\n",
    "        X = np.array(input_array).T\n",
    "        for i in range(len(self.weights)-1):\n",
    "            X=np.dot(self.weights[i],X)\n",
    "            X=X+self.biases[i]\n",
    "            ff = np.vectorize(self.act_func)\n",
    "            X=ff(X)\n",
    "            \n",
    "        X=np.dot(self.weights[len(self.weights)-1],X)\n",
    "        X=X+self.biases[len(self.weights)-1]\n",
    "        X=self.softmax(X)\n",
    "        return X\n",
    "      \n",
    "    def train(self,input_array,target,m):\n",
    "        X = np.array(input_array).T\n",
    "        outputs=[]\n",
    "        inputs=[]\n",
    "        inputs.append(X)\n",
    "        for i in range(len(self.weights)-1):\n",
    "            X=np.dot(self.weights[i],X)\n",
    "            X=X+self.biases[i]\n",
    "            ff = np.vectorize(self.act_func)\n",
    "            X=ff(X)\n",
    "            outputs.append(X)\n",
    "            inputs.append(X)\n",
    "        \n",
    "        \n",
    "        X=np.dot(self.weights[len(self.weights)-1],X)\n",
    "        X=X+self.biases[len(self.weights)-1]\n",
    "        X=self.softmax(X)\n",
    "        outputs.append(X)\n",
    "        inputs.append(X)\n",
    "        predicted = X\n",
    "        \n",
    "        target = np.array(target).T\n",
    "        errors=[]\n",
    "        \n",
    "        error = target - predicted\n",
    "        errors.append(error)\n",
    "        i = len(self.weights)-1\n",
    "      \n",
    "        while(i>0):\n",
    "            error  = np.dot(self.weights[i].T,error)\n",
    "            i-=1\n",
    "            errors.append(error)\n",
    "        i = len(self.weights)-1\n",
    "        \n",
    "        errors=list(reversed(errors))\n",
    "        act_fun_pr = self.act_func_prime\n",
    "        \n",
    "        \n",
    "        \n",
    "        \n",
    "        \n",
    "        \n",
    "        gradients = target-predicted\n",
    "        delta_weight = (1/m)*self.learning_rate* np.dot(gradients,inputs[i].T)\n",
    "\n",
    "        self.weights[i]+=delta_weight\n",
    "        meaner = gradients.mean(axis=1)\n",
    "        self.biases[i]+=self.learning_rate * meaner.reshape(len(meaner),1)\n",
    "        i-=1        \n",
    "        \n",
    "        while(i>=0):\n",
    "            gradients = act_fun_pr(outputs[i])\n",
    "            gradients = (errors[i]*gradients)\n",
    "            gradients = gradients.reshape(len(gradients),len(gradients[0]))\n",
    "            delta_weight = (1/m)*self.learning_rate*np.dot(gradients,inputs[i].T)\n",
    "            \n",
    "            self.weights[i]+=delta_weight\n",
    "            meaner = gradients.mean(axis=1)\n",
    "            self.biases[i]+=self.learning_rate*meaner.reshape(len(meaner),1)\n",
    "            i-=1\n",
    "            \n",
    "        return \n",
    "        \n"
   ]
  },
  {
   "cell_type": "markdown",
   "metadata": {
    "colab_type": "text",
    "id": "tHE-8agHAmka"
   },
   "source": [
    "## Activation as Sigmoid"
   ]
  },
  {
   "cell_type": "code",
   "execution_count": 0,
   "metadata": {
    "colab": {},
    "colab_type": "code",
    "id": "lzfahV6xLiEL"
   },
   "outputs": [],
   "source": [
    "from random import randint\n",
    "nn = NeuralNetwork([784,128,10],0.1,sigmoid,sigmoid_prime)\n",
    "batch=512\n",
    "accuracy_list=[]\n",
    "for epocs in range(10):\n",
    "    for i in range(0,48000-batch,batch):\n",
    "        nn.train(Tr[i:i+batch],Tst[i:i+batch],batch)\n",
    "    result = np.argmax(nn.feed_forward(Tr_test),axis=0)\n",
    "    actual = np.argmax(np.array(Tst_tst).T,axis=0)\n",
    "    accuracy_list.append(1-accuracy_score(actual, result))"
   ]
  },
  {
   "cell_type": "code",
   "execution_count": 245,
   "metadata": {
    "colab": {
     "base_uri": "https://localhost:8080/",
     "height": 361
    },
    "colab_type": "code",
    "id": "WREnem4Uu5vq",
    "outputId": "e4ecfa18-8e73-4184-be4f-10a7af3cba49"
   },
   "outputs": [
    {
     "data": {
      "image/png": "[encoded data removed]",
      "text/plain": [
       "<Figure size 576x396 with 1 Axes>"
      ]
     },
     "metadata": {
      "tags": []
     },
     "output_type": "display_data"
    }
   ],
   "source": [
    "import matplotlib.pyplot as plt\n",
    "epoc=[1,2,3,4,5,6,7,8,9,10]\n",
    "plt.plot(epoc, accuracy_list, color='red', linewidth=3)\n",
    "plt.xlabel(\"Epoc\")\n",
    "plt.ylabel(\"Error\")\n",
    "plt.show()"
   ]
  },
  {
   "cell_type": "markdown",
   "metadata": {
    "colab_type": "text",
    "id": "p7FWUXaSAxGq"
   },
   "source": [
    "## Activation as tanh"
   ]
  },
  {
   "cell_type": "code",
   "execution_count": 0,
   "metadata": {
    "colab": {},
    "colab_type": "code",
    "id": "0GhjIG4hLiEm"
   },
   "outputs": [],
   "source": [
    "nt = NeuralNetwork([784,128,10],0.1,tanh,tanh_derivation)\n",
    "from random import randint\n",
    "batch=512\n",
    "accuracy_list=[]\n",
    "for epocs in range(10):\n",
    "    for i in range(0,48000-batch,batch):\n",
    "        nt.train(Tr[i:i+batch],Tst[i:i+batch],batch)\n",
    "    result = np.argmax(nt.feed_forward(Tr_test),axis=0)\n",
    "    actual = np.argmax(np.array(Tst_tst).T,axis=0)\n",
    "    accuracy_list.append(1-accuracy_score(actual, result))"
   ]
  },
  {
   "cell_type": "code",
   "execution_count": 236,
   "metadata": {
    "colab": {
     "base_uri": "https://localhost:8080/",
     "height": 361
    },
    "colab_type": "code",
    "id": "1E9oD19WrPpp",
    "outputId": "0a058c79-0e91-429d-bb10-4e530e59cd2b"
   },
   "outputs": [
    {
     "data": {
      "image/png": "[encoded data removed]",
      "text/plain": [
       "<Figure size 576x396 with 1 Axes>"
      ]
     },
     "metadata": {
      "tags": []
     },
     "output_type": "display_data"
    }
   ],
   "source": [
    "import matplotlib.pyplot as plt\n",
    "epoc=[1,2,3,4,5,6,7,8,9,10]\n",
    "plt.plot(epoc, accuracy_list, color='red', linewidth=3)\n",
    "plt.xlabel(\"Epoc\")\n",
    "plt.ylabel(\"Error\")\n",
    "plt.show()"
   ]
  },
  {
   "cell_type": "markdown",
   "metadata": {
    "colab_type": "text",
    "id": "jXJWic7CA3Jy"
   },
   "source": [
    "## Activation as Relu "
   ]
  },
  {
   "cell_type": "code",
   "execution_count": 0,
   "metadata": {
    "colab": {},
    "colab_type": "code",
    "id": "IMRA-ERlsRiY"
   },
   "outputs": [],
   "source": [
    "from sklearn.metrics import accuracy_score\n",
    "nr = NeuralNetwork([784,128,10],0.5,ReLU,ReLU_derivation)\n",
    "from random import randint\n",
    "batch=512\n",
    "accuracy_list=[]\n",
    "for epocs in range(10):\n",
    "    for i in range(0,48000-batch,batch):\n",
    "        nr.train(Tr[i:i+batch],Tst[i:i+batch],batch)    \n",
    "    result = np.argmax(nr.feed_forward(Tr_test),axis=0)\n",
    "    actual = np.argmax(np.array(Tst_tst).T,axis=0)\n",
    "    accuracy_list.append(1-accuracy_score(actual, result))\n",
    "    "
   ]
  },
  {
   "cell_type": "code",
   "execution_count": 238,
   "metadata": {
    "colab": {
     "base_uri": "https://localhost:8080/",
     "height": 361
    },
    "colab_type": "code",
    "id": "xvLf6QItocMs",
    "outputId": "2ba43297-8c91-4543-ca7a-5359f08e9022"
   },
   "outputs": [
    {
     "data": {
      "image/png": "[encoded data removed]",
      "text/plain": [
       "<Figure size 576x396 with 1 Axes>"
      ]
     },
     "metadata": {
      "tags": []
     },
     "output_type": "display_data"
    }
   ],
   "source": [
    "import matplotlib.pyplot as plt\n",
    "epoc=[1,2,3,4,5,6,7,8,9,10]\n",
    "plt.plot(epoc, accuracy_list, color='red', linewidth=3)\n",
    "plt.xlabel(\"Epoc\")\n",
    "plt.ylabel(\"Error\")\n",
    "plt.show()"
   ]
  },
  {
   "cell_type": "markdown",
   "metadata": {
    "colab_type": "text",
    "id": "tW3Stomd_Tkc"
   },
   "source": [
    "** Observation **\n",
    "\n",
    "> \n",
    "\n",
    "\n",
    "From the various experiments on the nueral network model by changing different parameters like:\n",
    "* Number of hidden layers\n",
    "* Number of nodes in each hidden layer\n",
    "* Activation function\n",
    "\n",
    "\n",
    "For the case with :\n",
    "* Hidden layers = 2\n",
    "* Nodes in both layers = 100\n",
    "* Activation function tanh in hidden layers and softmax in output layers \n",
    "*Traing data 80% of total\n",
    "\n",
    "The accuracy were observed **87.9**%"
   ]
  },
  {
   "cell_type": "markdown",
   "metadata": {
    "colab_type": "text",
    "id": "IF15H-GG-3Oq"
   },
   "source": [
    "## Layers  Vs Prediction Loss for Sigmoid function\n"
   ]
  },
  {
   "cell_type": "code",
   "execution_count": 0,
   "metadata": {
    "colab": {},
    "colab_type": "code",
    "id": "1PRvmBkswedd"
   },
   "outputs": [],
   "source": [
    "from random import randint\n",
    "accuracy_list1=[]\n",
    "layers = [[784,100,10],[784,100,100,10],[784,100,100,32,10]]\n",
    "\n",
    "for i in range(3):\n",
    "    nn = NeuralNetwork(layers[i],0.1,sigmoid,sigmoid_prime)\n",
    "    batch=512\n",
    "    for epocs in range(20):\n",
    "        for i in range(0,48000-batch,batch):\n",
    "            nn.train(Tr[i:i+batch],Tst[i:i+batch],batch)\n",
    "    result = nn.feed_forward(Tr[:48000])\n",
    "    actual = np.array(Tst).T\n",
    "    accuracy_list1.append(nn.compute_cost( result,actual))"
   ]
  },
  {
   "cell_type": "code",
   "execution_count": 274,
   "metadata": {
    "colab": {
     "base_uri": "https://localhost:8080/",
     "height": 361
    },
    "colab_type": "code",
    "id": "-IQuz_pGxrmy",
    "outputId": "ba3c8629-5542-4c5f-bab1-903cda2cfd22"
   },
   "outputs": [
    {
     "data": {
      "image/png": "[encoded data removed]",
      "text/plain": [
       "<Figure size 576x396 with 1 Axes>"
      ]
     },
     "metadata": {
      "tags": []
     },
     "output_type": "display_data"
    }
   ],
   "source": [
    "hidden_layers=[1,2,3]\n",
    "\n",
    "plt.plot(hidden_layers, accuracy_list1, color='blue', linewidth=3)\n",
    "plt.xlabel(\"layers\")\n",
    "plt.ylabel(\"prediction loss\")\n",
    "plt.xticks(hidden_layers)\n",
    "plt.show()"
   ]
  },
  {
   "cell_type": "markdown",
   "metadata": {},
   "source": [
    "## Training for evaluation\n",
    "With every epoc accuracy is increasing"
   ]
  },
  {
   "cell_type": "code",
   "execution_count": 15,
   "metadata": {},
   "outputs": [
    {
     "name": "stdout",
     "output_type": "stream",
     "text": [
      "0.8293333333333334\n",
      "0.84475\n",
      "0.8539166666666667\n",
      "0.85975\n",
      "0.864\n",
      "0.86625\n",
      "0.8674166666666666\n",
      "0.8685\n",
      "0.8705\n",
      "0.8720833333333333\n"
     ]
    }
   ],
   "source": [
    "from sklearn.metrics import accuracy_score\n",
    "\n",
    "nt = NeuralNetwork([784,100,100,10],0.1,tanh,tanh_derivation)\n",
    "from random import randint\n",
    "batch=512\n",
    "accuracy_list=[]\n",
    "for epocs in range(10):\n",
    "    for i in range(0,48000-batch,batch):\n",
    "        nt.train(Tr[i:i+batch],Tst[i:i+batch],batch)\n",
    "    result = np.argmax(nt.feed_forward(Tr_test),axis=0)\n",
    "    actual = np.argmax(np.array(Tst_tst).T,axis=0)\n",
    "    print(accuracy_score(actual, result))"
   ]
  },
  {
   "cell_type": "markdown",
   "metadata": {},
   "source": [
    "## Dumping the result for the test set inscv file\n"
   ]
  },
  {
   "cell_type": "code",
   "execution_count": 24,
   "metadata": {},
   "outputs": [],
   "source": [
    "import pickle\n",
    "with open('data.pkl', 'rb') as input1:\n",
    "    nt = pickle.load(input1)\n",
    "with open('std.pkl', 'rb') as input1:\n",
    "    std = pickle.load(input1)\n",
    "with open('mean.pkl', 'rb') as input1:\n",
    "    mean = pickle.load(input1)\n",
    "    \n",
    "train_data = pd.read_csv('apparel-test.csv')\n",
    "train_data = (train_data - mean)/std\n",
    "X=train_data.values.tolist()\n",
    "result = np.argmax(nt.feed_forward(X),axis=0)\n",
    "np.savetxt(\"2018201016_prediction.csv\", result, delimiter=\",\",fmt=\"%d\")"
   ]
  },
  {
   "cell_type": "markdown",
   "metadata": {},
   "source": [
    "## Dumping the model ,mean and stdandart deviation in pkl format"
   ]
  },
  {
   "cell_type": "code",
   "execution_count": 22,
   "metadata": {},
   "outputs": [],
   "source": [
    "import pickle\n",
    "with open('data.pkl', 'wb') as output:\n",
    "    pickle.dump(nt, output, pickle.HIGHEST_PROTOCOL)\n",
    "with open('mean.pkl', 'wb') as output:\n",
    "    pickle.dump(train_data.iloc[:, 1:].mean(), output, pickle.HIGHEST_PROTOCOL)\n",
    "with open('std.pkl', 'wb') as output:\n",
    "    pickle.dump(train_data.iloc[:, 1:].std(), output, pickle.HIGHEST_PROTOCOL)\n"
   ]
  },
  {
   "cell_type": "markdown",
   "metadata": {},
   "source": [
    "## Question 2"
   ]
  },
  {
   "cell_type": "markdown",
   "metadata": {},
   "source": [
    "A neural network without an activation function is essentially just a linear regression model\n",
    "As it is a regression problem, we will modify above network as:\n",
    "* we will use the function f(x)=x as it is more intuitive for a linear regression, i.e linear combination of input features. *\n",
    "* We will use mean_absolute_error as a loss function *\n",
    "* We will select the output layer with only one node *\n",
    "* Use ‘linear ’as the activation function for the output layer *"
   ]
  },
  {
   "cell_type": "code",
   "execution_count": null,
   "metadata": {},
   "outputs": [],
   "source": []
  },
  {
   "cell_type": "code",
   "execution_count": null,
   "metadata": {},
   "outputs": [],
   "source": []
  }
 ],
 "metadata": {
  "accelerator": "GPU",
  "colab": {
   "collapsed_sections": [],
   "name": "Untitled.ipynb",
   "provenance": [],
   "version": "0.3.2"
  },
  "kernelspec": {
   "display_name": "Python 3",
   "language": "python",
   "name": "python3"
  },
  "language_info": {
   "codemirror_mode": {
    "name": "ipython",
    "version": 3
   },
   "file_extension": ".py",
   "mimetype": "text/x-python",
   "name": "python",
   "nbconvert_exporter": "python",
   "pygments_lexer": "ipython3",
   "version": "3.6.7"
  }
 },
 "nbformat": 4,
 "nbformat_minor": 1
}
