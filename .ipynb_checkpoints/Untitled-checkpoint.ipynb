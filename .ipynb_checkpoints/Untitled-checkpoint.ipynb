{
 "cells": [
  {
   "cell_type": "code",
   "execution_count": 88,
   "metadata": {},
   "outputs": [],
   "source": [
    "import pandas as pd\n",
    "import matplotlib.pyplot as plt\n",
    "import numpy as np\n",
    "import random\n",
    "import os\n",
    "from random import randint\n",
    "import math\n",
    "from sklearn.metrics import accuracy_score\n",
    "import pickle\n",
    "eps = np.finfo(float).eps"
   ]
  },
  {
   "cell_type": "code",
   "execution_count": 14,
   "metadata": {
    "colab": {},
    "colab_type": "code",
    "id": "7gZGK2vhNdbR"
   },
   "outputs": [],
   "source": [
    "if __name__ == \"__main__\":\n",
    "    df = pd.read_csv(\"../input_data/Apparel/apparel-trainval.csv\")\n",
    "    N = 120"
   ]
  },
  {
   "cell_type": "code",
   "execution_count": 15,
   "metadata": {},
   "outputs": [],
   "source": [
    "def dataNormalization(train, test, target):\n",
    "    trainFeatures = train.drop([target], axis = 1)\n",
    "    testFeatures = test.drop([target], axis = 1)\n",
    "    \n",
    "    trainMean = trainFeatures.mean()\n",
    "    trainStd = trainFeatures.std()\n",
    "    trainFeatures = (trainFeatures - trainMean) / trainStd\n",
    "    testFeatures = (testFeatures - trainMean) / trainStd\n",
    "    return trainFeatures.values.tolist(), testFeatures.values.tolist()"
   ]
  },
  {
   "cell_type": "code",
   "execution_count": 16,
   "metadata": {},
   "outputs": [],
   "source": [
    "def train_test_split(df, test_size):\n",
    "    if isinstance(test_size, float):\n",
    "        test_size = round(test_size * len(df))\n",
    "    indices = df.index.tolist()\n",
    "    test_indices = random.sample(population=indices, k=test_size)\n",
    "    \n",
    "    test_df = df.loc[test_indices]\n",
    "    train_df = df.drop(test_indices)\n",
    "    return train_df, test_df"
   ]
  },
  {
   "cell_type": "code",
   "execution_count": 35,
   "metadata": {
    "colab": {},
    "colab_type": "code",
    "id": "gEq7gbDtLiDV"
   },
   "outputs": [],
   "source": [
    "tcol = \"label\"\n",
    "train, test = train_test_split(df, test_size = 0.2)\n",
    "trainData, testData = dataNormalization(train, test, tcol)\n",
    "Tst = pd.concat([train[tcol], pd.get_dummies(train[tcol], prefix = tcol)], axis = 1).drop([tcol], axis = 1).values.tolist()\n",
    "Tst_tst = pd.concat([test[tcol], pd.get_dummies(test[tcol], prefix = tcol)], axis = 1).drop([tcol], axis = 1).values.tolist()"
   ]
  },
  {
   "cell_type": "code",
   "execution_count": 18,
   "metadata": {
    "colab": {},
    "colab_type": "code",
    "id": "ZBcOQZxNLiCk"
   },
   "outputs": [],
   "source": [
    "def sigmoid(gamma):\n",
    "    if gamma < 0:\n",
    "        expg = math.exp(gamma)\n",
    "        return 1 - 1/(1 + expg)\n",
    "    else:\n",
    "        expg = math.exp(-gamma)\n",
    "        return 1/(1 + expg)"
   ]
  },
  {
   "cell_type": "code",
   "execution_count": 19,
   "metadata": {
    "colab": {},
    "colab_type": "code",
    "id": "UBnKaQDyLiCt"
   },
   "outputs": [],
   "source": [
    "def sigmoid_prime(x):\n",
    "    newx = (1- x)\n",
    "    return x * newx"
   ]
  },
  {
   "cell_type": "code",
   "execution_count": 20,
   "metadata": {
    "colab": {},
    "colab_type": "code",
    "id": "R7PGSwuELiC2"
   },
   "outputs": [],
   "source": [
    "def ReLU(x):\n",
    "    maxval = np.maximum(0.0, x)\n",
    "    return maxval\n",
    "\n",
    "def ReLU_derivation(x):\n",
    "    x = x < 0\n",
    "    return x"
   ]
  },
  {
   "cell_type": "code",
   "execution_count": 66,
   "metadata": {
    "colab": {},
    "colab_type": "code",
    "id": "KUKeuspNLiC8"
   },
   "outputs": [],
   "source": [
    "def tanh(x):\n",
    "    val = np.tanh(x)\n",
    "    return val"
   ]
  },
  {
   "cell_type": "code",
   "execution_count": 67,
   "metadata": {
    "colab": {},
    "colab_type": "code",
    "id": "zI_w6ehvLiDD"
   },
   "outputs": [],
   "source": [
    "def tanh_derivation(x):\n",
    "    val = x * x\n",
    "    return 1 - val"
   ]
  },
  {
   "cell_type": "code",
   "execution_count": 77,
   "metadata": {
    "colab": {},
    "colab_type": "code",
    "id": "afdK-0S2LiDM"
   },
   "outputs": [],
   "source": [
    "class NeuralNetwork:\n",
    "    def __init__(self, nodes_list, learnign_rate, activation_function, activation_prime):\n",
    "        self.weights, self.biases, self.nodes, self.layers, = [], [], nodes_list, len(nodes_list)\n",
    "        self.debug = False\n",
    "        self.learning_rate, self.act_func = learnign_rate, activation_function\n",
    "        self.act_func_prime, self.epsilon = activation_prime, 1e-15\n",
    "        for i in range(len(nodes_list)-1):\n",
    "            val = np.sqrt(2/nodes_list[i])\n",
    "            self.weights.append(np.random.randn(nodes_list[i+1],nodes_list[i]) * val)\n",
    "            self.biases.append(np.zeros((nodes_list[i+1], 1)))\n",
    "            \n",
    "    def compute_cost(self, prediction, target):\n",
    "        clipped = np.clip(prediction, self.epsilon, 1 - self.epsilon)\n",
    "        m = prediction.shape[1]\n",
    "        cost = target * np.log(clipped) + (1 - target) * np.log(1 - clipped)\n",
    "        return -np.sum(cost)/prediction.shape[1]\n",
    "      \n",
    "    def softmax(self, z):\n",
    "        y = np.nan_to_num(np.exp(z - z.max(axis=0, keepdims = True)))\n",
    "        y = y / y.sum(axis=0, keepdims = True)\n",
    "        return y\n",
    "        \n",
    "    def feed_forward(self, input_array):\n",
    "        X = np.array(input_array).T\n",
    "        length = len(self.weights)\n",
    "        for i in range(length - 1):\n",
    "            X = np.dot(self.weights[i], X) + self.biases[i]\n",
    "            X = np.vectorize(self.act_func)(X)\n",
    "        return self.softmax(np.dot(self.weights[len(self.weights)-1], X) + self.biases[len(self.weights)-1])\n",
    "      \n",
    "    def train(self, input_array, target, m):\n",
    "        X, inputs = np.array(input_array).T, []\n",
    "        inputs.append(X)\n",
    "        outputs = []\n",
    "        for i in range(len(self.weights) - 1):\n",
    "            X = np.dot(self.weights[i], X) + self.biases[i]\n",
    "            X = np.vectorize(self.act_func)(X)\n",
    "            outputs.append(X)\n",
    "            inputs.append(X)\n",
    "        \n",
    "        X = self.softmax(np.dot(self.weights[len(self.weights)-1],X) + self.biases[len(self.weights)-1])\n",
    "        outputs.append(X)\n",
    "        inputs.append(X)\n",
    "        \n",
    "        predicted, target = X, np.array(target).T\n",
    "        errors, error = [], target - predicted\n",
    "        errors.append(error)\n",
    "        i = len(self.weights)-1\n",
    "      \n",
    "        while(i > 0):\n",
    "            error = np.dot(self.weights[i].T, error).\n",
    "            errors.append(error)\n",
    "            i -= 1\n",
    "            \n",
    "        i = len(self.weights)-1\n",
    "        errors = list(reversed(errors))\n",
    "        act_fun_pr = self.act_func_prime\n",
    "        gradients = target - predicted\n",
    "        LR = self.learning_rate\n",
    "        valg = np.dot(gradients, inputs[i].T)\n",
    "        delta_weight = (1 / m) * LR * valg\n",
    "\n",
    "        self.weights[i] += delta_weight\n",
    "        meaner = gradients.mean(axis=1)\n",
    "        meanval = meaner.reshape(len(meaner),1)\n",
    "        self.biases[i] += LR * meanval\n",
    "        i -= 1        \n",
    "        \n",
    "        while(i >= 0):\n",
    "            gradients = (errors[i] * act_fun_pr(outputs[i]))\n",
    "            gradients = gradients.reshape(len(gradients),len(gradients[0]))\n",
    "            valg = np.dot(gradients, inputs[i].T) \n",
    "            delta_weight = (1 / m) * LR * valg\n",
    "            \n",
    "            meaner = gradients.mean(axis=1)\n",
    "            self.weights[i] += delta_weight\n",
    "            meanval = meaner.reshape(len(meaner),1)\n",
    "            self.biases[i]+=self.learning_rate * meanval\n",
    "            i -= 1 \n",
    "        return "
   ]
  },
  {
   "cell_type": "markdown",
   "metadata": {
    "colab_type": "text",
    "id": "tHE-8agHAmka"
   },
   "source": [
    "## Activation as Sigmoid"
   ]
  },
  {
   "cell_type": "code",
   "execution_count": 64,
   "metadata": {
    "colab": {},
    "colab_type": "code",
    "id": "lzfahV6xLiEL"
   },
   "outputs": [],
   "source": [
    "Layers, LearningRate, batch, accuracy_list = [784,128,10], 0.1, 512, []\n",
    "nn = NeuralNetwork(Layers, LearningRate, sigmoid, sigmoid_prime)\n",
    "for epocs in range(10):\n",
    "    for i in range(0, len(trainData) - batch, batch):\n",
    "        val = i + batch\n",
    "        nn.train(trainData[i:val], Tst[i:val], batch)\n",
    "    accuracy_list.append(1 - accuracy_score(np.argmax(np.array(Tst_tst).T,axis = 0), np.argmax(nn.feed_forward(testData), axis = 0)))"
   ]
  },
  {
   "cell_type": "code",
   "execution_count": 65,
   "metadata": {
    "colab": {
     "base_uri": "https://localhost:8080/",
     "height": 361
    },
    "colab_type": "code",
    "id": "WREnem4Uu5vq",
    "outputId": "e4ecfa18-8e73-4184-be4f-10a7af3cba49"
   },
   "outputs": [
    {
     "data": {
      "image/png": "[encoded data removed]",
      "text/plain": [
       "<Figure size 432x288 with 1 Axes>"
      ]
     },
     "metadata": {
      "needs_background": "light"
     },
     "output_type": "display_data"
    }
   ],
   "source": [
    "epoc = np.arange(1, 11, 1)\n",
    "plt.plot(epoc, accuracy_list, color = 'red', linewidth = 3)\n",
    "plt.ylabel(\"Error\")\n",
    "plt.xlabel(\"Epoc\")\n",
    "plt.show()"
   ]
  },
  {
   "cell_type": "markdown",
   "metadata": {
    "colab_type": "text",
    "id": "p7FWUXaSAxGq"
   },
   "source": [
    "## Activation as tanh"
   ]
  },
  {
   "cell_type": "code",
   "execution_count": 78,
   "metadata": {
    "colab": {},
    "colab_type": "code",
    "id": "0GhjIG4hLiEm"
   },
   "outputs": [],
   "source": [
    "Layers, LearningRate, batch, accuracy_list = [784,128,10], 0.1, 512, []\n",
    "nt = NeuralNetwork(Layers, LearningRate, tanh, tanh_derivation)\n",
    "for epocs in range(10):\n",
    "    for i in range(0, len(trainData) - batch, batch):\n",
    "        val = i + batch\n",
    "        nt.train(trainData[i:val], Tst[i:val], batch)\n",
    "    accuracy_list.append(1 - accuracy_score(np.argmax(np.array(Tst_tst).T,axis = 0), np.argmax(nt.feed_forward(testData), axis = 0)))"
   ]
  },
  {
   "cell_type": "code",
   "execution_count": 79,
   "metadata": {
    "colab": {
     "base_uri": "https://localhost:8080/",
     "height": 361
    },
    "colab_type": "code",
    "id": "1E9oD19WrPpp",
    "outputId": "0a058c79-0e91-429d-bb10-4e530e59cd2b"
   },
   "outputs": [
    {
     "data": {
      "image/png": "[encoded data removed]",
      "text/plain": [
       "<Figure size 432x288 with 1 Axes>"
      ]
     },
     "metadata": {
      "needs_background": "light"
     },
     "output_type": "display_data"
    }
   ],
   "source": [
    "epoc = np.arange(1, 11, 1)\n",
    "plt.plot(epoc, accuracy_list, color = 'red', linewidth = 3)\n",
    "plt.ylabel(\"Error\")\n",
    "plt.xlabel(\"Epoc\")\n",
    "plt.show()"
   ]
  },
  {
   "cell_type": "markdown",
   "metadata": {
    "colab_type": "text",
    "id": "jXJWic7CA3Jy"
   },
   "source": [
    "## Activation as Relu "
   ]
  },
  {
   "cell_type": "code",
   "execution_count": 81,
   "metadata": {
    "colab": {},
    "colab_type": "code",
    "id": "IMRA-ERlsRiY"
   },
   "outputs": [],
   "source": [
    "Layers, LearningRate, batch, accuracy_list = [784,128,10], 0.1, 512, []\n",
    "nr = NeuralNetwork(Layers, LearningRate, ReLU, ReLU_derivation)\n",
    "for epocs in range(10):\n",
    "    for i in range(0,len(trainData) - batch, batch):\n",
    "        val = i + batch\n",
    "        nr.train(trainData[i:val],Tst[i:val],batch)\n",
    "    accuracy_list.append(1 - accuracy_score(np.argmax(np.array(Tst_tst).T,axis = 0), np.argmax(nr.feed_forward(testData), axis = 0)))"
   ]
  },
  {
   "cell_type": "code",
   "execution_count": 82,
   "metadata": {
    "colab": {
     "base_uri": "https://localhost:8080/",
     "height": 361
    },
    "colab_type": "code",
    "id": "xvLf6QItocMs",
    "outputId": "2ba43297-8c91-4543-ca7a-5359f08e9022"
   },
   "outputs": [
    {
     "data": {
      "image/png": "[encoded data removed]",
      "text/plain": [
       "<Figure size 432x288 with 1 Axes>"
      ]
     },
     "metadata": {
      "needs_background": "light"
     },
     "output_type": "display_data"
    }
   ],
   "source": [
    "epoc = np.arange(1, 11, 1)\n",
    "plt.plot(epoc, accuracy_list, color = 'red', linewidth = 3)\n",
    "plt.ylabel(\"Error\")\n",
    "plt.xlabel(\"Epoc\")\n",
    "plt.show()"
   ]
  },
  {
   "cell_type": "markdown",
   "metadata": {
    "colab_type": "text",
    "id": "tW3Stomd_Tkc"
   },
   "source": [
    "** Observation **\n",
    "\n",
    "> \n",
    "\n",
    "\n",
    "From the various experiments on the nueral network model by changing different parameters like:\n",
    "* Number of hidden layers\n",
    "* Number of nodes in each hidden layer\n",
    "* Activation function\n",
    "\n",
    "\n",
    "For the case with :\n",
    "* Hidden layers = 2\n",
    "* Nodes in both layers = 100\n",
    "* Activation function tanh in hidden layers and softmax in output layers \n",
    "*Traing data 80% of total\n",
    "\n",
    "The accuracy were observed **86.4**%"
   ]
  },
  {
   "cell_type": "markdown",
   "metadata": {
    "colab_type": "text",
    "id": "IF15H-GG-3Oq"
   },
   "source": [
    "## Layers  Vs Prediction Loss for Sigmoid function\n"
   ]
  },
  {
   "cell_type": "code",
   "execution_count": 84,
   "metadata": {
    "colab": {},
    "colab_type": "code",
    "id": "1PRvmBkswedd"
   },
   "outputs": [],
   "source": [
    "LearningRate, accuracy_list1, batch = 0.1, [], 512\n",
    "layers = [[784,100,10],[784,100,100,10],[784,100,100,32,10]]\n",
    "for i in range(3):\n",
    "    nn = NeuralNetwork(layers[i], LearningRate, sigmoid,sigmoid_prime)\n",
    "    for epocs in range(20):\n",
    "        for i in range(0, len(trainData) - batch, batch):\n",
    "            val = i + batch\n",
    "            nn.train(trainData[i:val], Tst[i:val], batch)\n",
    "    accuracy_list1.append(nn.compute_cost(nn.feed_forward(trainData[:len(trainData)]), np.array(Tst).T))"
   ]
  },
  {
   "cell_type": "code",
   "execution_count": 85,
   "metadata": {
    "colab": {
     "base_uri": "https://localhost:8080/",
     "height": 361
    },
    "colab_type": "code",
    "id": "-IQuz_pGxrmy",
    "outputId": "ba3c8629-5542-4c5f-bab1-903cda2cfd22"
   },
   "outputs": [
    {
     "data": {
      "image/png": "[encoded data removed]",
      "text/plain": [
       "<Figure size 432x288 with 1 Axes>"
      ]
     },
     "metadata": {
      "needs_background": "light"
     },
     "output_type": "display_data"
    }
   ],
   "source": [
    "plt.plot([1,2,3], accuracy_list1, color = 'blue', linewidth = 3)\n",
    "plt.ylabel(\"prediction loss\")\n",
    "plt.xlabel(\"layers\")\n",
    "plt.xticks([1,2,3])\n",
    "plt.show()"
   ]
  },
  {
   "cell_type": "markdown",
   "metadata": {},
   "source": [
    "## Training for evaluation\n",
    "With every epoc accuracy is increasing"
   ]
  },
  {
   "cell_type": "code",
   "execution_count": 118,
   "metadata": {},
   "outputs": [
    {
     "name": "stdout",
     "output_type": "stream",
     "text": [
      "0.8370833333333333\n",
      "0.8526666666666667\n",
      "0.8595833333333334\n",
      "0.8648333333333333\n",
      "0.8686666666666667\n",
      "0.8704166666666666\n",
      "0.8725\n",
      "0.8749166666666667\n",
      "0.8774166666666666\n",
      "0.8790833333333333\n"
     ]
    }
   ],
   "source": [
    "Layers, LearningRate, batch, accuracy_list = [784,100,100,10], 0.1, 512, []\n",
    "nt = NeuralNetwork(Layers, LearningRate, tanh, tanh_derivation)\n",
    "for epocs in range(10):\n",
    "    for i in range(0,len(trainData) - batch, batch):\n",
    "        val = i + batch\n",
    "        nt.train(trainData[i:val],Tst[i:val],batch)\n",
    "    print(accuracy_score(np.argmax(np.array(Tst_tst).T,axis = 0), np.argmax(nt.feed_forward(testData), axis = 0)))"
   ]
  },
  {
   "cell_type": "markdown",
   "metadata": {},
   "source": [
    "## Dumping the result for the test set inscv file\n"
   ]
  },
  {
   "cell_type": "code",
   "execution_count": 120,
   "metadata": {},
   "outputs": [],
   "source": [
    "if os.path.exists('data.pkl'):\n",
    "    FilePtr = open('data.pkl', \"rb\") \n",
    "    nt = pickle.load(FilePtr)\n",
    "    FilePtr.close()\n",
    "if os.path.exists('mean.pkl'):\n",
    "    FilePtr = open('mean.pkl', \"rb\") \n",
    "    mean = pickle.load(FilePtr)\n",
    "    FilePtr.close()\n",
    "if os.path.exists('std.pkl'):\n",
    "    FilePtr = open('std.pkl', \"rb\") \n",
    "    std = pickle.load(FilePtr)\n",
    "    FilePtr.close()\n",
    "# with open('data.pkl', \"rb\") as input1:\n",
    "#     nt = pickle.load(input1)\n",
    "# with open('mean.pkl', \"rb\") as input1:\n",
    "#     mean = pickle.load(input1)\n",
    "# with open('std.pkl', \"rb\") as input1:\n",
    "#     std = pickle.load(input1)"
   ]
  },
  {
   "cell_type": "code",
   "execution_count": 121,
   "metadata": {},
   "outputs": [
    {
     "data": {
      "text/plain": [
       "<__main__.NeuralNetwork at 0x7fb683c30588>"
      ]
     },
     "execution_count": 121,
     "metadata": {},
     "output_type": "execute_result"
    }
   ],
   "source": [
    "nt"
   ]
  },
  {
   "cell_type": "code",
   "execution_count": 122,
   "metadata": {},
   "outputs": [],
   "source": [
    "train_data = pd.read_csv('../input_data/apparel-test.csv')\n",
    "train_data = (train_data - mean)/std\n",
    "np.savetxt(\"2018201019_prediction.csv\", np.argmax(nt.feed_forward(train_data.values.tolist()), axis = 0), delimiter = \",\",fmt = \"%d\")"
   ]
  },
  {
   "cell_type": "markdown",
   "metadata": {},
   "source": [
    "## Dumping the model ,mean and stdandart deviation in pkl format"
   ]
  },
  {
   "cell_type": "code",
   "execution_count": 119,
   "metadata": {},
   "outputs": [],
   "source": [
    "if os.path.exists('data.pkl'):\n",
    "    FilePtr = open('data.pkl', \"wb\") \n",
    "    pickle.dump(nt, output, pickle.HIGHEST_PROTOCOL)\n",
    "    FilePtr.close()\n",
    "if os.path.exists('data.pkl'):\n",
    "    FilePtr = open('data.pkl', \"wb\") \n",
    "    pickle.dump(train_data.iloc[:, 1:].mean(), FilePtr, pickle.HIGHEST_PROTOCOL)\n",
    "    FilePtr.close()\n",
    "if os.path.exists('data.pkl'):\n",
    "    FilePtr = open('data.pkl', \"wb\") \n",
    "    pickle.dump(train_data.iloc[:, 1:].std(), FilePtr, pickle.HIGHEST_PROTOCOL)\n",
    "    FilePtr.close()\n",
    "# with open('data.pkl', \"wb\") as output:\n",
    "#     pickle.dump(nt, output, pickle.HIGHEST_PROTOCOL)\n",
    "# with open('mean.pkl', \"wb\") as output:\n",
    "#     pickle.dump(df.iloc[:, 1:].mean(), output, pickle.HIGHEST_PROTOCOL)\n",
    "# with open('std.pkl', \"wb\") as output:\n",
    "#     pickle.dump(df.iloc[:, 1:].mean(), output, pickle.HIGHEST_PROTOCOL)"
   ]
  },
  {
   "cell_type": "markdown",
   "metadata": {},
   "source": [
    "## Question 2"
   ]
  },
  {
   "cell_type": "markdown",
   "metadata": {},
   "source": [
    "A neural network while not associate degree activation operate is actually simply a simple regression model\n",
    "As it is a regression problem, we will modify above network as:\n",
    "* we will use the function f(x)=x as it is more intuitive for a linear regression, i.e linear combination of input features.\n",
    "* we are going to use mean_absolute_error as a loss operate\n",
    "* We will select the output layer with only one node\n",
    "* Use ‘linear ’as the activation operate for the output layer"
   ]
  },
  {
   "cell_type": "code",
   "execution_count": null,
   "metadata": {},
   "outputs": [],
   "source": []
  }
 ],
 "metadata": {
  "accelerator": "GPU",
  "colab": {
   "collapsed_sections": [],
   "name": "Untitled.ipynb",
   "provenance": [],
   "version": "0.3.2"
  },
  "kernelspec": {
   "display_name": "Python 3",
   "language": "python",
   "name": "python3"
  },
  "language_info": {
   "codemirror_mode": {
    "name": "ipython",
    "version": 3
   },
   "file_extension": ".py",
   "mimetype": "text/x-python",
   "name": "python",
   "nbconvert_exporter": "python",
   "pygments_lexer": "ipython3",
   "version": "3.6.7"
  }
 },
 "nbformat": 4,
 "nbformat_minor": 1
}
