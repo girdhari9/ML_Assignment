{
 "cells": [
  {
   "cell_type": "markdown",
   "metadata": {},
   "source": [
    "# CNN Forward Pass"
   ]
  },
  {
   "cell_type": "code",
   "execution_count": 378,
   "metadata": {},
   "outputs": [],
   "source": [
    "from skimage import io\n",
    "import os\n",
    "import numpy as np\n",
    "import pandas as pd\n",
    "import math\n",
    "import cv2\n",
    "from tensorflow.keras.datasets import mnist\n",
    "import matplotlib.pyplot as plt\n",
    "%matplotlib inline\n",
    "from PIL import Image\n",
    "(xtrain, _),(xtest,_) = mnist.load_data()"
   ]
  },
  {
   "cell_type": "code",
   "execution_count": 418,
   "metadata": {},
   "outputs": [],
   "source": [
    "def ReadImage(xtest):\n",
    "    img = (Image.fromarray(xtest[0])).resize((32, 32))\n",
    "    img = cv2.cvtColor(np.array(img), cv2.COLOR_GRAY2RGB)\n",
    "    return img"
   ]
  },
  {
   "cell_type": "code",
   "execution_count": 415,
   "metadata": {},
   "outputs": [],
   "source": [
    "def convLayer(image, filters, stride):\n",
    "    filtersRow, filtersColumn = filters.shape[0], filters.shape[1]\n",
    "    outputArray, channelSize = np.zeros((image.shape[0] - filtersRow + 1, image.shape[1] - filtersColumn + 1)), image.shape[2]\n",
    "    for x_axis in range(image.shape[0] - filtersRow + 1):\n",
    "        for y_axis in range(image.shape[1] - filtersColumn + 1):\n",
    "            total = 0\n",
    "            for channel in range(channelSize):\n",
    "                X, Y = x_axis + filtersRow, y_axis + filtersColumn\n",
    "                total += np.sum(image[x_axis : X, y_axis : Y, channel] * filters[:,:,channel])\n",
    "            outputArray[x_axis, y_axis] = total\n",
    "    return outputArray"
   ]
  },
  {
   "cell_type": "code",
   "execution_count": 375,
   "metadata": {},
   "outputs": [],
   "source": [
    "def convFWPass(image, stride, filterSize):\n",
    "    filt = np.random.randn(5, 5, filterSize)\n",
    "    return relu(convLayer(image, filt, stride))"
   ]
  },
  {
   "cell_type": "code",
   "execution_count": 321,
   "metadata": {},
   "outputs": [],
   "source": [
    "def poolFWPass(image, stride):\n",
    "    return maxpoolLayer(image, 2)"
   ]
  },
  {
   "cell_type": "code",
   "execution_count": 322,
   "metadata": {},
   "outputs": [],
   "source": [
    "def maxpoolLayer(image, stride):\n",
    "    outputArray = np.zeros((int(image.shape[0]/stride), int(image.shape[1]/stride)))\n",
    "    for x_axis in range(0, image.shape[0], stride):\n",
    "        maxval = 0\n",
    "        for y_axis in range(0, image.shape[1], stride):\n",
    "            outputArray[int(x_axis/stride), int(y_axis/stride)] = np.max(image[x_axis:x_axis + stride, y_axis:y_axis + stride])\n",
    "    return outputArray"
   ]
  },
  {
   "cell_type": "code",
   "execution_count": 332,
   "metadata": {},
   "outputs": [],
   "source": [
    "def ViewImages(images):\n",
    "    for i in range(images.shape[2]):\n",
    "        plt.subplot(1, images.shape[2], i + 1)\n",
    "        plt.yticks([], [])\n",
    "        plt.xticks([], [])\n",
    "        plt.imshow(images[:,:,i])\n",
    "    plt.show()"
   ]
  },
  {
   "cell_type": "code",
   "execution_count": 328,
   "metadata": {},
   "outputs": [],
   "source": [
    "def CNN(image, filterSize, filterShape):\n",
    "    convResult = np.zeros((image.shape[0] - filterShape[0] + 1, image.shape[1] - filterShape[1] + 1, filterSize))\n",
    "    for i in range(filterSize):\n",
    "        convResult[:,:,i] = convFWPass(image, 1, filterSize)\n",
    "    print(convResult.shape)\n",
    "    ViewImages(convResult)\n",
    "    \n",
    "    poolResult = np.zeros((int(convResult.shape[0]/2), int(convResult.shape[1]/2), filterSize))\n",
    "    for i in range(filterSize):\n",
    "        poolResult[:,:,i] = poolFWPass(convResult[:,:,i], 2)\n",
    "    print(poolResult.shape)\n",
    "    ViewImages(poolResult)\n",
    "    \n",
    "    return poolResult  "
   ]
  },
  {
   "cell_type": "code",
   "execution_count": 354,
   "metadata": {},
   "outputs": [],
   "source": [
    "def relu(Z):\n",
    "    A = np.maximum(0, Z)\n",
    "    assert(A.shape == Z.shape)\n",
    "    return A"
   ]
  },
  {
   "cell_type": "code",
   "execution_count": 410,
   "metadata": {},
   "outputs": [],
   "source": [
    "def softmax(Z):\n",
    "    e_z = np.exp(Z - Z.max(axis = 0))\n",
    "    return (e_z / np.sum(e_z, axis=0))"
   ]
  },
  {
   "cell_type": "code",
   "execution_count": 419,
   "metadata": {},
   "outputs": [
    {
     "data": {
      "text/plain": [
       "<matplotlib.image.AxesImage at 0x7f83edfbe860>"
      ]
     },
     "execution_count": 419,
     "metadata": {},
     "output_type": "execute_result"
    },
    {
     "data": {
      "image/png": "[encoded data removed]",
      "text/plain": [
       "<Figure size 432x288 with 1 Axes>"
      ]
     },
     "metadata": {
      "needs_background": "light"
     },
     "output_type": "display_data"
    }
   ],
   "source": [
    "img = ReadImage(xtest)\n",
    "plt.imshow(img)"
   ]
  },
  {
   "cell_type": "code",
   "execution_count": 409,
   "metadata": {},
   "outputs": [
    {
     "data": {
      "image/png": "[encoded data removed]",
      "text/plain": [
       "<Figure size 432x288 with 3 Axes>"
      ]
     },
     "metadata": {},
     "output_type": "display_data"
    },
    {
     "name": "stdout",
     "output_type": "stream",
     "text": [
      "(28, 28, 6)\n"
     ]
    },
    {
     "data": {
      "image/png": "[encoded data removed]",
      "text/plain": [
       "<Figure size 432x288 with 6 Axes>"
      ]
     },
     "metadata": {},
     "output_type": "display_data"
    },
    {
     "name": "stdout",
     "output_type": "stream",
     "text": [
      "(14, 14, 6)\n"
     ]
    },
    {
     "data": {
      "image/png": "[encoded data removed]",
      "text/plain": [
       "<Figure size 432x288 with 6 Axes>"
      ]
     },
     "metadata": {},
     "output_type": "display_data"
    },
    {
     "name": "stdout",
     "output_type": "stream",
     "text": [
      "(10, 10, 16)\n"
     ]
    },
    {
     "data": {
      "image/png": "[encoded data removed]",
      "text/plain": [
       "<Figure size 432x288 with 16 Axes>"
      ]
     },
     "metadata": {},
     "output_type": "display_data"
    },
    {
     "name": "stdout",
     "output_type": "stream",
     "text": [
      "(5, 5, 16)\n"
     ]
    },
    {
     "data": {
      "image/png": "[encoded data removed]",
      "text/plain": [
       "<Figure size 432x288 with 16 Axes>"
      ]
     },
     "metadata": {},
     "output_type": "display_data"
    }
   ],
   "source": [
    "ViewImages(img)\n",
    "Img = CNN(img, 6, [5,5,3])\n",
    "finalImg = CNN(Img, 16, [5,5,6])"
   ]
  },
  {
   "cell_type": "code",
   "execution_count": 352,
   "metadata": {},
   "outputs": [],
   "source": [
    "flatImage = finalImg.flatten()\n",
    "flatImage = flatImage.reshape(flatImage.shape[0],1)"
   ]
  },
  {
   "cell_type": "code",
   "execution_count": 414,
   "metadata": {},
   "outputs": [
    {
     "name": "stdout",
     "output_type": "stream",
     "text": [
      "FC Layer1\n",
      "(120, 1)\n",
      "FC Layer2\n",
      "(84, 1)\n",
      "Output Layer\n",
      "(10, 1)\n",
      "7\n"
     ]
    }
   ],
   "source": [
    "print(\"FC Layer1\")\n",
    "# relu(np.dot(weights, Image) + Bias)\n",
    "FC = relu(np.dot(np.random.randn(120, flatImage.shape[0]), flatImage) + np.random.randn(120, 1))\n",
    "print(FC.shape)\n",
    "print(\"FC Layer2\")\n",
    "FC = relu(np.dot(np.random.randn(84, FC.shape[0]), FC) + np.random.randn(84, 1))\n",
    "print(FC.shape)\n",
    "print(\"Output Layer\")\n",
    "FC = softmax(np.dot(np.random.randn(10, FC.shape[0]), FC) + np.random.randn(10, 1))\n",
    "print(FC.shape)\n",
    "print(np.argmax(FC))"
   ]
  },
  {
   "cell_type": "code",
   "execution_count": null,
   "metadata": {},
   "outputs": [],
   "source": []
  }
 ],
 "metadata": {
  "kernelspec": {
   "display_name": "Python 3",
   "language": "python",
   "name": "python3"
  },
  "language_info": {
   "codemirror_mode": {
    "name": "ipython",
    "version": 3
   },
   "file_extension": ".py",
   "mimetype": "text/x-python",
   "name": "python",
   "nbconvert_exporter": "python",
   "pygments_lexer": "ipython3",
   "version": "3.6.7"
  }
 },
 "nbformat": 4,
 "nbformat_minor": 2
}
