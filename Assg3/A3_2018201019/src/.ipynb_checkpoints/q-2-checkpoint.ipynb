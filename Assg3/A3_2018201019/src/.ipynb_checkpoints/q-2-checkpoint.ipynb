{
 "cells": [
  {
   "cell_type": "code",
   "execution_count": 1,
   "metadata": {},
   "outputs": [],
   "source": [
    "import numpy as np\n",
    "import pandas as pd\n",
    "import matplotlib.pyplot as plt\n",
    "import random\n",
    "from pprint import pprint\n",
    "import seaborn\n",
    "import matplotlib\n",
    "from sklearn.model_selection import train_test_split\n",
    "from sklearn.metrics import confusion_matrix\n",
    "from math import pi\n",
    "from math import exp\n",
    "import math\n",
    "import sys\n",
    "from sklearn.metrics import r2_score\n",
    "from sklearn.metrics import precision_score\n",
    "from sklearn.metrics import recall_score\n",
    "eps = np.finfo(float).eps"
   ]
  },
  {
   "cell_type": "code",
   "execution_count": 5,
   "metadata": {},
   "outputs": [],
   "source": [
    "train_data = pd.read_csv('../input_data/Q2/AdmissionDataset/data.csv')\n",
    "train_data=train_data[['GRE Score', 'TOEFL Score', 'University Rating', 'SOP','LOR ', 'CGPA', 'Research','Chance of Admit ']]\n",
    "train_data['Chance of Admit '] = np.where(train_data['Chance of Admit '] > 0.5, 1, train_data['Chance of Admit '])\n",
    "train_data['Chance of Admit '] = np.where(train_data['Chance of Admit '] <= 0.5, 0, train_data['Chance of Admit '])\n",
    "\n",
    "X=train_data[['GRE Score', 'TOEFL Score', 'University Rating', 'SOP','LOR ', 'CGPA', 'Research']]\n",
    "Y=train_data['Chance of Admit ']\n",
    "\n",
    "X_train, X_test, Y_train, Y_test = train_test_split(X, Y, test_size = 0.2,random_state=3)\n",
    "xm  = X_train.mean()\n",
    "xs = X_train.std()\n",
    "Z  = X_train['GRE Score']\n",
    "Z = (Z - Z.mean())/Z.std()\n",
    "X_train=(X_train-X_train.mean())/X_train.std()\n",
    "X_test = (X_test-xm)/xs\n",
    "\n",
    "ones = np.ones([X_train.shape[0],1])\n",
    "X_train = np.concatenate((ones,X_train),axis=1)\n",
    "ones1 = np.ones([X_test.shape[0],1])\n",
    "X_test = np.concatenate((ones1,X_test),axis=1)"
   ]
  },
  {
   "cell_type": "code",
   "execution_count": 6,
   "metadata": {},
   "outputs": [],
   "source": [
    "def sigmoid(val):\n",
    "    result = 1 / (1 + np.exp(-val+eps))\n",
    "    return result"
   ]
  },
  {
   "cell_type": "code",
   "execution_count": 7,
   "metadata": {},
   "outputs": [],
   "source": [
    "def gradient_descent(X,Q,Y):\n",
    "    alpha = 1\n",
    "    for i in range(10000):\n",
    "        results = np.dot(X,Q)\n",
    "        seg = sigmoid(results)\n",
    "        length = len(Y)\n",
    "        loss = (-Y * np.log(seg+eps) - (1 - Y) * np.log(1 - seg+eps)).mean()\n",
    "        Q = Q - alpha * np.dot(X.T,(seg-Y))/length\n",
    "    return Q"
   ]
  },
  {
   "cell_type": "code",
   "execution_count": 8,
   "metadata": {},
   "outputs": [],
   "source": [
    "def logistic_regression(X,Y):\n",
    "    Q = np.zeros(X.shape[1])\n",
    "    best_Q = gradient_descent(X,Q,Y)\n",
    "    return best_Q"
   ]
  },
  {
   "cell_type": "code",
   "execution_count": 89,
   "metadata": {},
   "outputs": [],
   "source": [
    "def predict_one(test_row):\n",
    "    normalised = 0\n",
    "    for i in range(len(model)):\n",
    "        normalised += model[i] * data[i]\n",
    "    return sigmoid(normalised)"
   ]
  },
  {
   "cell_type": "code",
   "execution_count": 10,
   "metadata": {},
   "outputs": [],
   "source": [
    "def predict(rows):\n",
    "    res=[]\n",
    "    for i in range(len(rows)):\n",
    "        res.append(predict_one(rows[i]))\n",
    "    return res"
   ]
  },
  {
   "cell_type": "code",
   "execution_count": 11,
   "metadata": {},
   "outputs": [],
   "source": [
    "model = logistic_regression(X_train,Y_train)"
   ]
  },
  {
   "cell_type": "code",
   "execution_count": 13,
   "metadata": {},
   "outputs": [],
   "source": [
    "def get_Actual_pred_and_Actual(res,Y_train,thresh_hold = 0.5):\n",
    "    Y_pred = []\n",
    "    for x in res:\n",
    "        if(x>thresh_hold):\n",
    "            Y_pred.append(1)\n",
    "        else:\n",
    "            Y_pred.append(0)\n",
    "    res = list(Y_train)\n",
    "    Y_act = Y_train\n",
    "    return Y_pred,Y_act"
   ]
  },
  {
   "cell_type": "code",
   "execution_count": 20,
   "metadata": {},
   "outputs": [
    {
     "data": {
      "image/png": "[encoded data removed]",
      "text/plain": [
       "<matplotlib.figure.Figure at 0x7f5e959cfdd8>"
      ]
     },
     "metadata": {
      "needs_background": "light"
     },
     "output_type": "display_data"
    },
    {
     "data": {
      "image/png": "[encoded data removed]",
      "text/plain": [
       "<matplotlib.figure.Figure at 0x7f5e97f37828>"
      ]
     },
     "metadata": {
      "needs_background": "light"
     },
     "output_type": "display_data"
    }
   ],
   "source": [
    "res = predict(X_test)\n",
    "rc=[]\n",
    "pc=[]\n",
    "thresh_holds = [0.54,0.56,0.58,0.60,0.62,0.64,0.66,0.68,0.70,0.72,0.74,0.76,0.78,0.8,0.82,0.84,0.86,0.88,0.9,0.92,0.94,0.96]\n",
    "for k in thresh_holds:\n",
    "    Y_pred,Y_Act = get_Actual_pred_and_Actual(res,Y_test,k)\n",
    "    rc.append(recall_score(Y_Act,Y_pred))\n",
    "    pc.append(precision_score(Y_Act,Y_pred))\n",
    "\n",
    "plt.plot(thresh_holds, rc, label = 'Recall')\n",
    "plt.xlabel('Threshold')\n",
    "plt.ylabel('Recall')\n",
    "plt.show()\n",
    "\n",
    "plt.plot(thresh_holds, pc, label = 'Recall')\n",
    "plt.xlabel('Threshold')\n",
    "plt.ylabel('Precsion')\n",
    "plt.show()"
   ]
  },
  {
   "cell_type": "code",
   "execution_count": 21,
   "metadata": {},
   "outputs": [],
   "source": [
    "import numpy as np\n",
    "import pandas as pd\n",
    "import matplotlib.pyplot as plt\n",
    "import random\n",
    "from pprint import pprint\n",
    "import seaborn\n",
    "import matplotlib\n",
    "from sklearn.model_selection import train_test_split\n",
    "from sklearn.metrics import confusion_matrix\n",
    "from math import pi\n",
    "from math import exp\n",
    "import math\n",
    "import sys\n",
    "from sklearn.metrics import r2_score\n",
    "from sklearn.metrics import precision_score\n",
    "from sklearn.metrics import recall_score\n",
    "eps = np.finfo(float).eps\n",
    "train_data = pd.read_csv('../input_data/Q2/AdmissionDataset/data.csv')\n",
    "train_data=train_data[['GRE Score', 'TOEFL Score', 'University Rating', 'SOP','LOR ', 'CGPA', 'Research','Chance of Admit ']]\n",
    "\n",
    "train_data['Chance of Admit '] = np.where(train_data['Chance of Admit '] > 0.5, 1, train_data['Chance of Admit '])\n",
    "train_data['Chance of Admit '] = np.where(train_data['Chance of Admit '] <= 0.5, 0, train_data['Chance of Admit '])\n",
    "\n",
    "X=train_data[['GRE Score', 'TOEFL Score', 'University Rating', 'SOP','LOR ', 'CGPA', 'Research']]\n",
    "Y=train_data['Chance of Admit ']\n",
    "\n",
    "X_train, X_test, Y_train, Y_test = train_test_split(X, Y, test_size = 0.2,random_state=3)\n",
    "xm  = X_train.mean()\n",
    "xs = X_train.std()\n",
    "Z  = X_train['GRE Score']\n",
    "Z = (Z - Z.mean())/Z.std()\n",
    "X_train=(X_train-X_train.mean())/X_train.std()\n",
    "X_test = (X_test-xm)/xs\n",
    "\n",
    "train_data=pd.concat([X_train,Y_train], axis=1)\n",
    "test_data =X_test\n",
    "train_array = train_data.values\n"
   ]
  },
  {
   "cell_type": "code",
   "execution_count": 22,
   "metadata": {},
   "outputs": [],
   "source": [
    "def euclidean_dist(arr_train,arr_test):\n",
    "    result=0\n",
    "    for i in range(len(arr_train)-1):\n",
    "        temp =arr_train[i]-arr_test[i]\n",
    "        temp = temp * temp\n",
    "        result = result + temp\n",
    "    \n",
    "    return math.sqrt(result)"
   ]
  },
  {
   "cell_type": "code",
   "execution_count": 23,
   "metadata": {},
   "outputs": [],
   "source": [
    "def find_all_distances(arr_train_multiple,arr_test):\n",
    "    all_pairs=[]\n",
    "    for i in range(len(arr_train_multiple)):\n",
    "        arr_train = arr_train_multiple[i]\n",
    "        res = euclidean_dist(arr_train,arr_test)\n",
    "        label_name = arr_train[-1]\n",
    "        all_pairs.append((res,label_name))\n",
    "    return all_pairs"
   ]
  },
  {
   "cell_type": "code",
   "execution_count": 24,
   "metadata": {},
   "outputs": [],
   "source": [
    "def predict_oneK(arr_test,k=1):\n",
    "    all_pairs = find_all_distances(train_array,arr_test)\n",
    "    all_pairs.sort()\n",
    "    dists=[]\n",
    "    k_dup=1\n",
    "\n",
    "    for i in range(len(all_pairs)):\n",
    "        a,b = all_pairs[i]\n",
    "        dists.append(b)\n",
    "        if k_dup==k:\n",
    "            break\n",
    "        k_dup=k_dup+1\n",
    "    unique_values,unique_counts = np.unique(dists,return_counts=True)\n",
    "    maxi = -99\n",
    "    index=-1\n",
    "    for i in range(len(unique_values)):\n",
    "        if(maxi<unique_counts[i]):\n",
    "            maxi = unique_counts[i]\n",
    "            index = i\n",
    "    return unique_values[index]"
   ]
  },
  {
   "cell_type": "code",
   "execution_count": 25,
   "metadata": {},
   "outputs": [],
   "source": [
    "def predictK(test_data,k):\n",
    "    test_arr = test_data.values\n",
    "    result_label=[]\n",
    "    for i in range(len(test_arr)):\n",
    "        arr_test = test_arr[i]\n",
    "        result_label.append(predict_oneK(arr_test,k))\n",
    "    return result_label"
   ]
  },
  {
   "cell_type": "markdown",
   "metadata": {},
   "source": [
    "## Observation For K-NN"
   ]
  },
  {
   "cell_type": "code",
   "execution_count": 26,
   "metadata": {},
   "outputs": [
    {
     "name": "stdout",
     "output_type": "stream",
     "text": [
      "Confusion Matrix\n",
      "[[ 2  4]\n",
      " [ 0 84]]\n",
      "=========================================================================================\n",
      "Accuracy : 0.9555555555555556\n",
      "Recall : 1.0\n",
      "Precision : 0.9545454545454546\n"
     ]
    }
   ],
   "source": [
    "print(\"Confusion Matrix\")\n",
    "sqr = math.sqrt(len(train_array))\n",
    "predicted = predictK(test_data,int(sqr))\n",
    "print(confusion_matrix(Y_test,predicted))\n",
    "c=confusion_matrix(Y_test,predicted)\n",
    "print(\"=========================================================================================\")\n",
    "A=(c[0][0]+c[1][1])/(c[0][0]+c[0][1]+c[1][0]+c[1][1])\n",
    "print(\"Accuracy : {}\".format(A))\n",
    "print(\"Recall : {}\".format(recall_score(Y_test,predicted)))\n",
    "print(\"Precision : {}\".format(precision_score(Y_test,predicted)))\n"
   ]
  },
  {
   "cell_type": "markdown",
   "metadata": {},
   "source": [
    "## Observation For Logistic Regression"
   ]
  },
  {
   "cell_type": "code",
   "execution_count": 27,
   "metadata": {},
   "outputs": [
    {
     "name": "stdout",
     "output_type": "stream",
     "text": [
      "[[ 4  2]\n",
      " [ 0 84]]\n",
      "=========================================================================================\n",
      "Accuracy : 0.9777777777777777\n",
      "Recall : 1.0\n",
      "Precision : 0.9767441860465116\n"
     ]
    }
   ],
   "source": [
    "Y_pred,Y_Act = get_Actual_pred_and_Actual(res,Y_test,0.5)\n",
    "print(confusion_matrix(Y_Act,Y_pred))\n",
    "c=confusion_matrix(Y_Act,Y_pred)\n",
    "print(\"=========================================================================================\")\n",
    "A=(c[0][0]+c[1][1])/(c[0][0]+c[0][1]+c[1][0]+c[1][1])\n",
    "print(\"Accuracy : {}\".format(A))\n",
    "print(\"Recall : {}\".format(recall_score(Y_Act,Y_pred)))\n",
    "print(\"Precision : {}\".format(precision_score(Y_Act,Y_pred)))\n",
    "                                         "
   ]
  },
  {
   "cell_type": "code",
   "execution_count": null,
   "metadata": {},
   "outputs": [],
   "source": []
  }
 ],
 "metadata": {
  "kernelspec": {
   "display_name": "Python 3",
   "language": "python",
   "name": "python3"
  },
  "language_info": {
   "codemirror_mode": {
    "name": "ipython",
    "version": 3
   },
   "file_extension": ".py",
   "mimetype": "text/x-python",
   "name": "python",
   "nbconvert_exporter": "python",
   "pygments_lexer": "ipython3",
   "version": "3.6.7"
  }
 },
 "nbformat": 4,
 "nbformat_minor": 2
}
