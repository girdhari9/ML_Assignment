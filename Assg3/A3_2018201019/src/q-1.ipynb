{
 "cells": [
  {
   "cell_type": "code",
   "execution_count": 30,
   "metadata": {},
   "outputs": [],
   "source": [
    "import numpy as np\n",
    "import pandas as pd\n",
    "import matplotlib.pyplot as plt\n",
    "import random\n",
    "from pprint import pprint\n",
    "import seaborn\n",
    "import matplotlib\n",
    "from sklearn.model_selection import train_test_split\n",
    "from sklearn.metrics import confusion_matrix\n",
    "from math import pi\n",
    "from math import exp\n",
    "import math\n",
    "import sys\n",
    "from sklearn.metrics import r2_score\n",
    "from sklearn.metrics import precision_score\n",
    "from sklearn.metrics import recall_score\n",
    "eps = np.finfo(float).eps\n",
    "train_data = pd.read_csv('../input_data/Q1/intrusion_detection/data.csv')\n",
    "Y=train_data.iloc[:,29:30]\n",
    "train_data = train_data.iloc[:, :-1]"
   ]
  },
  {
   "cell_type": "code",
   "execution_count": 31,
   "metadata": {},
   "outputs": [],
   "source": [
    "def normalize_data(X_train):\n",
    "    X_train=(X_train-X_train.mean())/(X_train.std()+eps)\n",
    "    return X_train"
   ]
  },
  {
   "cell_type": "code",
   "execution_count": 32,
   "metadata": {},
   "outputs": [],
   "source": [
    "def s_mat(X_train):\n",
    "    X_train_mat = np.asmatrix(X_train)\n",
    "    sigma = np.dot(X_train_mat.T,X_train_mat)\n",
    "    return sigma"
   ]
  },
  {
   "cell_type": "code",
   "execution_count": 33,
   "metadata": {},
   "outputs": [],
   "source": [
    "def new_dimentionality(X_train,maxi_cols):\n",
    "    eigVals, eigVec = np.linalg.eig(X_train)\n",
    "    lis = []\n",
    "    for i in range(len(eigVec)):\n",
    "        lis.append((eigVals[i],eigVec[:,i].reshape(1,29)))\n",
    "    lis.sort(key = lambda x: x[0])\n",
    "    lis.reverse()\n",
    "    sum_ = 0\n",
    "    for a,b in lis:\n",
    "        sum_+=a \n",
    "    s_t = 0\n",
    "    count=0\n",
    "    list_new = []\n",
    "    for a,b in lis:\n",
    "        s_t+=a\n",
    "        count+=1\n",
    "        list_new.append(np.array(b)[0])\n",
    "        if(s_t/sum_>=0.9 or count==maxi_cols):\n",
    "            return count,np.array(list_new).T"
   ]
  },
  {
   "cell_type": "code",
   "execution_count": 34,
   "metadata": {},
   "outputs": [],
   "source": [
    "X = normalize_data(train_data)\n",
    "count,fXf = new_dimentionality(s_mat(X),14)\n",
    "final_result_1 =np.dot(X,fXf)\n",
    "X = pd.DataFrame(final_result_1, columns=[1,2,3,4,5,6,7,8,9,10,11,12,13,14])\n",
    "final_result = np.concatenate((final_result_1, np.array(Y)), axis=1)\n",
    "final_result = pd.DataFrame(final_result, columns=[1,2,3,4,5,6,7,8,9,10,11,12,13,14,15])"
   ]
  },
  {
   "cell_type": "markdown",
   "metadata": {},
   "source": [
    "## Q2"
   ]
  },
  {
   "cell_type": "code",
   "execution_count": 35,
   "metadata": {},
   "outputs": [],
   "source": [
    "def Euclidean_distance(node1,node2):\n",
    "    return np.linalg.norm(node1-node2)"
   ]
  },
  {
   "cell_type": "code",
   "execution_count": 36,
   "metadata": {},
   "outputs": [],
   "source": [
    "def clustering_start_centroids(data,k=5):\n",
    "    from copy import deepcopy \n",
    "    mat=X.values\n",
    "    y=0\n",
    "    while y!=5:\n",
    "        centroids = {}\n",
    "        for i in range(k):\n",
    "            coord = []\n",
    "            for j in range(len(mat[0])):\n",
    "                coord.append(np.random.randint(int(min(mat[:,j])),int(max(mat[:,j]))))\n",
    "            centroids[i]=coord\n",
    "        finaler=[]\n",
    "        for featureset in data:\n",
    "                distances = [np.linalg.norm(featureset-centroids[centroid]) for centroid in centroids]    \n",
    "                classification = np.argmin(distances)\n",
    "                finaler.append(classification)\n",
    "        finaler_S = set(finaler)\n",
    "        y=len(finaler_S)\n",
    "    return centroids,finaler"
   ]
  },
  {
   "cell_type": "code",
   "execution_count": 37,
   "metadata": {},
   "outputs": [],
   "source": [
    "X = normalize_data(train_data)\n",
    "train_data = pd.read_csv('../input_data/Q1/intrusion_detection/data.csv')\n",
    "Y=train_data.iloc[:,29:30]\n",
    "count,fXf = new_dimentionality(s_mat(X),5)\n",
    "final_result_1 =np.dot(X,fXf)\n",
    "X = pd.DataFrame(final_result_1, columns=[1,2,3,4,5])"
   ]
  },
  {
   "cell_type": "code",
   "execution_count": 260,
   "metadata": {},
   "outputs": [],
   "source": [
    "X=normalize_data(X)\n",
    "start,finaler = clustering_start_centroids(np.array(X),5)"
   ]
  },
  {
   "cell_type": "code",
   "execution_count": 261,
   "metadata": {},
   "outputs": [
    {
     "name": "stdout",
     "output_type": "stream",
     "text": [
      "9\n"
     ]
    }
   ],
   "source": [
    "import copy\n",
    "k=5\n",
    "data = X.values\n",
    "counter = 10\n",
    "centroids=start\n",
    "c_old=finaler\n",
    "while counter:\n",
    "    classifications ={} \n",
    "    for i in range(k):\n",
    "        classifications[i]=[]\n",
    "    \n",
    "    c_old=copy.deepcopy(finaler)\n",
    "    finaler=[]\n",
    "    for featureset in data:\n",
    "            distances = [np.linalg.norm(featureset-centroids[centroid]) for centroid in centroids]    \n",
    "            classification = np.argmin(distances)\n",
    "            finaler.append(classification)\n",
    "            classifications[classification].append(featureset)\n",
    "    counter-=1\n",
    "    prev_centroids = dict(centroids)\n",
    "    print(counter)\n",
    "    for classification in classifications:\n",
    "        centroids[classification] = np.average(classifications[classification],axis=0)\n",
    "    if counter==0 or c_old==finaler:\n",
    "        break "
   ]
  },
  {
   "cell_type": "code",
   "execution_count": 262,
   "metadata": {},
   "outputs": [
    {
     "name": "stdout",
     "output_type": "stream",
     "text": [
      " Average purity is 0.5346027682214577\n"
     ]
    }
   ],
   "source": [
    "train_data = pd.read_csv('../input_data/Q1/intrusion_detection/data.csv')\n",
    "Y=train_data.iloc[:,29:30]\n",
    "a_label=np.array(Y)\n",
    "data = final_result\n",
    "c_mat = np.zeros((5,5))\n",
    "c_mat = c_mat.astype(int)\n",
    "c_label=finaler\n",
    "cleanup_nums = {\"xAttack\":{\"normal\": 0, \"dos\": 1, \"probe\": 2, \"r2l\" : 3, \"u2r\": 4}}\n",
    "new_df = Y\n",
    "new_df.replace(cleanup_nums, inplace=True)\n",
    "new_df.head()\n",
    "actual_labels = np.array(new_df['xAttack'])\n",
    "for i in range(len(c_label)):\n",
    "    x = c_label[i]\n",
    "    c_mat[x,actual_labels[i]] += 1\n",
    "\n",
    "temp = np.amax(c_mat,axis=1)\n",
    "purity_K = float(np.sum(temp))/len(c_label)\n",
    "print(' Average purity is ' + str(purity_K))"
   ]
  },
  {
   "cell_type": "markdown",
   "metadata": {},
   "source": [
    "### Q1_3 GMM"
   ]
  },
  {
   "cell_type": "code",
   "execution_count": 265,
   "metadata": {},
   "outputs": [],
   "source": [
    "data = X\n",
    "from sklearn.mixture import GaussianMixture\n",
    "gmm = GaussianMixture(n_components=5).fit(data)\n",
    "c_label = gmm.predict(data)"
   ]
  },
  {
   "cell_type": "code",
   "execution_count": 267,
   "metadata": {
    "scrolled": true
   },
   "outputs": [
    {
     "name": "stdout",
     "output_type": "stream",
     "text": [
      "Average Purity is  0.8070245619649572\n"
     ]
    }
   ],
   "source": [
    "train_data_1 = pd.read_csv('../input_data/Q1/intrusion_detection/data.csv')\n",
    "Y=train_data_1.iloc[:,29:30]\n",
    "data = final_result\n",
    "c_mat = np.zeros((5,5))\n",
    "c_mat = c_mat.astype(int)\n",
    "\n",
    "cleanup_nums = {\"xAttack\":{\"normal\": 0, \"dos\": 1, \"probe\": 2, \"r2l\" : 3, \"u2r\": 4}}\n",
    "new_df = Y\n",
    "new_df.replace(cleanup_nums, inplace=True)\n",
    "new_df.head()\n",
    "actual_labels = np.array(new_df['xAttack'])\n",
    "for i in range(len(c_label)):\n",
    "    x = c_label[i]\n",
    "    c_mat[x,actual_labels[i]] += 1\n",
    "\n",
    "temp = np.amax(c_mat,axis=1)\n",
    "purity_G = float(np.sum(temp))/len(c_label)\n",
    "print(\"Average Purity is \",purity_G)"
   ]
  },
  {
   "cell_type": "markdown",
   "metadata": {},
   "source": [
    "## Q4 Hierarical clustering"
   ]
  },
  {
   "cell_type": "code",
   "execution_count": 247,
   "metadata": {},
   "outputs": [],
   "source": [
    "from sklearn.cluster import AgglomerativeClustering"
   ]
  },
  {
   "cell_type": "code",
   "execution_count": 248,
   "metadata": {},
   "outputs": [],
   "source": [
    "def Hier(X):\n",
    "    data= X\n",
    "    Hclustering = AgglomerativeClustering(n_clusters=5,affinity='euclidean', linkage='ward')\n",
    "    Hclustering.fit(data)\n",
    "    return Hclustering"
   ]
  },
  {
   "cell_type": "code",
   "execution_count": 249,
   "metadata": {},
   "outputs": [],
   "source": [
    "CLus = Hier(X)"
   ]
  },
  {
   "cell_type": "raw",
   "metadata": {},
   "source": [
    "c_label=CLus.predict(X)"
   ]
  },
  {
   "cell_type": "code",
   "execution_count": 264,
   "metadata": {},
   "outputs": [
    {
     "name": "stdout",
     "output_type": "stream",
     "text": [
      "Average purity is 0.8271461716937355\n"
     ]
    }
   ],
   "source": [
    "tem = pd.read_csv('../input_data/Q1/intrusion_detection/data.csv')\n",
    "Y=tem.iloc[:,29:30]\n",
    "a_label=np.array(Y)\n",
    "data = final_result\n",
    "c_mat = np.zeros((5,5))\n",
    "c_mat = c_mat.astype(int)\n",
    "\n",
    "cleanup_nums = {\"xAttack\":{\"normal\": 0, \"dos\": 1, \"probe\": 2, \"r2l\" : 3, \"u2r\": 4}}\n",
    "new_df = Y\n",
    "new_df.replace(cleanup_nums, inplace=True)\n",
    "new_df.head()\n",
    "actual_labels = np.array(new_df['xAttack'])\n",
    "for i in range(len(c_label)):\n",
    "    x = c_label[i]\n",
    "    c_mat[x,actual_labels[i]] += 1\n",
    "temp = np.amax(c_mat,axis=1)\n",
    "purity_H = float(np.sum(temp))/len(c_label)\n",
    "print('Average purity is ' + str(purity_H))"
   ]
  },
  {
   "cell_type": "markdown",
   "metadata": {},
   "source": [
    "## Methods Vs Purity"
   ]
  },
  {
   "cell_type": "code",
   "execution_count": 251,
   "metadata": {},
   "outputs": [
    {
     "data": {
      "image/png": "[encoded data removed]",
      "text/plain": [
       "<matplotlib.figure.Figure at 0x7fdf8b4b1400>"
      ]
     },
     "metadata": {
      "needs_background": "light"
     },
     "output_type": "display_data"
    }
   ],
   "source": [
    "label=['K-MEANS','GMM','Hierarical']\n",
    "purity = [purity_K,purity_G,purity_G]\n",
    "index = np.arange(len(label))\n",
    "plt.bar(index, purity)\n",
    "plt.xlabel('CLustering Methods', fontsize=10)\n",
    "plt.ylabel('Purity', fontsize=10)\n",
    "plt.xticks(index, label, fontsize=10, rotation=30)\n",
    "plt.title('Purity Vs Method')\n",
    "plt.show()"
   ]
  },
  {
   "cell_type": "markdown",
   "metadata": {},
   "source": [
    "## Q5"
   ]
  },
  {
   "cell_type": "markdown",
   "metadata": {},
   "source": [
    "using PCA dimensionality reduction on original data can be done.\n",
    "As the data contains the categorical data and PCA can be done on contigous data ,so we can apply one-hot-encoding on the categorical part which converts the whole data set into contigous data,and hence PCA can now be easily done on the dataset"
   ]
  },
  {
   "cell_type": "code",
   "execution_count": null,
   "metadata": {},
   "outputs": [],
   "source": []
  }
 ],
 "metadata": {
  "kernelspec": {
   "display_name": "Python 3",
   "language": "python",
   "name": "python3"
  },
  "language_info": {
   "codemirror_mode": {
    "name": "ipython",
    "version": 3
   },
   "file_extension": ".py",
   "mimetype": "text/x-python",
   "name": "python",
   "nbconvert_exporter": "python",
   "pygments_lexer": "ipython3",
   "version": "3.6.7"
  }
 },
 "nbformat": 4,
 "nbformat_minor": 2
}
