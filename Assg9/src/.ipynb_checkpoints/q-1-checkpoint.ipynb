{
 "cells": [
  {
   "cell_type": "code",
   "execution_count": 1,
   "metadata": {},
   "outputs": [],
   "source": [
    "import pandas as pd\n",
    "import matplotlib.pyplot as plt\n",
    "import numpy as np\n",
    "import random\n",
    "import os\n",
    "from random import randint\n",
    "import math\n",
    "from copy import deepcopy\n",
    "import copy\n",
    "from sklearn.mixture import GaussianMixture\n",
    "from sklearn.cluster import AgglomerativeClustering\n",
    "from sklearn.metrics import accuracy_score\n",
    "import pickle\n",
    "eps = np.finfo(float).eps"
   ]
  },
  {
   "cell_type": "code",
   "execution_count": 2,
   "metadata": {
    "colab": {},
    "colab_type": "code",
    "id": "7gZGK2vhNdbR"
   },
   "outputs": [],
   "source": [
    "if __name__ == \"__main__\":\n",
    "    df = pd.read_csv(\"../input_data/intrusion_detection/data.csv\")\n",
    "    N = 10"
   ]
  },
  {
   "cell_type": "code",
   "execution_count": 3,
   "metadata": {},
   "outputs": [],
   "source": [
    "def dataNormalization(train, target):\n",
    "    trainFeatures = train.drop([target], axis = 1)\n",
    "    trainMean = trainFeatures.mean()\n",
    "    trainStd = trainFeatures.std()\n",
    "    trainFeatures = (trainFeatures - trainMean) / trainStd\n",
    "    return trainFeatures.values.tolist()"
   ]
  },
  {
   "cell_type": "code",
   "execution_count": 4,
   "metadata": {},
   "outputs": [],
   "source": [
    "def train_test_split(df, test_size):\n",
    "    if isinstance(test_size, float):\n",
    "        test_size = round(test_size * len(df))\n",
    "    indices = df.index.tolist()\n",
    "    test_indices = random.sample(population=indices, k=test_size)\n",
    "    \n",
    "    test_df = df.loc[test_indices]\n",
    "    train_df = df.drop(test_indices)\n",
    "    return train_df, test_df"
   ]
  },
  {
   "cell_type": "code",
   "execution_count": 5,
   "metadata": {
    "colab": {},
    "colab_type": "code",
    "id": "gEq7gbDtLiDV"
   },
   "outputs": [],
   "source": [
    "tcol = \"xAttack\"\n",
    "train, test = train_test_split(df, test_size = 0.2)\n",
    "fullData = dataNormalization(df, tcol)"
   ]
  },
  {
   "cell_type": "code",
   "execution_count": 6,
   "metadata": {
    "colab": {},
    "colab_type": "code",
    "id": "ZBcOQZxNLiCk"
   },
   "outputs": [],
   "source": [
    "def sigmoid(gamma):\n",
    "    if gamma < 0:\n",
    "        expg = math.exp(gamma)\n",
    "        return 1 - 1/(1 + expg)\n",
    "    else:\n",
    "        expg = math.exp(-gamma)\n",
    "        return 1/(1 + expg)"
   ]
  },
  {
   "cell_type": "code",
   "execution_count": 7,
   "metadata": {
    "colab": {},
    "colab_type": "code",
    "id": "UBnKaQDyLiCt"
   },
   "outputs": [],
   "source": [
    "def sigmoid_prime(x):\n",
    "    newx = (1- x)\n",
    "    return x * newx"
   ]
  },
  {
   "cell_type": "code",
   "execution_count": 8,
   "metadata": {
    "colab": {},
    "colab_type": "code",
    "id": "R7PGSwuELiC2"
   },
   "outputs": [],
   "source": [
    "def ReLU(x):\n",
    "    maxval = np.maximum(0.0, x)\n",
    "    return maxval\n",
    "\n",
    "def ReLU_derivation(x):\n",
    "    x = x < 0\n",
    "    return x"
   ]
  },
  {
   "cell_type": "code",
   "execution_count": 9,
   "metadata": {
    "colab": {},
    "colab_type": "code",
    "id": "KUKeuspNLiC8"
   },
   "outputs": [],
   "source": [
    "def linear(x):\n",
    "    return x"
   ]
  },
  {
   "cell_type": "code",
   "execution_count": 10,
   "metadata": {
    "colab": {},
    "colab_type": "code",
    "id": "zI_w6ehvLiDD"
   },
   "outputs": [],
   "source": [
    "def linear_derivation(x):\n",
    "    return 1"
   ]
  },
  {
   "cell_type": "code",
   "execution_count": 11,
   "metadata": {
    "colab": {},
    "colab_type": "code",
    "id": "afdK-0S2LiDM"
   },
   "outputs": [],
   "source": [
    "class NeuralNetwork:\n",
    "    def __init__(self, nodes_list, learnign_rate, activation_function, activation_prime):\n",
    "        self.weights, self.biases, self.nodes, self.layers, = [], [], nodes_list, len(nodes_list)\n",
    "        self.debug = False\n",
    "        self.learning_rate, self.act_func = learnign_rate, activation_function\n",
    "        self.act_func_prime, self.epsilon = activation_prime, 1e-15\n",
    "        for i in range(len(nodes_list)-1):\n",
    "            val = np.sqrt(2/nodes_list[i])\n",
    "            self.weights.append(np.random.randn(nodes_list[i+1],nodes_list[i]) * val)\n",
    "            self.biases.append(np.zeros((nodes_list[i+1], 1)))\n",
    "            \n",
    "    def compute_cost(self, prediction, target):\n",
    "        clipped = np.clip(prediction, self.epsilon, 1 - self.epsilon)\n",
    "        m = prediction.shape[1]\n",
    "        cost = target * np.log(clipped) + (1 - target) * np.log(1 - clipped)\n",
    "        return -np.sum(cost)/prediction.shape[1]\n",
    "      \n",
    "    def softmax(self, z):\n",
    "        y = np.nan_to_num(np.exp(z - z.max(axis=0, keepdims = True)))\n",
    "        y = y / y.sum(axis=0, keepdims = True)\n",
    "        return y\n",
    "        \n",
    "    def feed_forward(self, input_array, length):\n",
    "        X = np.array(input_array).T\n",
    "        for i in range(length - 1):\n",
    "            X = np.dot(self.weights[i], X) + self.biases[i]\n",
    "            X = np.vectorize(self.act_func)(X)   # how is it working?\n",
    "        return X\n",
    "      \n",
    "    def train(self, input_array, target, m):\n",
    "        X, inputs = np.array(input_array).T, []\n",
    "        inputs.append(X)\n",
    "        outputs = []\n",
    "        for i in range(len(self.weights) - 1):\n",
    "            X = np.dot(self.weights[i], X) + self.biases[i]\n",
    "            X = np.vectorize(self.act_func)(X)\n",
    "            outputs.append(X)\n",
    "            inputs.append(X)\n",
    "        \n",
    "        X = np.dot(self.weights[len(self.weights)-1],X) + self.biases[len(self.weights)-1]\n",
    "        outputs.append(X)\n",
    "        inputs.append(X)\n",
    "        \n",
    "        predicted, target = X, np.array(target).T\n",
    "        errors, error = [], target - predicted\n",
    "        errors.append(error)\n",
    "        i = len(self.weights)-1\n",
    "      \n",
    "        while(i > 0):\n",
    "            error = np.dot(self.weights[i].T, error)\n",
    "            errors.append(error)\n",
    "            i -= 1\n",
    "            \n",
    "        i = len(self.weights)-1\n",
    "        errors = list(reversed(errors))\n",
    "        act_fun_pr = self.act_func_prime\n",
    "        gradients = target - predicted\n",
    "        LR = self.learning_rate\n",
    "        valg = np.dot(gradients, inputs[i].T)\n",
    "        delta_weight = (1 / m) * LR * valg\n",
    "\n",
    "        self.weights[i] += delta_weight\n",
    "        meaner = gradients.mean(axis=1)\n",
    "        meanval = meaner.reshape(len(meaner),1)\n",
    "        self.biases[i] += LR * meanval\n",
    "        i -= 1        \n",
    "        \n",
    "        while(i >= 0):\n",
    "            gradients = (errors[i] * act_fun_pr(outputs[i]))\n",
    "            gradients = gradients.reshape(len(gradients),len(gradients[0]))\n",
    "            valg = np.dot(gradients, inputs[i].T) \n",
    "            delta_weight = (1 / m) * LR * valg\n",
    "            \n",
    "            meaner = gradients.mean(axis=1)\n",
    "            self.weights[i] += delta_weight\n",
    "            meanval = meaner.reshape(len(meaner),1)\n",
    "            self.biases[i] += self.learning_rate * meanval\n",
    "            i -= 1 \n",
    "        return "
   ]
  },
  {
   "cell_type": "markdown",
   "metadata": {
    "colab_type": "text",
    "id": "tHE-8agHAmka"
   },
   "source": [
    "## Activation as ReLu"
   ]
  },
  {
   "cell_type": "code",
   "execution_count": null,
   "metadata": {
    "colab": {},
    "colab_type": "code",
    "id": "lzfahV6xLiEL"
   },
   "outputs": [],
   "source": [
    "Layers, LearningRate, batch, accuracy_list = [29,14,29], 0.1, 512, []\n",
    "NonLineraNN = NeuralNetwork(Layers, LearningRate, ReLU, ReLU_derivation)\n",
    "for epocs in range(N):\n",
    "    for i in range(0, len(fullData) - batch, batch):\n",
    "        val = i + batch\n",
    "        nn.train(fullData[i:val], fullData[i:val], batch)"
   ]
  },
  {
   "cell_type": "code",
   "execution_count": 382,
   "metadata": {},
   "outputs": [],
   "source": [
    "reducedData1 = NonLineraNN.feed_forward(fullData, 2)\n",
    "reducedData1 = reducedData1.T"
   ]
  },
  {
   "cell_type": "code",
   "execution_count": 383,
   "metadata": {},
   "outputs": [
    {
     "data": {
      "text/plain": [
       "(24998, 14)"
      ]
     },
     "execution_count": 383,
     "metadata": {},
     "output_type": "execute_result"
    }
   ],
   "source": [
    "reducedData1.shape"
   ]
  },
  {
   "cell_type": "markdown",
   "metadata": {},
   "source": [
    "### Linera Activation Function"
   ]
  },
  {
   "cell_type": "code",
   "execution_count": 384,
   "metadata": {},
   "outputs": [],
   "source": [
    "Layers, LearningRate, batch, accuracy_list = [29,14,29], 0.01, 512, []\n",
    "LineraNN = NeuralNetwork(Layers, LearningRate, linear, linear_derivation)\n",
    "for epocs in range(N):\n",
    "    for i in range(0, len(fullData) - batch, batch):\n",
    "        val = i + batch\n",
    "        nn.train(fullData[i:val], fullData[i:val], batch)"
   ]
  },
  {
   "cell_type": "code",
   "execution_count": 385,
   "metadata": {},
   "outputs": [],
   "source": [
    "reducedData2 = LineraNN.feed_forward(fullData, 2)\n",
    "reducedData2 = reducedData2.T"
   ]
  },
  {
   "cell_type": "code",
   "execution_count": 386,
   "metadata": {},
   "outputs": [
    {
     "data": {
      "text/plain": [
       "(24998, 14)"
      ]
     },
     "execution_count": 386,
     "metadata": {},
     "output_type": "execute_result"
    }
   ],
   "source": [
    "reducedData2.shape"
   ]
  },
  {
   "cell_type": "markdown",
   "metadata": {},
   "source": [
    "### Deep Autoencoders"
   ]
  },
  {
   "cell_type": "code",
   "execution_count": 387,
   "metadata": {},
   "outputs": [],
   "source": [
    "Layers, LearningRate, batch, accuracy_list = [29,20,14,20,29], 0.1, 512, []\n",
    "NonLineraNN = NeuralNetwork(Layers, LearningRate, ReLU, ReLU_derivation)\n",
    "for epocs in range(N):\n",
    "    for i in range(0, len(fullData) - batch, batch):\n",
    "        val = i + batch\n",
    "        nn.train(fullData[i:val], fullData[i:val], batch)"
   ]
  },
  {
   "cell_type": "code",
   "execution_count": 388,
   "metadata": {},
   "outputs": [],
   "source": [
    "reducedData3 = LineraNN.feed_forward(fullData, 2)\n",
    "reducedData3 = reducedData3.T"
   ]
  },
  {
   "cell_type": "code",
   "execution_count": 389,
   "metadata": {},
   "outputs": [
    {
     "data": {
      "text/plain": [
       "(24998, 14)"
      ]
     },
     "execution_count": 389,
     "metadata": {},
     "output_type": "execute_result"
    }
   ],
   "source": [
    "reducedData3.shape"
   ]
  },
  {
   "cell_type": "markdown",
   "metadata": {},
   "source": [
    "# Q2 K-Means"
   ]
  },
  {
   "cell_type": "code",
   "execution_count": 390,
   "metadata": {},
   "outputs": [],
   "source": [
    "X = pd.DataFrame(reducedData1)"
   ]
  },
  {
   "cell_type": "code",
   "execution_count": 391,
   "metadata": {
    "colab": {
     "base_uri": "https://localhost:8080/",
     "height": 361
    },
    "colab_type": "code",
    "id": "WREnem4Uu5vq",
    "outputId": "e4ecfa18-8e73-4184-be4f-10a7af3cba49"
   },
   "outputs": [],
   "source": [
    "def clustering_start_centroids(data, k = 5, y = 0):\n",
    "    while y < 5:\n",
    "        centroids, finaler = {}, []\n",
    "        for i in range(k):\n",
    "            coord = []\n",
    "            for j in range(len(data[0])):\n",
    "                minval = int(min(data[:,j]))\n",
    "                maxval = int(max(data[:,j]))\n",
    "                coord.append(np.random.randint(minval, maxval))\n",
    "            centroids[i] = coord\n",
    "        for featureset in data:\n",
    "            distances = []\n",
    "            for centroid in centroids:\n",
    "                distances.append(np.linalg.norm(featureset-centroids[centroid]))\n",
    "            classification = np.argmin(distances)\n",
    "            finaler.append(classification)\n",
    "        finaler_S = set(finaler)\n",
    "        y = len(finaler_S)\n",
    "    return centroids, finaler"
   ]
  },
  {
   "cell_type": "code",
   "execution_count": 399,
   "metadata": {},
   "outputs": [],
   "source": [
    "def helper(start, finaler, X):\n",
    "    data, k = X.values, 5\n",
    "    counter, centroids, c_old = 10, start, finaler\n",
    "    while counter:\n",
    "        classifications, finaler = {}, []\n",
    "        for i in range(k):\n",
    "            classifications[i] = []\n",
    "        c_old = copy.deepcopy(finaler)\n",
    "        for featureset in data:\n",
    "            distances = []\n",
    "            for centroid in centroids:\n",
    "                distances.append(np.linalg.norm(featureset-centroids[centroid]))  \n",
    "            classification = np.argmin(distances)\n",
    "            finaler.append(classification)\n",
    "            classifications[classification].append(featureset)\n",
    "        counter -= 1\n",
    "        prev_centroids = dict(centroids)\n",
    "        for classification in classifications:\n",
    "            centroids[classification] = np.average(classifications[classification],axis=0)\n",
    "        if counter == 0:\n",
    "            break \n",
    "        if c_old == finaler:\n",
    "            break\n",
    "    return finaler"
   ]
  },
  {
   "cell_type": "code",
   "execution_count": 406,
   "metadata": {},
   "outputs": [],
   "source": [
    "def purityCheck(finaler, df):\n",
    "    a_label, data = np.array(df[tcol]), X\n",
    "    c_mat, c_label = (np.zeros((5,5))).astype(int), finaler\n",
    "\n",
    "    new_df = df[tcol]\n",
    "    actual_labels = np.array(new_df.map({\"normal\": 0, \"dos\": 1, \"probe\": 2, \"r2l\" : 3, \"u2r\": 4}))\n",
    "    for i in range(len(c_label)):\n",
    "        c_mat[c_label[i], actual_labels[i]] += 1\n",
    "\n",
    "    purity_K = float(np.sum(np.amax(c_mat,axis=1)))/len(c_label)\n",
    "    return purity_K"
   ]
  },
  {
   "cell_type": "markdown",
   "metadata": {},
   "source": [
    "# Q1_3 GMM"
   ]
  },
  {
   "cell_type": "code",
   "execution_count": 411,
   "metadata": {},
   "outputs": [],
   "source": [
    "def gmmModel(data):\n",
    "    gmm = GaussianMixture(n_components=5).fit(data)\n",
    "    c_label = gmm.predict(data)\n",
    "    return c_label"
   ]
  },
  {
   "cell_type": "code",
   "execution_count": 414,
   "metadata": {},
   "outputs": [],
   "source": [
    "def gmmPurity(c_label, df):\n",
    "    c_mat = np.zeros((5,5)).astype(int)\n",
    "\n",
    "    new_df = df[tcol]\n",
    "    actual_labels = np.array(new_df.map({\"normal\": 0, \"dos\": 1, \"probe\": 2, \"r2l\" : 3, \"u2r\": 4}))\n",
    "    for i in range(len(c_label)):\n",
    "        c_mat[c_label[i], actual_labels[i]] += 1\n",
    "\n",
    "    purity_G = float(np.sum(np.amax(c_mat,axis=1)))/len(c_label)\n",
    "    return purity_G"
   ]
  },
  {
   "cell_type": "markdown",
   "metadata": {},
   "source": [
    "# Q4 Hierarical clustering"
   ]
  },
  {
   "cell_type": "code",
   "execution_count": 440,
   "metadata": {},
   "outputs": [],
   "source": [
    "def Hier(X):\n",
    "    Hclustering = AgglomerativeClustering(n_clusters = 5, affinity = 'euclidean', linkage = 'ward')\n",
    "    Hclustering.fit(np.array(X[:-20000]))\n",
    "    c_label = Hclustering.labels_\n",
    "    return c_label"
   ]
  },
  {
   "cell_type": "code",
   "execution_count": 417,
   "metadata": {},
   "outputs": [],
   "source": [
    "def hierPurity(c_label, df):\n",
    "    c_mat = np.zeros((5,5)).astype(int)\n",
    "\n",
    "    new_df = df[tcol]\n",
    "    actual_labels = np.array(new_df.map({\"normal\": 0, \"dos\": 1, \"probe\": 2, \"r2l\" : 3, \"u2r\": 4}))\n",
    "    for i in range(len(c_label)):\n",
    "        c_mat[c_label[i], actual_labels[i]] += 1\n",
    "\n",
    "    purity_H = float(np.sum(np.amax(c_mat,axis=1)))/len(c_label)\n",
    "    return purity_H"
   ]
  },
  {
   "cell_type": "markdown",
   "metadata": {},
   "source": [
    "### View Pie-Chart"
   ]
  },
  {
   "cell_type": "code",
   "execution_count": 419,
   "metadata": {},
   "outputs": [],
   "source": [
    "def showPieChart(purity_K, purity_G, purity_H):\n",
    "    slices_hours = [purity_K, purity_G, purity_H]\n",
    "    activities = ['K-Means', 'GMM', 'Hierarchical']\n",
    "    explode = (0.025, 0.025, 0.025)\n",
    "    colors = ['orange', 'coral','green']\n",
    "    fig1, ax1 = plt.subplots()\n",
    "    ax1.pie(slices_hours, explode=explode,colors=colors, labels=activities, autopct='%1.1f%%',\n",
    "            shadow=True, startangle=120)\n",
    "    ax1.axis('equal') \n",
    "    plt.show()"
   ]
  },
  {
   "cell_type": "markdown",
   "metadata": {},
   "source": [
    "### 3-Layer autoencoder with non-linear activation functions"
   ]
  },
  {
   "cell_type": "code",
   "execution_count": 435,
   "metadata": {},
   "outputs": [],
   "source": [
    "start, finaler = clustering_start_centroids(np.array(X), 5)\n",
    "finaler = helper(start, finaler, X)\n",
    "purity_K = purityCheck(finaler, df)"
   ]
  },
  {
   "cell_type": "code",
   "execution_count": 436,
   "metadata": {},
   "outputs": [
    {
     "name": "stdout",
     "output_type": "stream",
     "text": [
      " Average purity is 0.8346827746219698\n"
     ]
    }
   ],
   "source": [
    "print(' Average purity is ' + str(purity_K))"
   ]
  },
  {
   "cell_type": "code",
   "execution_count": 437,
   "metadata": {},
   "outputs": [
    {
     "name": "stdout",
     "output_type": "stream",
     "text": [
      "Average Purity is  0.7849827986238899\n"
     ]
    }
   ],
   "source": [
    "c_label = gmmModel(X)\n",
    "purity_G = gmmPurity(c_label, df)\n",
    "print(\"Average Purity is \",purity_G)"
   ]
  },
  {
   "cell_type": "code",
   "execution_count": 438,
   "metadata": {},
   "outputs": [
    {
     "name": "stdout",
     "output_type": "stream",
     "text": [
      "Average Purity is  0.8353341336534614\n"
     ]
    }
   ],
   "source": [
    "c_label = Hier(X)\n",
    "purity_H = hierPurity(c_label, df)\n",
    "print(\"Average Purity is \", purity_H)"
   ]
  },
  {
   "cell_type": "code",
   "execution_count": 439,
   "metadata": {},
   "outputs": [
    {
     "data": {
      "image/png": "[encoded data removed]",
      "text/plain": [
       "<Figure size 432x288 with 1 Axes>"
      ]
     },
     "metadata": {},
     "output_type": "display_data"
    }
   ],
   "source": [
    "showPieChart(purity_K, purity_G, purity_H)"
   ]
  },
  {
   "cell_type": "markdown",
   "metadata": {},
   "source": [
    "### 3-Layer autoencoder with linear activation functions"
   ]
  },
  {
   "cell_type": "code",
   "execution_count": 421,
   "metadata": {},
   "outputs": [],
   "source": [
    "X = pd.DataFrame(reducedData2)"
   ]
  },
  {
   "cell_type": "code",
   "execution_count": 422,
   "metadata": {},
   "outputs": [],
   "source": [
    "start, finaler = clustering_start_centroids(np.array(X), 5)\n",
    "finaler = helper(start, finaler, X)\n",
    "purity_K = purityCheck(finaler, df)"
   ]
  },
  {
   "cell_type": "code",
   "execution_count": 424,
   "metadata": {},
   "outputs": [
    {
     "name": "stdout",
     "output_type": "stream",
     "text": [
      " Average purity is 0.8346427714217137\n"
     ]
    }
   ],
   "source": [
    "print(' Average purity is ' + str(purity_K))"
   ]
  },
  {
   "cell_type": "code",
   "execution_count": 425,
   "metadata": {},
   "outputs": [
    {
     "name": "stdout",
     "output_type": "stream",
     "text": [
      "Average Purity is  0.837907032562605\n"
     ]
    }
   ],
   "source": [
    "c_label = gmmModel(X)\n",
    "purity_G = gmmPurity(c_label, df)\n",
    "print(\"Average Purity is \",purity_G)"
   ]
  },
  {
   "cell_type": "code",
   "execution_count": 426,
   "metadata": {},
   "outputs": [
    {
     "name": "stdout",
     "output_type": "stream",
     "text": [
      "Average Purity is  0.8353341336534614\n"
     ]
    }
   ],
   "source": [
    "c_label = Hier(X)\n",
    "purity_H = hierPurity(c_label, df)\n",
    "print(\"Average Purity is \", purity_H)"
   ]
  },
  {
   "cell_type": "code",
   "execution_count": 427,
   "metadata": {},
   "outputs": [
    {
     "data": {
      "image/png": "[encoded data removed]",
      "text/plain": [
       "<Figure size 432x288 with 1 Axes>"
      ]
     },
     "metadata": {},
     "output_type": "display_data"
    }
   ],
   "source": [
    "showPieChart(purity_K, purity_G, purity_H)"
   ]
  },
  {
   "cell_type": "markdown",
   "metadata": {},
   "source": [
    "### Deep autoencoder with non-linear activation functions"
   ]
  },
  {
   "cell_type": "code",
   "execution_count": 428,
   "metadata": {},
   "outputs": [],
   "source": [
    "X = pd.DataFrame(reducedData3)"
   ]
  },
  {
   "cell_type": "code",
   "execution_count": 429,
   "metadata": {},
   "outputs": [],
   "source": [
    "start, finaler = clustering_start_centroids(np.array(X), 5)\n",
    "finaler = helper(start, finaler, X)\n",
    "purity_K = purityCheck(finaler, df)"
   ]
  },
  {
   "cell_type": "code",
   "execution_count": 432,
   "metadata": {},
   "outputs": [
    {
     "name": "stdout",
     "output_type": "stream",
     "text": [
      " Average purity is 0.8570445635650852\n"
     ]
    }
   ],
   "source": [
    "print(' Average purity is ' + str(purity_K))"
   ]
  },
  {
   "cell_type": "code",
   "execution_count": 431,
   "metadata": {},
   "outputs": [
    {
     "name": "stdout",
     "output_type": "stream",
     "text": [
      "Average Purity is  0.8349067925434035\n"
     ]
    }
   ],
   "source": [
    "c_label = gmmModel(X)\n",
    "purity_G = gmmPurity(c_label, df)\n",
    "print(\"Average Purity is \",purity_G)"
   ]
  },
  {
   "cell_type": "code",
   "execution_count": 433,
   "metadata": {},
   "outputs": [
    {
     "name": "stdout",
     "output_type": "stream",
     "text": [
      "Average Purity is  0.8353341336534614\n"
     ]
    }
   ],
   "source": [
    "c_label = Hier(X)\n",
    "purity_H = hierPurity(c_label, df)\n",
    "print(\"Average Purity is \", purity_H)"
   ]
  },
  {
   "cell_type": "code",
   "execution_count": 434,
   "metadata": {},
   "outputs": [
    {
     "data": {
      "image/png": "[encoded data removed]",
      "text/plain": [
       "<Figure size 432x288 with 1 Axes>"
      ]
     },
     "metadata": {},
     "output_type": "display_data"
    }
   ],
   "source": [
    "showPieChart(purity_K, purity_G, purity_H)"
   ]
  },
  {
   "cell_type": "code",
   "execution_count": null,
   "metadata": {},
   "outputs": [],
   "source": []
  }
 ],
 "metadata": {
  "accelerator": "GPU",
  "colab": {
   "collapsed_sections": [],
   "name": "Untitled.ipynb",
   "provenance": [],
   "version": "0.3.2"
  },
  "kernelspec": {
   "display_name": "Python 3",
   "language": "python",
   "name": "python3"
  },
  "language_info": {
   "codemirror_mode": {
    "name": "ipython",
    "version": 3
   },
   "file_extension": ".py",
   "mimetype": "text/x-python",
   "name": "python",
   "nbconvert_exporter": "python",
   "pygments_lexer": "ipython3",
   "version": "3.6.7"
  }
 },
 "nbformat": 4,
 "nbformat_minor": 2
}
