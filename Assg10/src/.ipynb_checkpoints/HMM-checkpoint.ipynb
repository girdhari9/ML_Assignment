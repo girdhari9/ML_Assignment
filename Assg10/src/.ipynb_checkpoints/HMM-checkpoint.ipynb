{
 "cells": [
  {
   "cell_type": "code",
   "execution_count": 16,
   "metadata": {},
   "outputs": [],
   "source": [
    "import warnings\n",
    "import time\n",
    "import sys\n",
    "import numpy as np\n",
    "import pandas as pd\n",
    "import matplotlib.pyplot as plt\n",
    "from hmmlearn import hmm\n",
    "import os\n",
    "warnings.filterwarnings(\"ignore\", category=DeprecationWarning)"
   ]
  },
  {
   "cell_type": "code",
   "execution_count": 11,
   "metadata": {},
   "outputs": [],
   "source": [
    "def getPath():\n",
    "    PATH = \"../input_data\"\n",
    "    filename = os.listdir(PATH)\n",
    "    filepath = os.getcwd()\n",
    "    return (filepath + \"/\" + PATH + \"/\" + filename[0])"
   ]
  },
  {
   "cell_type": "code",
   "execution_count": 12,
   "metadata": {},
   "outputs": [],
   "source": [
    "PATH = getPath()"
   ]
  },
  {
   "cell_type": "code",
   "execution_count": 17,
   "metadata": {},
   "outputs": [],
   "source": [
    "def loadData(PATH):\n",
    "    df = pd.read_csv(PATH)\n",
    "    df = df.drop([0])\n",
    "    return df"
   ]
  },
  {
   "cell_type": "code",
   "execution_count": 24,
   "metadata": {},
   "outputs": [],
   "source": [
    "df = loadData(PATH)\n",
    "df = df.drop(['date', 'volume'], axis = 1)"
   ]
  },
  {
   "cell_type": "code",
   "execution_count": 25,
   "metadata": {},
   "outputs": [
    {
     "data": {
      "text/html": [
       "<div>\n",
       "<style scoped>\n",
       "    .dataframe tbody tr th:only-of-type {\n",
       "        vertical-align: middle;\n",
       "    }\n",
       "\n",
       "    .dataframe tbody tr th {\n",
       "        vertical-align: top;\n",
       "    }\n",
       "\n",
       "    .dataframe thead th {\n",
       "        text-align: right;\n",
       "    }\n",
       "</style>\n",
       "<table border=\"1\" class=\"dataframe\">\n",
       "  <thead>\n",
       "    <tr style=\"text-align: right;\">\n",
       "      <th></th>\n",
       "      <th>close</th>\n",
       "      <th>open</th>\n",
       "      <th>high</th>\n",
       "      <th>low</th>\n",
       "    </tr>\n",
       "  </thead>\n",
       "  <tbody>\n",
       "    <tr>\n",
       "      <th>1</th>\n",
       "      <td>1184.6200</td>\n",
       "      <td>1198.5300</td>\n",
       "      <td>1202.8300</td>\n",
       "      <td>1176.7200</td>\n",
       "    </tr>\n",
       "    <tr>\n",
       "      <th>2</th>\n",
       "      <td>1193.0000</td>\n",
       "      <td>1196.9300</td>\n",
       "      <td>1206.3975</td>\n",
       "      <td>1187.0400</td>\n",
       "    </tr>\n",
       "    <tr>\n",
       "      <th>3</th>\n",
       "      <td>1205.5000</td>\n",
       "      <td>1226.3200</td>\n",
       "      <td>1230.0000</td>\n",
       "      <td>1202.8250</td>\n",
       "    </tr>\n",
       "    <tr>\n",
       "      <th>4</th>\n",
       "      <td>1231.5400</td>\n",
       "      <td>1216.0000</td>\n",
       "      <td>1231.7900</td>\n",
       "      <td>1213.1500</td>\n",
       "    </tr>\n",
       "    <tr>\n",
       "      <th>5</th>\n",
       "      <td>1223.9700</td>\n",
       "      <td>1197.3500</td>\n",
       "      <td>1227.1400</td>\n",
       "      <td>1196.1700</td>\n",
       "    </tr>\n",
       "  </tbody>\n",
       "</table>\n",
       "</div>"
      ],
      "text/plain": [
       "       close       open       high        low\n",
       "1  1184.6200  1198.5300  1202.8300  1176.7200\n",
       "2  1193.0000  1196.9300  1206.3975  1187.0400\n",
       "3  1205.5000  1226.3200  1230.0000  1202.8250\n",
       "4  1231.5400  1216.0000  1231.7900  1213.1500\n",
       "5  1223.9700  1197.3500  1227.1400  1196.1700"
      ]
     },
     "execution_count": 25,
     "metadata": {},
     "output_type": "execute_result"
    }
   ],
   "source": [
    "df.head()"
   ]
  },
  {
   "cell_type": "code",
   "execution_count": 99,
   "metadata": {},
   "outputs": [],
   "source": [
    "def modelsCombo(units, epochs):\n",
    "    combination = []\n",
    "    for unit in units:\n",
    "        for epoch in epochs:\n",
    "            combination.append([unit, epoch])\n",
    "    return combination"
   ]
  },
  {
   "cell_type": "code",
   "execution_count": 101,
   "metadata": {},
   "outputs": [],
   "source": [
    "params2 = modelsCombo([4,18,12], [20,50,75])"
   ]
  },
  {
   "cell_type": "code",
   "execution_count": 31,
   "metadata": {},
   "outputs": [],
   "source": [
    "NUM_TEST = 100\n",
    "K = 50\n",
    "NUM_ITERS = 10000"
   ]
  },
  {
   "cell_type": "code",
   "execution_count": 33,
   "metadata": {},
   "outputs": [],
   "source": [
    "# Possible number of states in Markov Model\n",
    "STATE_SPACE = range(2,15)"
   ]
  },
  {
   "cell_type": "code",
   "execution_count": 73,
   "metadata": {},
   "outputs": [
    {
     "name": "stdout",
     "output_type": "stream",
     "text": [
      "Optimum number of states are 8\n"
     ]
    }
   ],
   "source": [
    "dataset = np.array(df)\n",
    "predicted_stock_data = np.empty([0,dataset.shape[1]])\n",
    "likelihood_vect = np.empty([0,1])\n",
    "aic_vect = np.empty([0,1])\n",
    "bic_vect = np.empty([0,1])\n",
    "for states in STATE_SPACE:\n",
    "    num_params = states ** 2 + states\n",
    "    dirichlet_params_states = np.random.randint(1,50,states)\n",
    "    model = hmm.GaussianHMM(n_components=states, covariance_type='full', tol=0.0001, n_iter=NUM_ITERS)\n",
    "    model.fit(dataset[NUM_TEST:,:])\n",
    "    if model.monitor_.iter == NUM_ITERS:\n",
    "        print('Increase number of iterations')\n",
    "        sys.exit(1)\n",
    "    likelihood_vect = np.vstack((likelihood_vect, model.score(dataset)))\n",
    "    aic_vect = np.vstack((aic_vect, -2 * model.score(dataset) + 2 * num_params))\n",
    "    bic_vect = np.vstack((bic_vect, -2 * model.score(dataset) +  num_params * np.log(dataset.shape[0])))\n",
    "\n",
    "opt_states = np.argmin(bic_vect) + 2\n",
    "print('Optimum number of states are {}'.format(opt_states))"
   ]
  },
  {
   "cell_type": "code",
   "execution_count": 80,
   "metadata": {},
   "outputs": [],
   "source": [
    "for idx in reversed(range(NUM_TEST)):\n",
    "    train_dataset = dataset[idx + 1:,:]\n",
    "    \n",
    "    for index in range(len(train_dataset)):\n",
    "        train_dataset[index] = [float(val) for val in train_dataset[index]]\n",
    "    \n",
    "    test_data = dataset[idx,:]; \n",
    "    num_examples = train_dataset.shape[0]\n",
    "    if idx == NUM_TEST - 1:\n",
    "        model = hmm.GaussianHMM(n_components=opt_states, covariance_type='full', tol=0.0001, n_iter=NUM_ITERS, init_params='stmc')\n",
    "    else:\n",
    "        # Retune the model by using the HMM paramters from the previous iterations as the prior\n",
    "        model = hmm.GaussianHMM(n_components=opt_states, covariance_type='full', tol=0.0001, n_iter=NUM_ITERS, init_params='')\n",
    "        model.transmat_ = transmat_retune_prior \n",
    "        model.startprob_ = startprob_retune_prior\n",
    "        model.means_ = means_retune_prior\n",
    "        model.covars_ = covars_retune_prior\n",
    "\n",
    "    model.fit(np.flipud(train_dataset))\n",
    "\n",
    "    transmat_retune_prior = model.transmat_\n",
    "    startprob_retune_prior = model.startprob_\n",
    "    means_retune_prior = model.means_\n",
    "    covars_retune_prior = model.covars_\n",
    "\n",
    "    if model.monitor_.iter == NUM_ITERS:\n",
    "        print('Increase number of iterations')\n",
    "        sys.exit(1)\n",
    "\n",
    "    iters = 1;\n",
    "    past_likelihood = []\n",
    "    curr_likelihood = model.score(np.flipud(train_dataset[0:K - 1, :]))\n",
    "    while iters < num_examples / K - 1:\n",
    "        past_likelihood = np.append(past_likelihood, model.score(np.flipud(train_dataset[iters:iters + K - 1, :])))\n",
    "        iters = iters + 1\n",
    "    likelihood_diff_idx = np.argmin(np.absolute(past_likelihood - curr_likelihood))\n",
    "    predicted_change = train_dataset[likelihood_diff_idx,:] - train_dataset[likelihood_diff_idx + 1,:]\n",
    "    predicted_stock_data = np.vstack((predicted_stock_data, dataset[idx + 1,:] + predicted_change))\n",
    "np.savetxt('{}_forecast.csv'.format(stock),predicted_stock_data,delimiter=',',fmt='%.2f')"
   ]
  },
  {
   "cell_type": "code",
   "execution_count": 81,
   "metadata": {},
   "outputs": [],
   "source": [
    "def showGraph(real_stock_price, predicted_price):\n",
    "    plt.plot(real_stock_price,color = 'red', label = 'Real Price')\n",
    "    plt.plot(predicted_price, color = 'blue', label = 'Predicted Price')\n",
    "    plt.title('Google Stock Price Prediction')\n",
    "    plt.xlabel('Time')\n",
    "    plt.ylabel('Google Stock Price')\n",
    "    plt.legend()\n",
    "    plt.show()"
   ]
  },
  {
   "cell_type": "code",
   "execution_count": 98,
   "metadata": {},
   "outputs": [
    {
     "data": {
      "text/plain": [
       "array(['1184.6200', '1198.5300', '1202.8300', '1176.7200'], dtype=object)"
      ]
     },
     "execution_count": 98,
     "metadata": {},
     "output_type": "execute_result"
    }
   ],
   "source": [
    "(test_data)"
   ]
  },
  {
   "cell_type": "code",
   "execution_count": 97,
   "metadata": {},
   "outputs": [
    {
     "data": {
      "image/png": "[encoded data removed]",
      "text/plain": [
       "<Figure size 432x288 with 1 Axes>"
      ]
     },
     "metadata": {
      "needs_background": "light"
     },
     "output_type": "display_data"
    }
   ],
   "source": [
    "showGraph(train_dataset[100:], predicted_stock_data[100:])"
   ]
  },
  {
   "cell_type": "code",
   "execution_count": null,
   "metadata": {},
   "outputs": [],
   "source": [
    "if PLOT_TYPE:\n",
    "    hdl_p = plt.plot(range(100), predicted_stock_data);\n",
    "    plt.title('Predicted stock prices')\n",
    "    plt.legend(iter(hdl_p), ('Close','Open','High','Low'))\n",
    "    plt.xlabel('Time steps')\n",
    "    plt.ylabel('Price')\n",
    "    plt.figure()\n",
    "    hdl_a = plt.plot(range(100),np.flipud(dataset[range(100),:]))\n",
    "    plt.title('Actual stock prices')\n",
    "    plt.legend(iter(hdl_p), ('Close','Open','High','Low'))\n",
    "    plt.xlabel('Time steps')\n",
    "    plt.ylabel('Price')\n",
    "else:\n",
    "    for i in range(4):\n",
    "        plt.figure()\n",
    "        plt.plot(range(100), predicted_stock_data[:,i],'k-', label = 'Predicted '+labels[i]+' price');\n",
    "        plt.plot(range(100),np.flipud(dataset[range(100),i]),'r--', label = 'Actual '+labels[i]+' price')\n",
    "        plt.xlabel('Time steps')\n",
    "        plt.ylabel('Price')\n",
    "        plt.title(labels[i]+' price'+ ' for '+stock[:-4])\n",
    "        plt.grid(True)\n",
    "        plt.legend(loc = 'upper left')\n",
    "\n",
    "\n",
    "if PLOT_SHOW:\n",
    "    plt.show(block=False)"
   ]
  }
 ],
 "metadata": {
  "kernelspec": {
   "display_name": "Python 3",
   "language": "python",
   "name": "python3"
  },
  "language_info": {
   "codemirror_mode": {
    "name": "ipython",
    "version": 3
   },
   "file_extension": ".py",
   "mimetype": "text/x-python",
   "name": "python",
   "nbconvert_exporter": "python",
   "pygments_lexer": "ipython3",
   "version": "3.6.7"
  }
 },
 "nbformat": 4,
 "nbformat_minor": 2
}
