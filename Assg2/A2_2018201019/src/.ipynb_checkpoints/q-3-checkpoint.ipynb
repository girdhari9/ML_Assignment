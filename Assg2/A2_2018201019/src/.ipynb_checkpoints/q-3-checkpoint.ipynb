{
 "cells": [
  {
   "cell_type": "code",
   "execution_count": 5,
   "metadata": {},
   "outputs": [],
   "source": [
    "import numpy as np  \n",
    "import matplotlib.pyplot as plt  \n",
    "import pandas as pd\n",
    "import csv\n",
    "import random\n",
    "import math\n",
    "import operator\n",
    "from numpy.linalg import inv\n",
    "df = pd.read_csv(\"../input_data/Q3/AdmissionDataset/data.csv\")"
   ]
  },
  {
   "cell_type": "code",
   "execution_count": 6,
   "metadata": {},
   "outputs": [
    {
     "data": {
      "text/plain": [
       "Index(['Serial No.', 'GRE Score', 'TOEFL Score', 'University Rating', 'SOP',\n",
       "       'LOR ', 'CGPA', 'Research', 'Chance of Admit '],\n",
       "      dtype='object')"
      ]
     },
     "execution_count": 6,
     "metadata": {},
     "output_type": "execute_result"
    }
   ],
   "source": [
    "df.columns"
   ]
  },
  {
   "cell_type": "code",
   "execution_count": 7,
   "metadata": {},
   "outputs": [],
   "source": [
    "y = df['Chance of Admit '] \n",
    "df = df.drop('Serial No.',axis=1)\n",
    "df = df.drop('Chance of Admit ',axis=1)"
   ]
  },
  {
   "cell_type": "code",
   "execution_count": 8,
   "metadata": {},
   "outputs": [],
   "source": [
    "X=df.values\n",
    "z = np.ones((450,1))\n",
    "X=np.append(z,X, axis=1)"
   ]
  },
  {
   "cell_type": "code",
   "execution_count": 10,
   "metadata": {},
   "outputs": [
    {
     "data": {
      "text/plain": [
       "array([[  1.  , 317.  , 103.  , ...,   2.  ,   8.15,   0.  ],\n",
       "       [  1.  , 319.  , 108.  , ...,   3.5 ,   8.54,   1.  ],\n",
       "       [  1.  , 322.  , 110.  , ...,   2.5 ,   8.67,   1.  ],\n",
       "       ...,\n",
       "       [  1.  , 327.  , 114.  , ...,   3.  ,   9.02,   0.  ],\n",
       "       [  1.  , 337.  , 118.  , ...,   4.5 ,   9.65,   1.  ],\n",
       "       [  1.  , 312.  , 103.  , ...,   4.  ,   8.78,   0.  ]])"
      ]
     },
     "execution_count": 10,
     "metadata": {},
     "output_type": "execute_result"
    }
   ],
   "source": [
    "X"
   ]
  },
  {
   "cell_type": "code",
   "execution_count": 11,
   "metadata": {},
   "outputs": [],
   "source": [
    "X_trans=X.T"
   ]
  },
  {
   "cell_type": "code",
   "execution_count": 12,
   "metadata": {},
   "outputs": [],
   "source": [
    "temp=np.dot(X_trans,X)\n",
    "inv1=inv(temp)"
   ]
  },
  {
   "cell_type": "code",
   "execution_count": 13,
   "metadata": {},
   "outputs": [
    {
     "data": {
      "text/plain": [
       "(8, 8)"
      ]
     },
     "execution_count": 13,
     "metadata": {},
     "output_type": "execute_result"
    }
   ],
   "source": [
    "# ar=np.array([[1,2,3],[4,5,6]])\n",
    "# b=np.array([[2],[1],[1]])\n",
    "# temp2=np.dot(ar,b)\n",
    "# temp2\n",
    "inv1.shape\n"
   ]
  },
  {
   "cell_type": "code",
   "execution_count": 14,
   "metadata": {},
   "outputs": [],
   "source": [
    "temp2=np.dot(inv1,X_trans)"
   ]
  },
  {
   "cell_type": "code",
   "execution_count": 15,
   "metadata": {},
   "outputs": [
    {
     "data": {
      "text/plain": [
       "(8, 450)"
      ]
     },
     "execution_count": 15,
     "metadata": {},
     "output_type": "execute_result"
    }
   ],
   "source": [
    "temp2.shape"
   ]
  },
  {
   "cell_type": "code",
   "execution_count": 16,
   "metadata": {},
   "outputs": [
    {
     "data": {
      "text/plain": [
       "(450,)"
      ]
     },
     "execution_count": 16,
     "metadata": {},
     "output_type": "execute_result"
    }
   ],
   "source": [
    "y.shape"
   ]
  },
  {
   "cell_type": "code",
   "execution_count": 17,
   "metadata": {},
   "outputs": [],
   "source": [
    "beta=np.dot(temp2,y)"
   ]
  },
  {
   "cell_type": "code",
   "execution_count": 18,
   "metadata": {},
   "outputs": [
    {
     "data": {
      "text/plain": [
       "array([-1.28832972,  0.00194069,  0.00284917,  0.00682386,  0.00138978,\n",
       "        0.01583202,  0.11583813,  0.02719106])"
      ]
     },
     "execution_count": 18,
     "metadata": {},
     "output_type": "execute_result"
    }
   ],
   "source": [
    "beta"
   ]
  },
  {
   "cell_type": "code",
   "execution_count": 19,
   "metadata": {},
   "outputs": [],
   "source": [
    "# df.head"
   ]
  },
  {
   "cell_type": "markdown",
   "metadata": {},
   "source": [
    "### X.shape"
   ]
  },
  {
   "cell_type": "code",
   "execution_count": 21,
   "metadata": {},
   "outputs": [],
   "source": [
    "y_pred=np.dot(X,beta)"
   ]
  },
  {
   "cell_type": "code",
   "execution_count": 22,
   "metadata": {},
   "outputs": [
    {
     "data": {
      "text/plain": [
       "(450,)"
      ]
     },
     "execution_count": 22,
     "metadata": {},
     "output_type": "execute_result"
    }
   ],
   "source": [
    "y_pred.shape"
   ]
  },
  {
   "cell_type": "code",
   "execution_count": 23,
   "metadata": {},
   "outputs": [
    {
     "data": {
      "text/plain": [
       "array([0.61319983, 0.7349618 , 0.74640403, 0.88606167, 0.68980031,\n",
       "       0.65780094, 0.79274995, 0.69968376, 0.66728838, 0.51341725,\n",
       "       0.82002831, 0.94296394, 0.62188534, 0.73377633, 0.96937092,\n",
       "       0.76638183, 0.87893054, 0.75859346, 0.51426203, 0.53774877,\n",
       "       0.53564561, 0.63031467, 0.49262017, 0.59343471, 0.82020172,\n",
       "       0.58624888, 0.73330113, 0.61353897, 0.95438832, 0.89748608,\n",
       "       0.81356553, 0.60646255, 0.69612969, 0.78859013, 0.77562437,\n",
       "       0.56431887, 0.52131131, 0.57955571, 0.6688057 , 0.62155163,\n",
       "       0.76229228, 0.94275303, 0.64328785, 0.6011062 , 0.62284824,\n",
       "       0.56609704, 0.99111244, 0.76183959, 0.64050061, 0.8040883 ,\n",
       "       0.56714518, 0.67960177, 0.88815557, 0.63927298, 0.81468203,\n",
       "       0.54975731, 0.61553866, 0.64952325, 0.61795647, 0.87240778,\n",
       "       0.70270896, 0.8672447 , 0.69867457, 0.83944143, 0.66637951,\n",
       "       0.88505101, 0.75755734, 0.94322758, 0.6234362 , 0.6672583 ,\n",
       "       0.83784938, 0.89297871, 0.69591213, 0.66251879, 0.7154104 ,\n",
       "       0.92739927, 0.67586148, 0.71415688, 0.80000197, 0.6670797 ,\n",
       "       0.8874004 , 0.66193575, 0.54349237, 0.67434386, 0.96028794,\n",
       "       0.85966904, 0.61869125, 0.64317914, 0.72391692, 0.82123739,\n",
       "       0.82789495, 0.87674046, 0.67989014, 0.82366629, 0.94228706,\n",
       "       0.98658747, 0.8953884 , 0.88623892, 0.76436051, 0.52050342,\n",
       "       0.65734144, 0.98010348, 0.76291251, 0.50687671, 0.53845809,\n",
       "       0.90039273, 0.50330379, 0.65519045, 0.84033613, 0.59390437,\n",
       "       0.77018507, 0.86094439, 0.53451121, 0.71304806, 0.59580541,\n",
       "       0.57800057, 0.75513277, 0.50711911, 0.59024551, 0.90995089,\n",
       "       0.8819784 , 0.5513006 , 0.58502565, 0.87994171, 0.67891477,\n",
       "       0.81737818, 0.93855319, 0.67470753, 0.60557189, 0.70336839,\n",
       "       0.65785647, 0.51426255, 0.51702099, 0.61788529, 0.83569485,\n",
       "       0.85878984, 0.68468092, 0.61862708, 0.72461053, 0.60655374,\n",
       "       0.80656453, 0.78279798, 0.6711632 , 0.6456015 , 0.60720899,\n",
       "       0.678722  , 0.81439891, 0.51640796, 0.84678838, 0.60533995,\n",
       "       0.58950673, 0.52334042, 0.71886507, 0.64641929, 0.78560086,\n",
       "       0.63663224, 0.6930657 , 0.64868239, 0.91852278, 0.72936252,\n",
       "       0.77250515, 0.90905758, 0.55160161, 0.83817721, 0.81179963,\n",
       "       0.83418465, 0.87181544, 0.67993908, 0.65107104, 0.8261665 ,\n",
       "       0.75365112, 0.58012998, 0.64845326, 0.71774605, 0.71782036,\n",
       "       0.61029061, 0.57806953, 0.59775869, 0.71848881, 0.68756082,\n",
       "       0.58174439, 0.80611025, 0.82786256, 0.56288658, 0.90628654,\n",
       "       0.70323718, 0.65004988, 0.74116866, 0.56502887, 0.7317454 ,\n",
       "       0.80802327, 0.86179314, 0.57801596, 0.78042423, 0.74867341,\n",
       "       0.65673855, 0.78959465, 0.73512008, 0.76493518, 0.75781872,\n",
       "       0.59776174, 0.93586527, 0.74172864, 0.82741781, 0.73367549,\n",
       "       0.80566117, 0.50432949, 0.61566962, 0.54314304, 0.93594602,\n",
       "       0.70134476, 0.69747477, 0.65254171, 0.54353454, 0.69915954,\n",
       "       0.64953888, 0.65455218, 0.77797525, 0.42444801, 0.92260326,\n",
       "       0.83636602, 0.81976953, 0.73392957, 0.79720106, 0.98977676,\n",
       "       0.83525907, 0.90761321, 0.58059282, 0.77750412, 0.77348284,\n",
       "       0.77986104, 0.78171162, 0.91449124, 0.55936318, 0.80897753,\n",
       "       0.79445689, 0.71526265, 0.43405547, 0.88409388, 0.59986183,\n",
       "       0.78320383, 0.65687729, 0.94813477, 0.78662853, 0.70822365,\n",
       "       0.75888774, 0.71469392, 0.60826139, 0.83534306, 0.71857469,\n",
       "       0.67938255, 0.9691151 , 0.81778082, 0.79316061, 0.64859163,\n",
       "       0.76189889, 0.84567493, 0.6465815 , 0.56362963, 0.960848  ,\n",
       "       0.68466679, 0.90887965, 0.70474002, 0.62320027, 0.72306112,\n",
       "       0.54842988, 0.46548103, 0.72787497, 0.81759153, 0.85550145,\n",
       "       0.82375337, 0.68216191, 0.65798505, 0.84079793, 0.80978448,\n",
       "       0.95446237, 0.66958355, 0.62217515, 0.57749548, 0.53121333,\n",
       "       0.65724433, 0.63424268, 0.93658725, 0.61099784, 0.63823121,\n",
       "       0.71633397, 0.58629856, 0.85657217, 0.60965243, 0.56078997,\n",
       "       0.67954908, 0.95073861, 0.65954682, 0.8516564 , 0.47569564,\n",
       "       0.74809456, 0.86032456, 0.48471247, 0.70034168, 0.59676216,\n",
       "       0.70958537, 0.61409109, 0.63951852, 0.68580643, 0.53645464,\n",
       "       0.47648716, 0.72904982, 0.65956155, 0.5849048 , 0.85363007,\n",
       "       0.68359949, 0.85932228, 0.76997136, 1.00016896, 0.75653526,\n",
       "       0.65381672, 0.82715106, 0.78048152, 0.68249374, 0.79946959,\n",
       "       0.77141262, 0.74602796, 0.532733  , 0.63805739, 0.79983077,\n",
       "       0.96306262, 0.56169509, 0.64544391, 0.77208304, 0.50619083,\n",
       "       0.7727495 , 0.69793215, 0.64286617, 0.74649648, 0.74147323,\n",
       "       0.79091834, 0.62064338, 0.9266013 , 0.6294652 , 0.9100383 ,\n",
       "       0.8550263 , 0.94122411, 0.85065101, 0.63239844, 0.96425914,\n",
       "       0.65244434, 0.63110096, 0.92462736, 0.66191523, 0.62819515,\n",
       "       0.80699784, 0.73020513, 0.7265966 , 0.62048684, 0.86589673,\n",
       "       0.56368752, 0.65116731, 0.63599495, 0.52866541, 0.69647573,\n",
       "       0.58245595, 0.45534185, 0.61675256, 0.55399868, 0.74160806,\n",
       "       0.65729399, 0.69889564, 0.74497581, 0.90634932, 0.55506416,\n",
       "       0.68456819, 0.74245788, 0.78480294, 0.9076969 , 0.9623193 ,\n",
       "       0.71314891, 0.93263755, 0.77403934, 0.80489426, 0.44034654,\n",
       "       0.9111878 , 0.70707103, 0.78748975, 0.62108572, 0.82817809,\n",
       "       0.87725439, 0.85011618, 0.61890373, 0.7879131 , 0.73868651,\n",
       "       0.65266252, 0.63201032, 0.81333074, 0.70636626, 0.86067084,\n",
       "       0.84945378, 0.63166487, 0.56956174, 0.65445629, 0.78884568,\n",
       "       0.79258512, 0.70320923, 0.65334182, 0.56751176, 0.84522684,\n",
       "       0.91091726, 0.69043748, 0.77896868, 0.85922932, 0.88891392,\n",
       "       0.63844948, 0.64132536, 0.58982022, 0.50459101, 0.5313884 ,\n",
       "       0.76936362, 0.88226978, 0.47056355, 0.51040864, 0.70649482,\n",
       "       0.93503212, 0.75342143, 0.7823488 , 0.6802102 , 0.85273969,\n",
       "       0.7902874 , 0.82325112, 0.50539618, 0.8486808 , 0.64777006,\n",
       "       0.71022339, 0.68602305, 0.6643391 , 0.6578256 , 0.62771406,\n",
       "       0.64550331, 0.95073157, 0.71229246, 0.89828623, 0.63831921,\n",
       "       0.47103843, 0.86101638, 0.65355297, 0.48836614, 0.84737494,\n",
       "       0.60103918, 0.71571076, 0.78807757, 0.95170678, 0.71635211])"
      ]
     },
     "execution_count": 23,
     "metadata": {},
     "output_type": "execute_result"
    }
   ],
   "source": [
    "y_pred"
   ]
  },
  {
   "cell_type": "code",
   "execution_count": 24,
   "metadata": {},
   "outputs": [],
   "source": [
    "# np.append(z,X, axis=1)\n",
    "from sklearn.model_selection import train_test_split  \n",
    "X_train, X_test, y_train, y_test = train_test_split(X, y, test_size=0.2) "
   ]
  },
  {
   "cell_type": "code",
   "execution_count": null,
   "metadata": {},
   "outputs": [],
   "source": []
  },
  {
   "cell_type": "code",
   "execution_count": 25,
   "metadata": {},
   "outputs": [],
   "source": [
    "MSE=((y_pred-y)**2).sum()/len(y)"
   ]
  },
  {
   "cell_type": "code",
   "execution_count": 26,
   "metadata": {},
   "outputs": [
    {
     "data": {
      "text/plain": [
       "0.0036451639297362596"
      ]
     },
     "execution_count": 26,
     "metadata": {},
     "output_type": "execute_result"
    }
   ],
   "source": [
    "MSE"
   ]
  },
  {
   "cell_type": "code",
   "execution_count": 27,
   "metadata": {},
   "outputs": [],
   "source": [
    "MAE=(abs(y_pred-y)).sum()/len(y)"
   ]
  },
  {
   "cell_type": "code",
   "execution_count": 28,
   "metadata": {},
   "outputs": [
    {
     "data": {
      "text/plain": [
       "0.04314855606323841"
      ]
     },
     "execution_count": 28,
     "metadata": {},
     "output_type": "execute_result"
    }
   ],
   "source": [
    "MAE"
   ]
  },
  {
   "cell_type": "code",
   "execution_count": 29,
   "metadata": {},
   "outputs": [],
   "source": [
    "MPE=(((y_pred-y)/y).sum()/len(y))*100"
   ]
  },
  {
   "cell_type": "code",
   "execution_count": 30,
   "metadata": {},
   "outputs": [
    {
     "data": {
      "text/plain": [
       "1.0366934386398103"
      ]
     },
     "execution_count": 30,
     "metadata": {},
     "output_type": "execute_result"
    }
   ],
   "source": [
    "MPE"
   ]
  },
  {
   "cell_type": "code",
   "execution_count": 31,
   "metadata": {},
   "outputs": [
    {
     "data": {
      "text/plain": [
       "array([-1.28832972,  0.00194069,  0.00284917,  0.00682386,  0.00138978,\n",
       "        0.01583202,  0.11583813,  0.02719106])"
      ]
     },
     "execution_count": 31,
     "metadata": {},
     "output_type": "execute_result"
    }
   ],
   "source": [
    "beta"
   ]
  },
  {
   "cell_type": "code",
   "execution_count": 32,
   "metadata": {},
   "outputs": [
    {
     "data": {
      "image/png": "[encoded data removed]",
      "text/plain": [
       "<Figure size 432x288 with 1 Axes>"
      ]
     },
     "metadata": {
      "needs_background": "light"
     },
     "output_type": "display_data"
    }
   ],
   "source": [
    "import matplotlib.pyplot as plt\n",
    "#print plot_arr\n",
    "plt.plot(beta)\n",
    "plt.show()"
   ]
  },
  {
   "cell_type": "code",
   "execution_count": null,
   "metadata": {},
   "outputs": [],
   "source": []
  }
 ],
 "metadata": {
  "kernelspec": {
   "display_name": "Python 3",
   "language": "python",
   "name": "python3"
  },
  "language_info": {
   "codemirror_mode": {
    "name": "ipython",
    "version": 3
   },
   "file_extension": ".py",
   "mimetype": "text/x-python",
   "name": "python",
   "nbconvert_exporter": "python",
   "pygments_lexer": "ipython3",
   "version": "3.6.6+"
  }
 },
 "nbformat": 4,
 "nbformat_minor": 2
}
