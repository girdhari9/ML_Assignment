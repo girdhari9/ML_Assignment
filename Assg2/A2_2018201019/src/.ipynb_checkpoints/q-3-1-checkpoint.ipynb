{
 "cells": [
  {
   "cell_type": "markdown",
   "metadata": {},
   "source": [
    "#### Name: Giridhari Lal Gupta\n",
    "##### Roll Number : 2018201019\n",
    "### Linear Regression\n",
    "##### Data set downloaded from : http://preon.iiit.ac.in/~sanjoy_chowdhury/AdmissionDataset.zip"
   ]
  },
  {
   "cell_type": "markdown",
   "metadata": {},
   "source": [
    "# Code Section"
   ]
  },
  {
   "cell_type": "markdown",
   "metadata": {},
   "source": [
    "### Import-Libraries"
   ]
  },
  {
   "cell_type": "code",
   "execution_count": 177,
   "metadata": {},
   "outputs": [],
   "source": [
    "import sys\n",
    "import csv\n",
    "import math\n",
    "import operator \n",
    "import pandas as pd\n",
    "import numpy as np\n",
    "import random\n",
    "import matplotlib.pyplot as plt"
   ]
  },
  {
   "cell_type": "markdown",
   "metadata": {},
   "source": [
    "### Train-Test Data"
   ]
  },
  {
   "cell_type": "code",
   "execution_count": 178,
   "metadata": {},
   "outputs": [],
   "source": [
    "def train_test_split(df, test_size):\n",
    "    if isinstance(test_size, float):\n",
    "        test_size = round(test_size * len(df))\n",
    "    indices = df.index.tolist()\n",
    "    test_indices = random.sample(population=indices, k=test_size)\n",
    "    \n",
    "    test_df = df.loc[test_indices]\n",
    "    train_df = df.drop(test_indices)\n",
    "    return train_df, test_df"
   ]
  },
  {
   "cell_type": "code",
   "execution_count": 179,
   "metadata": {},
   "outputs": [],
   "source": [
    "def LinearRegression(dataFrame):\n",
    "    data = dataFrame.values\n",
    "    ones = np.ones((len(data),1))\n",
    "    data = np.append(ones, data, axis=1)\n",
    "    return data"
   ]
  },
  {
   "cell_type": "code",
   "execution_count": 180,
   "metadata": {},
   "outputs": [],
   "source": [
    "def getBeta(data, label):\n",
    "    transData = data.T\n",
    "    inverseData = np.linalg.inv(np.dot(transData, data))\n",
    "    return np.dot(np.dot(inverseData, transData), label)"
   ]
  },
  {
   "cell_type": "code",
   "execution_count": 181,
   "metadata": {},
   "outputs": [],
   "source": [
    "def getLinearLine(beta, data):\n",
    "    return np.dot(data, beta)"
   ]
  },
  {
   "cell_type": "code",
   "execution_count": 182,
   "metadata": {},
   "outputs": [],
   "source": [
    "def getMSE(line, label):\n",
    "    return ((line - label)**2).sum()/len(label)"
   ]
  },
  {
   "cell_type": "code",
   "execution_count": 183,
   "metadata": {},
   "outputs": [],
   "source": [
    "def getMAE(line, label):\n",
    "    return (abs(line - label)).sum()/len(label)"
   ]
  },
  {
   "cell_type": "code",
   "execution_count": 184,
   "metadata": {},
   "outputs": [],
   "source": [
    "def getMPE(line, label):\n",
    "    return (((line - label)/label).sum()/len(label))*100"
   ]
  },
  {
   "cell_type": "code",
   "execution_count": 185,
   "metadata": {},
   "outputs": [],
   "source": [
    "def LinearRegressionAlgo(train):\n",
    "    data = LinearRegression(train)\n",
    "    beta = getBeta(data, trainLabel)\n",
    "    return getLinearLine(beta, data)"
   ]
  },
  {
   "cell_type": "markdown",
   "metadata": {},
   "source": [
    "# Main Function"
   ]
  },
  {
   "cell_type": "code",
   "execution_count": 186,
   "metadata": {},
   "outputs": [],
   "source": [
    "if __name__ == \"__main__\":\n",
    "    df = pd.read_csv(\"../input_data/Q3/AdmissionDataset/data.csv\")\n",
    "    train, test = train_test_split(df, test_size = 0.2)\n",
    "    trainLabel = train['Chance of Admit '] \n",
    "    train = train.drop(['Serial No.','Chance of Admit '], axis = 1)\n",
    "    testLabel = test['Chance of Admit ']\n",
    "    test = test.drop(['Serial No.','Chance of Admit '], axis=1)"
   ]
  },
  {
   "cell_type": "code",
   "execution_count": 187,
   "metadata": {},
   "outputs": [],
   "source": [
    "line = LinearRegressionAlgo(train)"
   ]
  },
  {
   "cell_type": "code",
   "execution_count": 188,
   "metadata": {},
   "outputs": [
    {
     "data": {
      "text/plain": [
       "array([0.61857684, 0.73279282, 0.74871971, 0.88248675, 0.6909639 ,\n",
       "       0.6441997 , 0.69212663, 0.66773687, 0.50674561, 0.81342179,\n",
       "       0.93435587, 0.73413836, 0.96787061, 0.7608555 , 0.88509421,\n",
       "       0.75602652, 0.5071005 , 0.53269595, 0.52978718, 0.63006926,\n",
       "       0.48616931, 0.58829893, 0.82001343, 0.58961073, 0.73374973,\n",
       "       0.61058491, 0.95054709, 0.89797748, 0.8090544 , 0.60345321,\n",
       "       0.7896461 , 0.56723998, 0.57575287, 0.66416398, 0.62096598,\n",
       "       0.76078954, 0.94443174, 0.6387847 , 0.59168809, 0.61733289,\n",
       "       0.55821102, 0.98834494, 0.77140797, 0.63669214, 0.80044513,\n",
       "       0.89184819, 0.63455191, 0.81450984, 0.54621532, 0.61170212,\n",
       "       0.63840373, 0.61764058, 0.87328301, 0.70215788, 0.86895082,\n",
       "       0.6917176 , 0.84022653, 0.88563919, 0.75694889, 0.93860285,\n",
       "       0.83525656, 0.65123809, 0.71368104, 0.93062998, 0.67498333,\n",
       "       0.7156439 , 0.6534695 , 0.8865618 , 0.65596925, 0.66794272,\n",
       "       0.96311118, 0.63570164, 0.72541173, 0.82564597, 0.82239721,\n",
       "       0.87828332, 0.66801362, 0.99204224, 0.89758876, 0.51164494,\n",
       "       0.66578849, 0.52876691, 0.90305932, 0.49856516, 0.65205531,\n",
       "       0.84417356, 0.5875685 , 0.76175073, 0.5315542 , 0.71348144,\n",
       "       0.58275552, 0.49796292, 0.90890788, 0.88161663, 0.58723075,\n",
       "       0.87233522, 0.67087724, 0.82387058, 0.94295578, 0.66216434,\n",
       "       0.60366241, 0.51227095, 0.50718032, 0.61989711, 0.85170908,\n",
       "       0.68358777, 0.61402757, 0.7312718 , 0.7809652 , 0.64367221,\n",
       "       0.59703217, 0.67817592, 0.8164238 , 0.84004313, 0.59866639,\n",
       "       0.64889227, 0.62495894, 0.68020537, 0.64224196, 0.915028  ,\n",
       "       0.72929047, 0.77135316, 0.54711011, 0.81457908, 0.83463552,\n",
       "       0.87304857, 0.67363328, 0.65164968, 0.8217344 , 0.74982923,\n",
       "       0.57261568, 0.64940891, 0.72058695, 0.5624035 , 0.59444236,\n",
       "       0.71550051, 0.68746876, 0.57731933, 0.81013728, 0.82223623,\n",
       "       0.55387415, 0.90319035, 0.70527746, 0.74279913, 0.80129562,\n",
       "       0.86067098, 0.57501126, 0.78222297, 0.74724705, 0.65887118,\n",
       "       0.73581265, 0.75987685, 0.75040565, 0.57970296, 0.93510035,\n",
       "       0.82525624, 0.80403149, 0.50561548, 0.60520208, 0.54299724,\n",
       "       0.9415542 , 0.69655325, 0.69979568, 0.53878282, 0.68981642,\n",
       "       0.64267397, 0.6492364 , 0.77409859, 0.41990804, 0.92566473,\n",
       "       0.83407015, 0.81385587, 0.73118043, 0.7962842 , 0.98933918,\n",
       "       0.8345037 , 0.90806239, 0.57578869, 0.77716569, 0.77679365,\n",
       "       0.77296212, 0.78364156, 0.917275  , 0.80931762, 0.78249224,\n",
       "       0.43424433, 0.88314201, 0.59805162, 0.77861513, 0.94340143,\n",
       "       0.78855892, 0.70654034, 0.76332821, 0.59911512, 0.83508411,\n",
       "       0.71531936, 0.66906059, 0.97092591, 0.81596381, 0.79150886,\n",
       "       0.63508499, 0.84521411, 0.6470262 , 0.55868022, 0.96032521,\n",
       "       0.67628037, 0.69591771, 0.6246551 , 0.72253218, 0.54801436,\n",
       "       0.45786893, 0.72167596, 0.8203245 , 0.82616968, 0.67447174,\n",
       "       0.84158919, 0.81076301, 0.95762028, 0.62419563, 0.56917666,\n",
       "       0.64625798, 0.63528592, 0.9334433 , 0.60302118, 0.63260766,\n",
       "       0.71535892, 0.58573792, 0.85074173, 0.60836866, 0.95730743,\n",
       "       0.65835972, 0.84883382, 0.46710605, 0.73902346, 0.68742425,\n",
       "       0.59582318, 0.70818807, 0.61243511, 0.68317695, 0.53307931,\n",
       "       0.47252417, 0.6551276 , 0.57679863, 0.84560214, 0.68767179,\n",
       "       0.85147725, 1.00251701, 0.7496583 , 0.65161852, 0.78020151,\n",
       "       0.6807991 , 0.7995942 , 0.73988239, 0.52938324, 0.63332279,\n",
       "       0.80223806, 0.54822968, 0.63820484, 0.771594  , 0.50289858,\n",
       "       0.77115622, 0.69514115, 0.64182546, 0.74969355, 0.73943043,\n",
       "       0.78978641, 0.61920246, 0.92119744, 0.63001623, 0.90946108,\n",
       "       0.85129171, 0.9446434 , 0.84179133, 0.96689538, 0.65506206,\n",
       "       0.62676973, 0.92219414, 0.80555929, 0.72535055, 0.72902727,\n",
       "       0.61932815, 0.55670805, 0.65154719, 0.52395398, 0.68745081,\n",
       "       0.57894119, 0.448581  , 0.61163194, 0.55788758, 0.74305397,\n",
       "       0.65894662, 0.69646083, 0.73598707, 0.90368895, 0.54688439,\n",
       "       0.684727  , 0.73475047, 0.78261713, 0.90710831, 0.71471057,\n",
       "       0.77002557, 0.79936848, 0.43491597, 0.91196636, 0.71014628,\n",
       "       0.78676262, 0.82886178, 0.8720983 , 0.8431714 , 0.61615054,\n",
       "       0.7885442 , 0.74085768, 0.64830064, 0.62777117, 0.70532148,\n",
       "       0.85741864, 0.84899022, 0.5747167 , 0.65779346, 0.78435582,\n",
       "       0.65276438, 0.84163036, 0.91473191, 0.69102301, 0.76904948,\n",
       "       0.63672688, 0.64209557, 0.58310252, 0.48938965, 0.76717344,\n",
       "       0.88050748, 0.466123  , 0.50867915, 0.70349157, 0.93692406,\n",
       "       0.74990197, 0.78370066, 0.67566485, 0.78722691, 0.81849616,\n",
       "       0.5126707 , 0.84429532, 0.64026993, 0.70807151, 0.6792571 ,\n",
       "       0.66181768, 0.62087862, 0.64523676, 0.94849588, 0.71469252,\n",
       "       0.89354679, 0.63795799, 0.46567764, 0.86039926, 0.654703  ,\n",
       "       0.4903831 , 0.8508592 , 0.59191667, 0.70740612, 0.79334347])"
      ]
     },
     "execution_count": 188,
     "metadata": {},
     "output_type": "execute_result"
    }
   ],
   "source": [
    "line"
   ]
  },
  {
   "cell_type": "code",
   "execution_count": 189,
   "metadata": {},
   "outputs": [],
   "source": [
    "testData = LinearRegression(test)"
   ]
  },
  {
   "cell_type": "code",
   "execution_count": 190,
   "metadata": {
    "scrolled": true
   },
   "outputs": [
    {
     "data": {
      "text/plain": [
       "array([0.53074978, 0.53730947, 0.77470342, 0.61780188, 0.65735057,\n",
       "       0.82402408, 0.71483487, 0.48631961, 0.89589963, 0.85386134,\n",
       "       0.71518159, 0.51943153, 0.53160473, 0.75585472, 0.61798828,\n",
       "       0.94153902, 0.75766831, 0.81531823, 0.60859621, 0.7722845 ,\n",
       "       0.58469346, 0.6259891 , 0.73437595, 0.69844581, 0.93070095,\n",
       "       0.66807737, 0.69808921, 0.57180691, 0.8601679 , 0.88818248,\n",
       "       0.66185969, 0.80336408, 0.79260462, 0.80527816, 0.65499675,\n",
       "       0.63343037, 0.88745092, 0.79481774, 0.7355582 , 0.86917294,\n",
       "       0.78952594, 0.91070507, 0.62942742, 0.65621008, 0.83877085,\n",
       "       0.85791191, 0.6703819 , 0.68145616, 0.95352189, 0.83182494,\n",
       "       0.56366604, 0.78282699, 0.96260536, 0.66561526, 0.59548669,\n",
       "       0.62540455, 0.9816739 , 0.96048667, 0.72924887, 0.69374349,\n",
       "       0.91083245, 0.70351183, 0.51367741, 0.55087474, 0.65827566,\n",
       "       0.86195031, 0.65115023, 0.86375748, 0.71985   , 0.6137462 ,\n",
       "       0.74191166, 0.50862389, 0.63945974, 0.6713098 , 0.6371118 ,\n",
       "       0.86386988, 0.52428621, 0.55855808, 0.68441054, 0.62250194,\n",
       "       0.71641178, 0.55744051, 0.65261843, 0.76532716, 0.76504795,\n",
       "       0.71176401, 0.77577525, 0.83660713, 0.59290186, 0.55995385])"
      ]
     },
     "execution_count": 190,
     "metadata": {},
     "output_type": "execute_result"
    }
   ],
   "source": [
    "np.dot(testData, beta)"
   ]
  },
  {
   "cell_type": "code",
   "execution_count": 192,
   "metadata": {},
   "outputs": [],
   "source": [
    "MSE = getMSE(line, trainLabel)"
   ]
  },
  {
   "cell_type": "code",
   "execution_count": null,
   "metadata": {},
   "outputs": [],
   "source": [
    "MAE = getMAE(line, trainLabel)"
   ]
  },
  {
   "cell_type": "code",
   "execution_count": null,
   "metadata": {},
   "outputs": [],
   "source": [
    "MAE"
   ]
  },
  {
   "cell_type": "code",
   "execution_count": null,
   "metadata": {},
   "outputs": [],
   "source": [
    "MSE"
   ]
  },
  {
   "cell_type": "code",
   "execution_count": 193,
   "metadata": {},
   "outputs": [],
   "source": [
    "MPE = getMPE(line, trainLabel)"
   ]
  },
  {
   "cell_type": "code",
   "execution_count": null,
   "metadata": {},
   "outputs": [],
   "source": [
    "MPE"
   ]
  },
  {
   "cell_type": "code",
   "execution_count": null,
   "metadata": {},
   "outputs": [],
   "source": [
    "beta"
   ]
  },
  {
   "cell_type": "code",
   "execution_count": null,
   "metadata": {},
   "outputs": [],
   "source": []
  }
 ],
 "metadata": {
  "kernelspec": {
   "display_name": "Python 3",
   "language": "python",
   "name": "python3"
  },
  "language_info": {
   "codemirror_mode": {
    "name": "ipython",
    "version": 3
   },
   "file_extension": ".py",
   "mimetype": "text/x-python",
   "name": "python",
   "nbconvert_exporter": "python",
   "pygments_lexer": "ipython3",
   "version": "3.6.6+"
  }
 },
 "nbformat": 4,
 "nbformat_minor": 2
}
