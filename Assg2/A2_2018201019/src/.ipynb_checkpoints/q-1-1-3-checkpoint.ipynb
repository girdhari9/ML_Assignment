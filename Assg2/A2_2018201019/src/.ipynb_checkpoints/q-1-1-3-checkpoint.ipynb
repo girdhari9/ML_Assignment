{
 "cells": [
  {
   "cell_type": "markdown",
   "metadata": {},
   "source": [
    "#### Name: Giridhari Lal Gupta\n",
    "##### Roll Number : 2018201019\n",
    "### K-NN Algorithm\n",
    "##### Data set downloaded from : http://preon.iiit.ac.in/~sanjoy_chowdhury/Iris.zip http://preon.iiit.ac.in/~sanjoy_chowdhury/RobotDataset.zip"
   ]
  },
  {
   "cell_type": "markdown",
   "metadata": {},
   "source": [
    "# Code Section"
   ]
  },
  {
   "cell_type": "markdown",
   "metadata": {},
   "source": [
    "### Import-Libraries"
   ]
  },
  {
   "cell_type": "code",
   "execution_count": 1,
   "metadata": {},
   "outputs": [],
   "source": [
    "import sys\n",
    "import math\n",
    "import operator \n",
    "import pandas as pd\n",
    "import numpy as np\n",
    "from numpy import *\n",
    "import random\n",
    "import matplotlib.pyplot as plt"
   ]
  },
  {
   "cell_type": "markdown",
   "metadata": {},
   "source": [
    "### Train-Test Data"
   ]
  },
  {
   "cell_type": "code",
   "execution_count": 2,
   "metadata": {},
   "outputs": [],
   "source": [
    "def train_test_split(df, test_size):\n",
    "    if isinstance(test_size, float):\n",
    "        test_size = round(test_size * len(df))\n",
    "    indices = df.index.tolist()\n",
    "    test_indices = random.sample(population=indices, k=test_size)\n",
    "    \n",
    "    test_df = df.loc[test_indices]\n",
    "    train_df = df.drop(test_indices)\n",
    "    return train_df, test_df"
   ]
  },
  {
   "cell_type": "markdown",
   "metadata": {},
   "source": [
    "# Euclidean Distance"
   ]
  },
  {
   "cell_type": "code",
   "execution_count": 3,
   "metadata": {},
   "outputs": [],
   "source": [
    "def euclideanDistance(instance1, instance2, attributes):\n",
    "    distance = 0.0\n",
    "    for attribute in range(attributes):\n",
    "        distance += pow((instance1[attribute]-instance2[attribute]), 2)\n",
    "    return distance"
   ]
  },
  {
   "cell_type": "markdown",
   "metadata": {},
   "source": [
    "# K-Neighbours Selection"
   ]
  },
  {
   "cell_type": "code",
   "execution_count": 4,
   "metadata": {},
   "outputs": [],
   "source": [
    "def neighboutsSelection(train, test, k, length):\n",
    "    trainData = train.values\n",
    "    distanceSet = []\n",
    "    for index in range(len(train)):\n",
    "        distance = euclideanDistance(trainData[index], test.values[0], length)\n",
    "        distanceSet.append([trainData[index], distance])\n",
    "    distanceSet.sort(key = operator.itemgetter(1))\n",
    "    neighbours = []\n",
    "    for index in range(k):\n",
    "        neighbours.append(distanceSet[index][0])\n",
    "    return neighbours"
   ]
  },
  {
   "cell_type": "markdown",
   "metadata": {},
   "source": [
    "# Predict Function"
   ]
  },
  {
   "cell_type": "code",
   "execution_count": 5,
   "metadata": {},
   "outputs": [],
   "source": [
    "def predictLabel(neighbours, labelIndex, uniqueValues):\n",
    "    labels = {}\n",
    "    for x in uniqueValues:\n",
    "        labels[x] = 0\n",
    "    for index in range(len(neighbours)):\n",
    "        labels[neighbours[index][labelIndex - 1]] += 1\n",
    "    sortedLabels = sorted(labels.items(), key = operator.itemgetter(1), reverse = True)\n",
    "    return sortedLabels[0][0]"
   ]
  },
  {
   "cell_type": "markdown",
   "metadata": {},
   "source": [
    "# Evaluating Test Data"
   ]
  },
  {
   "cell_type": "code",
   "execution_count": 6,
   "metadata": {},
   "outputs": [],
   "source": [
    "def evaluateTestData(train, test, k, length):\n",
    "    predictData = []\n",
    "    for index in range(len(test)):\n",
    "        neighbours = neighboutsSelection(train, test.iloc[[index]], k, length)\n",
    "        predictData.append([test.iloc[[index]], predictLabel(neighbours, len(train.iloc[0]), uniqueValues)])\n",
    "    return predictData"
   ]
  },
  {
   "cell_type": "markdown",
   "metadata": {},
   "source": [
    "# Evaluate Predict Data"
   ]
  },
  {
   "cell_type": "code",
   "execution_count": 7,
   "metadata": {},
   "outputs": [],
   "source": [
    "def evaluatePredictData(predictData, testLen, uniqueValues):\n",
    "    correct = 0\n",
    "    TP, FP, FN = 0, 0, 0\n",
    "    for data in predictData:\n",
    "        if str(data[-2][1].values[0]) == str(data[1]):\n",
    "            correct += 1\n",
    "            if str(uniqueValues[0]) == str(data[1]):\n",
    "                TP += 1\n",
    "            else:\n",
    "                FP += 1\n",
    "        elif not str(uniqueValues[0]) == str(data[1]):\n",
    "            FN += 1\n",
    "    print(\"Accuracy : \",correct/testLen)\n",
    "    X = TP + FN\n",
    "    Y = TP + FP\n",
    "    Recall, Precision = 1, 1\n",
    "    if X:\n",
    "        Recall = TP/ X\n",
    "    if Y:\n",
    "        Precision = TP/ Y\n",
    "    print(\"\\nRecall is : \", Recall)\n",
    "    print(\"\\nPrecision is : \", Precision)\n",
    "    if Precision or Recall:\n",
    "        print(\"\\nF1 Score is : \", (2 * (Recall * Precision))/ (Recall + Precision))"
   ]
  },
  {
   "cell_type": "markdown",
   "metadata": {},
   "source": [
    "# Main Function"
   ]
  },
  {
   "cell_type": "code",
   "execution_count": 8,
   "metadata": {},
   "outputs": [],
   "source": [
    "if __name__ == \"__main__\":\n",
    "    df = pd.read_csv('../input_data/Q1/RobotDataset/Robot2', sep=\" \", header=None)\n",
    "    target = 1\n",
    "    df = df.drop([0, 8], axis = 1)\n",
    "    temp = df[1]\n",
    "    df = df.drop([1], axis = 1)\n",
    "    df = df.join(temp)\n",
    "    train, test = train_test_split(df, test_size = 0.2)\n",
    "    uniqueValues = np.unique(train[target]) "
   ]
  },
  {
   "cell_type": "code",
   "execution_count": 9,
   "metadata": {},
   "outputs": [],
   "source": [
    "predictData = evaluateTestData(train, test, 9, len(df.columns)-1)"
   ]
  },
  {
   "cell_type": "markdown",
   "metadata": {},
   "source": [
    "## PART 1 : Implement a KNN classifier, Report precision, recall, f1 score and accuracy."
   ]
  },
  {
   "cell_type": "code",
   "execution_count": 10,
   "metadata": {},
   "outputs": [
    {
     "name": "stdout",
     "output_type": "stream",
     "text": [
      "Accuracy :  0.8333333333333334\n",
      "\n",
      "Recall is :  0.9166666666666666\n",
      "\n",
      "Precision is :  0.55\n",
      "\n",
      "F1 Score is :  0.6874999999999999\n"
     ]
    }
   ],
   "source": [
    "evaluatePredictData(predictData, len(test), uniqueValues)"
   ]
  },
  {
   "cell_type": "markdown",
   "metadata": {},
   "source": [
    "## PART 2 : Plot graph to report accuracy with change in value of K."
   ]
  },
  {
   "cell_type": "code",
   "execution_count": 11,
   "metadata": {
    "scrolled": true
   },
   "outputs": [
    {
     "data": {
      "image/png": "[encoded data removed]",
      "text/plain": [
       "<Figure size 432x288 with 1 Axes>"
      ]
     },
     "metadata": {
      "needs_background": "light"
     },
     "output_type": "display_data"
    }
   ],
   "source": [
    "Accuracy = []\n",
    "for x in range(1, 20):\n",
    "    predictData = evaluateTestData(train, test, x, len(df.columns)-1)\n",
    "    correct = 0\n",
    "    for data in predictData:\n",
    "        if str(data[-2][1].values[0]) == str(data[1]):\n",
    "            correct += 1\n",
    "    acc =  correct/len(test)\n",
    "    Accuracy.append(acc)\n",
    "k = np.arange(1, 20, 1)\n",
    "plt.plot(k, Accuracy)\n",
    "plt.title('Accuracy vs K-Neighbours')\n",
    "plt.grid(True)\n",
    "plt.ylabel('Accuracy')\n",
    "plt.xlabel('K')\n",
    "plt.show()"
   ]
  },
  {
   "cell_type": "code",
   "execution_count": null,
   "metadata": {},
   "outputs": [],
   "source": []
  }
 ],
 "metadata": {
  "kernelspec": {
   "display_name": "Python 3",
   "language": "python",
   "name": "python3"
  },
  "language_info": {
   "codemirror_mode": {
    "name": "ipython",
    "version": 3
   },
   "file_extension": ".py",
   "mimetype": "text/x-python",
   "name": "python",
   "nbconvert_exporter": "python",
   "pygments_lexer": "ipython3",
   "version": "3.6.6+"
  }
 },
 "nbformat": 4,
 "nbformat_minor": 2
}
