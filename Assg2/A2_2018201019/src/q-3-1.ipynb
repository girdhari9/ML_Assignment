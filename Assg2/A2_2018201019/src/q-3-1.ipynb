{
 "cells": [
  {
   "cell_type": "markdown",
   "metadata": {},
   "source": [
    "#### Name: Giridhari Lal Gupta\n",
    "##### Roll Number : 2018201019\n",
    "### Linear Regression\n",
    "##### Data set downloaded from : http://preon.iiit.ac.in/~sanjoy_chowdhury/AdmissionDataset.zip"
   ]
  },
  {
   "cell_type": "markdown",
   "metadata": {},
   "source": [
    "# Code Section"
   ]
  },
  {
   "cell_type": "markdown",
   "metadata": {},
   "source": [
    "### Import-Libraries"
   ]
  },
  {
   "cell_type": "code",
   "execution_count": 2,
   "metadata": {},
   "outputs": [],
   "source": [
    "import sys\n",
    "import csv\n",
    "import math\n",
    "import operator \n",
    "import pandas as pd\n",
    "import numpy as np\n",
    "import random\n",
    "import matplotlib.pyplot as plt"
   ]
  },
  {
   "cell_type": "markdown",
   "metadata": {},
   "source": [
    "### Train-Test Data"
   ]
  },
  {
   "cell_type": "code",
   "execution_count": 3,
   "metadata": {},
   "outputs": [],
   "source": [
    "def train_test_split(df, test_size):\n",
    "    if isinstance(test_size, float):\n",
    "        test_size = round(test_size * len(df))\n",
    "    indices = df.index.tolist()\n",
    "    test_indices = random.sample(population=indices, k=test_size)\n",
    "    \n",
    "    test_df = df.loc[test_indices]\n",
    "    train_df = df.drop(test_indices)\n",
    "    return train_df, test_df"
   ]
  },
  {
   "cell_type": "code",
   "execution_count": 4,
   "metadata": {},
   "outputs": [],
   "source": [
    "def LinearRegression(dataFrame):\n",
    "    data = dataFrame.values\n",
    "    ones = np.ones((len(data),1))\n",
    "    data = np.append(ones, data, axis=1)\n",
    "    return data"
   ]
  },
  {
   "cell_type": "code",
   "execution_count": 5,
   "metadata": {},
   "outputs": [],
   "source": [
    "def getBeta(data, label):\n",
    "    transData = data.T\n",
    "    inverseData = np.linalg.inv(np.dot(transData, data))\n",
    "    return np.dot(np.dot(inverseData, transData), label)"
   ]
  },
  {
   "cell_type": "code",
   "execution_count": 6,
   "metadata": {},
   "outputs": [],
   "source": [
    "def getLinearLine(beta, data):\n",
    "    return np.dot(data, beta)"
   ]
  },
  {
   "cell_type": "code",
   "execution_count": 7,
   "metadata": {},
   "outputs": [],
   "source": [
    "def getMSE(line, label):\n",
    "    return ((line - label)**2).sum()/len(label)"
   ]
  },
  {
   "cell_type": "code",
   "execution_count": 8,
   "metadata": {},
   "outputs": [],
   "source": [
    "def getMAE(line, label):\n",
    "    return (abs(line - label)).sum()/len(label)"
   ]
  },
  {
   "cell_type": "code",
   "execution_count": 9,
   "metadata": {},
   "outputs": [],
   "source": [
    "def getMPE(line, label):\n",
    "    return (((line - label)/label).sum()/len(label))*100"
   ]
  },
  {
   "cell_type": "code",
   "execution_count": 10,
   "metadata": {},
   "outputs": [],
   "source": [
    "def LinearRegressionAlgo(train):\n",
    "    data = LinearRegression(train)\n",
    "    beta = getBeta(data, trainLabel)\n",
    "    return getLinearLine(beta, data)"
   ]
  },
  {
   "cell_type": "markdown",
   "metadata": {},
   "source": [
    "# Main Function"
   ]
  },
  {
   "cell_type": "code",
   "execution_count": 11,
   "metadata": {},
   "outputs": [],
   "source": [
    "if __name__ == \"__main__\":\n",
    "    df = pd.read_csv(\"../input_data/Q3/AdmissionDataset/data.csv\")\n",
    "    train, test = train_test_split(df, test_size = 0.2)\n",
    "    trainLabel = train['Chance of Admit '] \n",
    "    train = train.drop(['Serial No.','Chance of Admit '], axis = 1)\n",
    "    testLabel = test['Chance of Admit ']\n",
    "    test = test.drop(['Serial No.','Chance of Admit '], axis=1)"
   ]
  },
  {
   "cell_type": "code",
   "execution_count": 12,
   "metadata": {},
   "outputs": [],
   "source": [
    "line = LinearRegressionAlgo(train)"
   ]
  },
  {
   "cell_type": "code",
   "execution_count": 14,
   "metadata": {},
   "outputs": [],
   "source": [
    "testData = LinearRegression(test)"
   ]
  },
  {
   "cell_type": "code",
   "execution_count": 16,
   "metadata": {},
   "outputs": [],
   "source": [
    "data = LinearRegression(train)\n",
    "beta = getBeta(data, trainLabel)\n",
    "line = getLinearLine(beta, data)"
   ]
  },
  {
   "cell_type": "code",
   "execution_count": 17,
   "metadata": {
    "scrolled": true
   },
   "outputs": [
    {
     "data": {
      "text/plain": [
       "array([0.82889419, 0.6971841 , 0.69367585, 0.47031164, 0.73052186,\n",
       "       0.65166172, 0.53024953, 0.47234701, 0.93895963, 0.55082899,\n",
       "       0.71867444, 0.70136023, 0.66907078, 0.82059069, 0.64124352,\n",
       "       0.55142441, 0.65099011, 0.63723608, 0.94325392, 0.93468985,\n",
       "       0.7206314 , 0.57558848, 0.94590536, 0.98515508, 0.71734851,\n",
       "       0.91550417, 0.62706985, 0.87276859, 0.53044924, 0.65642214,\n",
       "       0.60882531, 0.91258261, 0.67107346, 0.57531389, 0.51872253,\n",
       "       0.70912436, 0.67970979, 0.85661772, 0.81269275, 0.68529648,\n",
       "       0.67794227, 0.83534945, 0.631206  , 0.90380291, 0.77925153,\n",
       "       0.87707466, 0.63082974, 0.52127348, 0.66151428, 0.67613391,\n",
       "       0.58228688, 0.80946221, 0.71566469, 0.67571197, 0.95083037,\n",
       "       0.65049937, 0.48727517, 0.65327405, 0.80369305, 0.6167019 ,\n",
       "       0.52553322, 0.58715293, 0.78602872, 0.5342488 , 0.61458144,\n",
       "       0.99488273, 0.51049495, 0.71768459, 0.71119328, 0.65366993,\n",
       "       0.60561009, 0.65025763, 0.8124396 , 0.74954533, 0.5358744 ,\n",
       "       0.68716799, 0.81514692, 0.8072255 , 0.94093873, 0.53571446,\n",
       "       0.80193874, 0.6855684 , 0.92247195, 0.79145498, 0.74159446,\n",
       "       0.53248333, 0.6596525 , 0.90946537, 0.63979545, 0.70720144])"
      ]
     },
     "execution_count": 17,
     "metadata": {},
     "output_type": "execute_result"
    }
   ],
   "source": [
    "np.dot(testData, beta)"
   ]
  },
  {
   "cell_type": "code",
   "execution_count": 18,
   "metadata": {},
   "outputs": [],
   "source": [
    "MSE = getMSE(line, trainLabel)"
   ]
  },
  {
   "cell_type": "code",
   "execution_count": 19,
   "metadata": {},
   "outputs": [],
   "source": [
    "MAE = getMAE(line, trainLabel)"
   ]
  },
  {
   "cell_type": "code",
   "execution_count": 20,
   "metadata": {},
   "outputs": [
    {
     "data": {
      "text/plain": [
       "0.041432145646056864"
      ]
     },
     "execution_count": 20,
     "metadata": {},
     "output_type": "execute_result"
    }
   ],
   "source": [
    "MAE"
   ]
  },
  {
   "cell_type": "code",
   "execution_count": 21,
   "metadata": {},
   "outputs": [
    {
     "data": {
      "text/plain": [
       "0.003380764467212768"
      ]
     },
     "execution_count": 21,
     "metadata": {},
     "output_type": "execute_result"
    }
   ],
   "source": [
    "MSE"
   ]
  },
  {
   "cell_type": "code",
   "execution_count": 23,
   "metadata": {},
   "outputs": [],
   "source": [
    "MPE = getMPE(line, trainLabel)"
   ]
  },
  {
   "cell_type": "code",
   "execution_count": 24,
   "metadata": {},
   "outputs": [
    {
     "data": {
      "text/plain": [
       "0.9520068259250382"
      ]
     },
     "execution_count": 24,
     "metadata": {},
     "output_type": "execute_result"
    }
   ],
   "source": [
    "MPE"
   ]
  },
  {
   "cell_type": "code",
   "execution_count": null,
   "metadata": {},
   "outputs": [],
   "source": [
    "beta"
   ]
  },
  {
   "cell_type": "code",
   "execution_count": null,
   "metadata": {},
   "outputs": [],
   "source": []
  }
 ],
 "metadata": {
  "kernelspec": {
   "display_name": "Python 3",
   "language": "python",
   "name": "python3"
  },
  "language_info": {
   "codemirror_mode": {
    "name": "ipython",
    "version": 3
   },
   "file_extension": ".py",
   "mimetype": "text/x-python",
   "name": "python",
   "nbconvert_exporter": "python",
   "pygments_lexer": "ipython3",
   "version": "3.6.7"
  }
 },
 "nbformat": 4,
 "nbformat_minor": 2
}
