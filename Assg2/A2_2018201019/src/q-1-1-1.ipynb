{
 "cells": [
  {
   "cell_type": "markdown",
   "metadata": {},
   "source": [
    "#### Name: Giridhari Lal Gupta\n",
    "##### Roll Number : 2018201019\n",
    "### K-NN Algorithm\n",
    "##### Data set downloaded from : http://preon.iiit.ac.in/~sanjoy_chowdhury/Iris.zip http://preon.iiit.ac.in/~sanjoy_chowdhury/RobotDataset.zip"
   ]
  },
  {
   "cell_type": "markdown",
   "metadata": {},
   "source": [
    "# Code Section"
   ]
  },
  {
   "cell_type": "markdown",
   "metadata": {},
   "source": [
    "### Import-Libraries"
   ]
  },
  {
   "cell_type": "code",
   "execution_count": 13,
   "metadata": {},
   "outputs": [],
   "source": [
    "import sys\n",
    "import math\n",
    "import operator \n",
    "import pandas as pd\n",
    "import numpy as np\n",
    "from numpy import *\n",
    "import random\n",
    "import matplotlib.pyplot as plt"
   ]
  },
  {
   "cell_type": "markdown",
   "metadata": {},
   "source": [
    "### Train-Test Data"
   ]
  },
  {
   "cell_type": "code",
   "execution_count": 14,
   "metadata": {},
   "outputs": [],
   "source": [
    "def train_test_split(df, test_size):\n",
    "    if isinstance(test_size, float):\n",
    "        test_size = round(test_size * len(df))\n",
    "    indices = df.index.tolist()\n",
    "    test_indices = random.sample(population=indices, k=test_size)\n",
    "    \n",
    "    test_df = df.loc[test_indices]\n",
    "    train_df = df.drop(test_indices)\n",
    "    return train_df, test_df"
   ]
  },
  {
   "cell_type": "markdown",
   "metadata": {},
   "source": [
    "# Euclidean Distance"
   ]
  },
  {
   "cell_type": "code",
   "execution_count": 15,
   "metadata": {},
   "outputs": [],
   "source": [
    "def euclideanDistance(instance1, instance2, attributes):\n",
    "    distance = 0.0\n",
    "    for attribute in range(attributes):\n",
    "        x = instance1[attribute]-instance2[attribute]\n",
    "        distance += pow((x), 2)\n",
    "    return math.sqrt(distance)"
   ]
  },
  {
   "cell_type": "markdown",
   "metadata": {},
   "source": [
    "# K-Neighbours Selection"
   ]
  },
  {
   "cell_type": "code",
   "execution_count": 28,
   "metadata": {},
   "outputs": [],
   "source": [
    "def neighboutsSelection(train, test, k, length):\n",
    "    trainData = train.values\n",
    "    distanceSet = []\n",
    "    for index in range(len(train)):\n",
    "        distance = euclideanDistance(trainData[index], test.values[0], length)\n",
    "        distanceSet.append([trainData[index], distance])\n",
    "    distanceSet.sort(key = operator.itemgetter(1))\n",
    "    neighbours = []\n",
    "    for index in range(k):\n",
    "        x = 0\n",
    "        neighbours.append(distanceSet[index][0])\n",
    "    return neighbours"
   ]
  },
  {
   "cell_type": "markdown",
   "metadata": {},
   "source": [
    "# Predict Function"
   ]
  },
  {
   "cell_type": "code",
   "execution_count": 17,
   "metadata": {},
   "outputs": [],
   "source": [
    "def predictLabel(neighbours, labelIndex, uniqueValues):\n",
    "    labels = {}\n",
    "    for x in uniqueValues:\n",
    "        labels[x] = 0\n",
    "    for index in range(len(neighbours)):\n",
    "        labels[neighbours[index][labelIndex - 1]] += 1\n",
    "    sortedLabels = sorted(labels.items(), key = operator.itemgetter(1), reverse = True)\n",
    "    return sortedLabels[0][0]"
   ]
  },
  {
   "cell_type": "markdown",
   "metadata": {},
   "source": [
    "# Evaluating Test Data"
   ]
  },
  {
   "cell_type": "code",
   "execution_count": 18,
   "metadata": {},
   "outputs": [],
   "source": [
    "def evaluateTestData(train, test, k, length):\n",
    "    predictData = []\n",
    "    for index in range(len(test)):\n",
    "        neighbours = neighboutsSelection(train, test.iloc[[index]], k, length)\n",
    "        x = 0\n",
    "        predictData.append([test.iloc[[index]], predictLabel(neighbours, len(train.iloc[0]), uniqueValues)])\n",
    "    return predictData"
   ]
  },
  {
   "cell_type": "markdown",
   "metadata": {},
   "source": [
    "# Evaluate Predict Data"
   ]
  },
  {
   "cell_type": "code",
   "execution_count": 19,
   "metadata": {},
   "outputs": [],
   "source": [
    "def evaluatePredictData(predictData, testLen, uniqueValues):\n",
    "    correct = 0\n",
    "    TP, FP, FN = 0, 0, 0\n",
    "    for data in predictData:\n",
    "        if str(data[-2]['label'].values[0]) == str(data[1]):\n",
    "            correct += 1\n",
    "            if str(uniqueValues[0]) == str(data[1]):\n",
    "                TP += 1\n",
    "            else:\n",
    "                FP += 1\n",
    "        elif not str(uniqueValues[0]) == str(data[1]):\n",
    "            FN += 1\n",
    "    print(\"Accuracy : \",correct/testLen)\n",
    "    X = TP + FN\n",
    "    Y = TP + FP\n",
    "    Recall, Precision = 1, 1\n",
    "    if X:\n",
    "        Recall = TP/ X\n",
    "    if Y:\n",
    "        Precision = TP/ Y\n",
    "    print(\"\\nRecall is : \", Recall)\n",
    "    print(\"\\nPrecision is : \", Precision)\n",
    "    if Precision or Recall:\n",
    "        print(\"\\nF1 Score is : \", (2 * (Recall * Precision))/ (Recall + Precision))"
   ]
  },
  {
   "cell_type": "markdown",
   "metadata": {},
   "source": [
    "# Main Function"
   ]
  },
  {
   "cell_type": "code",
   "execution_count": 26,
   "metadata": {},
   "outputs": [],
   "source": [
    "if __name__ == \"__main__\":\n",
    "    df = pd.read_csv(\"../input_data/Q1/Iris/Iris.csv\")\n",
    "    target = \"label\"\n",
    "    train, test = train_test_split(df, test_size = 0.2)\n",
    "    uniqueValues = np.unique(train[target])   "
   ]
  },
  {
   "cell_type": "code",
   "execution_count": 29,
   "metadata": {},
   "outputs": [],
   "source": [
    "predictData = evaluateTestData(train, test, 10, len(df.columns)-1)"
   ]
  },
  {
   "cell_type": "code",
   "execution_count": 30,
   "metadata": {},
   "outputs": [
    {
     "data": {
      "text/plain": [
       "[[    sepal_length  sepal_width  petal_length  petal_width           label\n",
       "  90           6.5          3.2           5.1          2.0  Iris-virginica,\n",
       "  'Iris-virginica'],\n",
       " [   sepal_length  sepal_width  petal_length  petal_width           label\n",
       "  9           6.0          2.2           5.0          1.5  Iris-virginica,\n",
       "  'Iris-virginica'],\n",
       " [    sepal_length  sepal_width  petal_length  petal_width        label\n",
       "  81           4.8          3.4           1.9          0.2  Iris-setosa,\n",
       "  'Iris-setosa'],\n",
       " [     sepal_length  sepal_width  petal_length  petal_width            label\n",
       "  105           6.1          2.9           4.7          1.4  Iris-versicolor,\n",
       "  'Iris-versicolor'],\n",
       " [    sepal_length  sepal_width  petal_length  petal_width        label\n",
       "  61           5.1          3.4           1.5          0.2  Iris-setosa,\n",
       "  'Iris-setosa'],\n",
       " [     sepal_length  sepal_width  petal_length  petal_width           label\n",
       "  119           6.3          2.9           5.6          1.8  Iris-virginica,\n",
       "  'Iris-virginica'],\n",
       " [   sepal_length  sepal_width  petal_length  petal_width        label\n",
       "  0           5.1          3.5           1.4          0.2  Iris-setosa,\n",
       "  'Iris-setosa'],\n",
       " [     sepal_length  sepal_width  petal_length  petal_width           label\n",
       "  106           6.4          3.2           5.3          2.3  Iris-virginica,\n",
       "  'Iris-virginica'],\n",
       " [    sepal_length  sepal_width  petal_length  petal_width           label\n",
       "  19           6.3          2.5           5.0          1.9  Iris-virginica,\n",
       "  'Iris-virginica'],\n",
       " [    sepal_length  sepal_width  petal_length  petal_width           label\n",
       "  31           7.7          2.8           6.7          2.0  Iris-virginica,\n",
       "  'Iris-virginica'],\n",
       " [     sepal_length  sepal_width  petal_length  petal_width           label\n",
       "  128           6.8          3.2           5.9          2.3  Iris-virginica,\n",
       "  'Iris-virginica'],\n",
       " [    sepal_length  sepal_width  petal_length  petal_width            label\n",
       "  86           5.2          2.7           3.9          1.4  Iris-versicolor,\n",
       "  'Iris-versicolor'],\n",
       " [    sepal_length  sepal_width  petal_length  petal_width            label\n",
       "  99           5.5          2.5           4.0          1.3  Iris-versicolor,\n",
       "  'Iris-versicolor'],\n",
       " [    sepal_length  sepal_width  petal_length  petal_width            label\n",
       "  75           6.4          3.2           4.5          1.5  Iris-versicolor,\n",
       "  'Iris-versicolor'],\n",
       " [   sepal_length  sepal_width  petal_length  petal_width           label\n",
       "  4           6.4          3.1           5.5          1.8  Iris-virginica,\n",
       "  'Iris-virginica'],\n",
       " [    sepal_length  sepal_width  petal_length  petal_width            label\n",
       "  88           4.9          2.4           3.3          1.0  Iris-versicolor,\n",
       "  'Iris-versicolor'],\n",
       " [    sepal_length  sepal_width  petal_length  petal_width            label\n",
       "  34           5.0          2.0           3.5          1.0  Iris-versicolor,\n",
       "  'Iris-versicolor'],\n",
       " [    sepal_length  sepal_width  petal_length  petal_width        label\n",
       "  37           5.4          3.4           1.5          0.4  Iris-setosa,\n",
       "  'Iris-setosa'],\n",
       " [    sepal_length  sepal_width  petal_length  petal_width            label\n",
       "  56           6.2          2.2           4.5          1.5  Iris-versicolor,\n",
       "  'Iris-versicolor'],\n",
       " [     sepal_length  sepal_width  petal_length  petal_width           label\n",
       "  120           6.2          3.4           5.4          2.3  Iris-virginica,\n",
       "  'Iris-virginica'],\n",
       " [    sepal_length  sepal_width  petal_length  petal_width           label\n",
       "  89           6.3          2.7           4.9          1.8  Iris-virginica,\n",
       "  'Iris-virginica'],\n",
       " [    sepal_length  sepal_width  petal_length  petal_width        label\n",
       "  36           4.7          3.2           1.6          0.2  Iris-setosa,\n",
       "  'Iris-setosa'],\n",
       " [    sepal_length  sepal_width  petal_length  petal_width            label\n",
       "  22           6.3          3.3           4.7          1.6  Iris-versicolor,\n",
       "  'Iris-versicolor'],\n",
       " [    sepal_length  sepal_width  petal_length  petal_width            label\n",
       "  52           6.9          3.1           4.9          1.5  Iris-versicolor,\n",
       "  'Iris-versicolor'],\n",
       " [    sepal_length  sepal_width  petal_length  petal_width        label\n",
       "  95           4.8          3.1           1.6          0.2  Iris-setosa,\n",
       "  'Iris-setosa'],\n",
       " [    sepal_length  sepal_width  petal_length  petal_width            label\n",
       "  74           5.5          2.3           4.0          1.3  Iris-versicolor,\n",
       "  'Iris-versicolor'],\n",
       " [     sepal_length  sepal_width  petal_length  petal_width        label\n",
       "  125           5.1          3.5           1.4          0.3  Iris-setosa,\n",
       "  'Iris-setosa']]"
      ]
     },
     "execution_count": 30,
     "metadata": {},
     "output_type": "execute_result"
    }
   ],
   "source": [
    "predictData"
   ]
  },
  {
   "cell_type": "markdown",
   "metadata": {},
   "source": [
    "## PART 1 : Implement a KNN classifier, Report precision, recall, f1 score and accuracy."
   ]
  },
  {
   "cell_type": "code",
   "execution_count": 22,
   "metadata": {},
   "outputs": [
    {
     "name": "stdout",
     "output_type": "stream",
     "text": [
      "Accuracy :  0.9629629629629629\n",
      "\n",
      "Recall is :  0.8571428571428571\n",
      "\n",
      "Precision is :  0.23076923076923078\n",
      "\n",
      "F1 Score is :  0.36363636363636365\n"
     ]
    }
   ],
   "source": [
    "evaluatePredictData(predictData, len(test), uniqueValues)"
   ]
  },
  {
   "cell_type": "markdown",
   "metadata": {},
   "source": [
    "## PART 2 : Plot graph to report accuracy with change in value of K."
   ]
  },
  {
   "cell_type": "code",
   "execution_count": 23,
   "metadata": {
    "scrolled": true
   },
   "outputs": [],
   "source": [
    "Accuracy = []\n",
    "for x in range(1, 30, 2):\n",
    "    predictData = evaluateTestData(train, test, x, len(df.columns)-1)\n",
    "    correct = 0\n",
    "    for data in predictData:\n",
    "        if str(data[-2]['label'].values[0]) == str(data[1]):\n",
    "            correct += 1\n",
    "    acc =  correct/len(test)\n",
    "    Accuracy.append(acc)"
   ]
  },
  {
   "cell_type": "code",
   "execution_count": 24,
   "metadata": {},
   "outputs": [
    {
     "data": {
      "image/png": "[encoded data removed]",
      "text/plain": [
       "<Figure size 432x288 with 1 Axes>"
      ]
     },
     "metadata": {
      "needs_background": "light"
     },
     "output_type": "display_data"
    }
   ],
   "source": [
    "k = np.arange(1, 30, 2)\n",
    "plt.plot(k, Accuracy)\n",
    "plt.title('Accuracy vs K-Neighbours')\n",
    "plt.grid(True)\n",
    "plt.ylabel('Accuracy')\n",
    "plt.xlabel('K')\n",
    "plt.show()"
   ]
  },
  {
   "cell_type": "code",
   "execution_count": null,
   "metadata": {},
   "outputs": [],
   "source": []
  }
 ],
 "metadata": {
  "kernelspec": {
   "display_name": "Python 3",
   "language": "python",
   "name": "python3"
  },
  "language_info": {
   "codemirror_mode": {
    "name": "ipython",
    "version": 3
   },
   "file_extension": ".py",
   "mimetype": "text/x-python",
   "name": "python",
   "nbconvert_exporter": "python",
   "pygments_lexer": "ipython3",
   "version": "3.6.7"
  }
 },
 "nbformat": 4,
 "nbformat_minor": 2
}
